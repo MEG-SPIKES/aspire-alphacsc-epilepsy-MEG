{
 "cells": [
  {
   "cell_type": "code",
   "execution_count": 1,
   "metadata": {
    "collapsed": true,
    "pycharm": {
     "name": "#%%\n"
    }
   },
   "outputs": [],
   "source": [
    "import matplotlib.pylab as plt\n",
    "import mne\n",
    "import numpy as np\n",
    "import pandas as pd\n",
    "import seaborn as sns\n",
    "import xarray as xr\n",
    "from megspikes.scoring.scoring import distance_to_resection_hull\n",
    "from megspikes.database.database import check_and_read_from_dataset\n",
    "\n",
    "from analysis.utils.plot_paper_images import fig4_one_row\n",
    "from analysis.utils.utils import setup_case_manager\n",
    "\n",
    "%load_ext autoreload\n",
    "%autoreload 2"
   ]
  },
  {
   "cell_type": "code",
   "execution_count": 2,
   "outputs": [],
   "source": [
    "case = setup_case_manager(1)\n",
    "save_path = case.root.parent / 'Results'\n",
    "save_path.mkdir(exist_ok=True)"
   ],
   "metadata": {
    "collapsed": false,
    "pycharm": {
     "name": "#%%\n"
    }
   }
  },
  {
   "cell_type": "markdown",
   "source": [
    "## Figure 4"
   ],
   "metadata": {
    "collapsed": false
   }
  },
  {
   "cell_type": "code",
   "execution_count": null,
   "outputs": [],
   "source": [
    "fig4_table = pd.DataFrame(columns=[\n",
    "    'case', 'case_name', 'detection_type', 'n_sources_resection', 'n_sources',\n",
    "    'n_sources_to_n_sources_resection', 'distance_resection'])\n",
    "\n",
    "n = 0\n",
    "\n",
    "for subj in range(1, 8):\n",
    "    case = setup_case_manager(subj)\n",
    "\n",
    "    resection = np.load(\n",
    "        case.basic_folders['resection mask'].with_name('resection.npy'))\n",
    "    resection_stc = np.load(\n",
    "        case.basic_folders['resection mask'].with_name('resection_stc.npy'))\n",
    "\n",
    "    clusters_auto = xr.open_dataset(\n",
    "        case.cluster_dataset.with_name(f'{case.case}_clusters_manually_checked.nc'))\n",
    "\n",
    "    fwd_mni = clusters_auto.fwd_mni_coordinates.values\n",
    "\n",
    "    manual_stc = np.load(case.basic_folders['MANUAL'] / 'manual_stc.npy')\n",
    "    peak_stc = clusters_auto.iz_prediction.loc[:, 'peak'].values\n",
    "    slope_stc = clusters_auto.iz_prediction.loc[:, 'slope'].values\n",
    "\n",
    "    if sum(slope_stc > 0) == 0:\n",
    "        dist_resection_to_slope = np.NAN\n",
    "    else:\n",
    "        dist_resection_to_slope = distance_to_resection_hull(\n",
    "            fwd_mni[resection_stc > 0], fwd_mni[slope_stc > 0])\n",
    "    dist_resection_to_peak = distance_to_resection_hull(\n",
    "        fwd_mni[resection_stc > 0], fwd_mni[peak_stc > 0])\n",
    "    dist_resection_to_manual = distance_to_resection_hull(\n",
    "        fwd_mni[resection_stc > 0], fwd_mni[manual_stc > 0])\n",
    "\n",
    "    fig4_table, n = fig4_one_row(n, case, fig4_table, subj, 'manual', fwd_mni,\n",
    "                                 resection_stc,  manual_stc, dist_resection_to_manual)\n",
    "\n",
    "    fig4_table, n = fig4_one_row(n, case, fig4_table, subj, 'slope', fwd_mni,\n",
    "                                 resection_stc,  slope_stc, dist_resection_to_slope)\n",
    "\n",
    "    fig4_table, n = fig4_one_row(n, case, fig4_table, subj, 'peak', fwd_mni,\n",
    "                                 resection_stc,  peak_stc, dist_resection_to_peak)\n",
    "\n"
   ],
   "metadata": {
    "collapsed": false,
    "pycharm": {
     "name": "#%%\n"
    }
   }
  },
  {
   "cell_type": "markdown",
   "source": [
    "#### Save table with results"
   ],
   "metadata": {
    "collapsed": false,
    "pycharm": {
     "name": "#%% md\n"
    }
   }
  },
  {
   "cell_type": "code",
   "execution_count": null,
   "outputs": [],
   "source": [
    "fig4_table.to_excel(save_path / \"figure_4_table.xlsx\", index=False)\n"
   ],
   "metadata": {
    "collapsed": false,
    "pycharm": {
     "name": "#%%\n"
    }
   }
  },
  {
   "cell_type": "markdown",
   "source": [
    "#### Plot figure 4"
   ],
   "metadata": {
    "collapsed": false
   }
  },
  {
   "cell_type": "code",
   "execution_count": null,
   "outputs": [],
   "source": [
    "sns.set(style=\"whitegrid\",font_scale=2)\n",
    "\n",
    "fig4_table.rename(\n",
    "    columns={'n_sources_to_n_sources_resection': 'N sources\\ndetection to\\nresection'},\n",
    "    inplace=True)\n",
    "f, ax = plt.subplots(figsize=(15, 15))\n",
    "dy = 'detection_type'\n",
    "dx = 'distance_resection'\n",
    "ort=\"h\"\n",
    "pal = \"Set2\"\n",
    "size = 'N sources\\ndetection to\\nresection'\n",
    "\n",
    "ax= sns.scatterplot(x=dx, y=dy, data=fig4_table, hue='case', size=size,\n",
    "                    zorder = 10, palette=pal, sizes=(1,1500), alpha=.6)\n",
    "\n",
    "plt.setp(ax.get_legend().get_texts(), fontsize='12') # for legend text\n",
    "plt.setp(ax.get_legend().get_title(), fontsize='32') # for legend title\n",
    "ax.legend(loc='upper right',ncol=1, bbox_to_anchor=(1.25, 1)) # , title=\"Title\"\n",
    "\n",
    "\n",
    "\n",
    "ax=sns.boxplot(x=dx, y=dy, data=fig4_table, color=\"black\",\n",
    "        width=.15, zorder=0, showcaps=True,\n",
    "        boxprops = {'facecolor':'none', \"zorder\":10}, showfliers=True,\n",
    "        whiskerprops = {'linewidth':2, \"zorder\":10},\n",
    "        saturation=1, orient=ort)\n",
    "\n",
    "for case, color in zip(range(1,8), sns.color_palette(pal, n_colors=8, as_cmap=True).colors):\n",
    "    ax.plot(fig4_table.loc[fig4_table['case']==case, 'distance_resection'], [0, 1, 2],\n",
    "            lw=3, c=color, alpha=0.4)\n",
    "\n",
    "\n",
    "plt.tight_layout()\n",
    "plt.axvline(20, 0, 1, c='r')\n",
    "plt.savefig(save_path / 'Figure_4_results.png', dpi=300)"
   ],
   "metadata": {
    "collapsed": false,
    "pycharm": {
     "name": "#%%\n"
    }
   }
  },
  {
   "cell_type": "markdown",
   "source": [
    "## Figure 5"
   ],
   "metadata": {
    "collapsed": false,
    "pycharm": {
     "name": "#%% md\n"
    }
   }
  },
  {
   "cell_type": "code",
   "execution_count": null,
   "outputs": [],
   "source": [
    "df = pd.DataFrame([], columns=['case', 'case_name', 'sensors', 'cluster', 'n_events',\n",
    "                          'distance', 'peak_evoked', 'peak_sources'])\n",
    "n = 0\n",
    "for subj in range(1, 8):\n",
    "    case = setup_case_manager(subj)\n",
    "    ds = xr.open_dataset(\n",
    "        case.cluster_dataset.with_name(f'{case.case}_clusters_manually_checked.nc'))\n",
    "\n",
    "    trans = mne.read_trans(\n",
    "        case.basic_folders['forward_model'] / 'checked_visually_trans.fif')\n",
    "    fwd = mne.read_forward_solution(\n",
    "        case.basic_folders['forward_model'] / 'forward_ico5.fif')\n",
    "\n",
    "    info = mne.io.read_info(case.fif_file)\n",
    "    info_grad = mne.pick_info(info, mne.pick_types(info, meg='grad'))\n",
    "    info_mag = mne.pick_info(info, mne.pick_types(info, meg='mag'))\n",
    "\n",
    "    clusters_ids = check_and_read_from_dataset(\n",
    "        ds, 'cluster_properties',\n",
    "        dict(cluster_property=['cluster_id']), dtype=np.int64)\n",
    "\n",
    "    for cluster in clusters_ids.flatten():\n",
    "        df.loc[n, 'case'] = subj\n",
    "        df.loc[n, 'case_name'] = case.case\n",
    "        df.loc[n, 'cluster'] = cluster\n",
    "\n",
    "        sensors = check_and_read_from_dataset(\n",
    "            ds, 'cluster_properties',\n",
    "            dict(cluster_property=['sensors'], cluster=cluster), dtype=np.int64)\n",
    "\n",
    "        sensors_name = 'grad' if sensors == 0 else 'mag'\n",
    "        df.loc[n, 'sensors'] = sensors_name\n",
    "        info = info_grad if sensors == 0 else info_mag\n",
    "\n",
    "        time_peak = check_and_read_from_dataset(\n",
    "            ds, 'cluster_properties',\n",
    "            dict(cluster_property=['time_peak'], cluster=cluster), dtype=np.int64)\n",
    "\n",
    "        df.loc[n, 'n_events'] = check_and_read_from_dataset(\n",
    "            ds, 'cluster_properties',\n",
    "            dict(cluster_property=['n_events'], cluster=cluster), dtype=np.int64).flatten()[0]\n",
    "\n",
    "        evoked = check_and_read_from_dataset(ds, 'evoked', dict(cluster=cluster))\n",
    "        evoked = evoked[ds.channel_names.attrs[sensors_name].tolist(), :]\n",
    "\n",
    "        stc = check_and_read_from_dataset(\n",
    "            ds, 'mne_localization', dict(cluster=cluster, sensors=sensors_name))\n",
    "\n",
    "        # Find a channel with max amplitude at the peak for the cluster\n",
    "        max_ch_inx = np.abs(evoked[:, time_peak]).argmax()\n",
    "\n",
    "        chs_meg = info['chs'][max_ch_inx]['loc'][:3]\n",
    "        chs_head = mne.transforms.apply_trans(\n",
    "            info['dev_head_t']['trans'], chs_meg, move=True)\n",
    "        chs_mni = mne.head_to_mni(\n",
    "            chs_head, mri_head_t=trans, subject=case.case,\n",
    "            subjects_dir=case.freesurfer_dir)\n",
    "\n",
    "        # Find a source with max amplitude at the peak for the cluster\n",
    "        vertices = [i['vertno'] for i in fwd['src']]\n",
    "        max_src_inx = np.abs(stc[:, time_peak]).argmax()\n",
    "        hemi = 0 if max_src_inx < len(vertices[0]) else 1\n",
    "        max_src_inx = max_src_inx if hemi == 0 else max_src_inx - len(vertices[0])\n",
    "        stc_mni = mne.vertex_to_mni(\n",
    "            vertices[hemi][max_src_inx], hemis=hemi, subject=case.case,\n",
    "            subjects_dir=case.freesurfer_dir)\n",
    "\n",
    "        # Find a distance between max channel and max source in the mni space\n",
    "        dist = np.linalg.norm(chs_mni - stc_mni, ord=2, axis=0)\n",
    "\n",
    "        df.loc[n, 'distance'] = dist\n",
    "        df.loc[n, 'peak_evoked'] = np.abs(evoked[max_ch_inx, time_peak]).flatten()[0]\n",
    "        df.loc[n, 'peak_sources'] = np.abs(stc[np.abs(stc[:, time_peak]).argmax(), time_peak]).flatten()[0]\n",
    "        n += 1"
   ],
   "metadata": {
    "collapsed": false,
    "pycharm": {
     "name": "#%%\n"
    }
   }
  },
  {
   "cell_type": "markdown",
   "source": [
    "#### Save table with results"
   ],
   "metadata": {
    "collapsed": false,
    "pycharm": {
     "name": "#%% md\n"
    }
   }
  },
  {
   "cell_type": "code",
   "execution_count": null,
   "outputs": [],
   "source": [
    "df.to_excel(save_path / \"figure_5_table_channel_dist_power.xlsx\", index=False)\n"
   ],
   "metadata": {
    "collapsed": false,
    "pycharm": {
     "name": "#%%\n"
    }
   }
  },
  {
   "cell_type": "markdown",
   "source": [
    "#### Prepare the table for plotting"
   ],
   "metadata": {
    "collapsed": false
   }
  },
  {
   "cell_type": "code",
   "execution_count": null,
   "outputs": [],
   "source": [
    "df.loc[:, 'peak_sources'] = df.loc[:, 'peak_sources'] * 1e+10\n",
    "df.loc[:, 'n_events'] = np.float64(df.loc[:, 'n_events'].values)\n",
    "df.loc[:, 'distance'] = np.float64(df.loc[:, 'distance'].values)\n",
    "df.loc[:, 'peak_sources'] = np.float64(df.loc[:, 'peak_sources'].values)\n",
    "df.loc[:, 'peak_evoked'] = np.float64(df.loc[:, 'peak_evoked'].values)\n",
    "\n",
    "df.rename(columns={\"distance\": \"Distance (mm)\",\n",
    "                   \"sensors\": \"Sensors\",\n",
    "                   \"peak_sources\": \"Activation AU\",\n",
    "                   \"n_events\": \"N events\",\n",
    "                   \"case\": \"Case\"}, inplace=True)\n",
    "\n",
    "df_grad = df.loc[df['Sensors']=='grad', :]\n",
    "df_mag = df.loc[df['Sensors']=='mag', :]\n",
    "# SEE: https://mne.tools/dev/glossary.html\n",
    "df_grad.loc[:, \"peak_evoked\"] = np.abs(df_grad.loc[:, \"peak_evoked\"]) * 1e+13\n",
    "df_mag.loc[:, \"peak_evoked\"] = np.abs(df_mag.loc[:, \"peak_evoked\"]) * 1e+15\n"
   ],
   "metadata": {
    "collapsed": false,
    "pycharm": {
     "name": "#%%\n"
    }
   }
  },
  {
   "cell_type": "markdown",
   "source": [
    "#### Plot figure 5"
   ],
   "metadata": {
    "collapsed": false
   }
  },
  {
   "cell_type": "code",
   "execution_count": null,
   "outputs": [],
   "source": [
    "sns.set(style=\"whitegrid\",font_scale=2)\n",
    "df_mean = df.groupby(['Case', 'Sensors']).mean()\n",
    "f, ax = plt.subplots(figsize=(10, 9))\n",
    "sns.scatterplot(data=df_mean, x=\"Distance (mm)\", y=\"Activation AU\",\n",
    "                hue=\"Case\",  size='N events', palette=\"Set2\",\n",
    "                style=\"Sensors\", markers = {\"grad\": \"s\", \"mag\": \"o\"},\n",
    "                sizes=(50,1300), alpha=.6, ax=ax)\n",
    "ax.legend(bbox_to_anchor=(1.05, 1), loc=2, borderaxespad=0.4)\n",
    "plt.tight_layout()\n",
    "plt.savefig(save_path / 'Figure_5_distance_sources_mean_atoms.png', dpi=300)"
   ],
   "metadata": {
    "collapsed": false,
    "pycharm": {
     "name": "#%%\n"
    }
   }
  },
  {
   "cell_type": "markdown",
   "source": [
    "## Supplementary: all cases STC"
   ],
   "metadata": {
    "collapsed": false,
    "pycharm": {
     "name": "#%% md\n"
    }
   }
  },
  {
   "cell_type": "code",
   "execution_count": null,
   "outputs": [],
   "source": [
    "from utils.plot_paper_images import stc_surfaces\n",
    "from megspikes.localization.localization import array_to_stc\n",
    "import matplotlib.backends.backend_pdf\n",
    "\n",
    "supplementary_fname = save_path / 'Supplementary_all_cases.pdf'\n",
    "\n",
    "pdf = matplotlib.backends.backend_pdf.PdfPages(str(supplementary_fname))\n",
    "\n",
    "for subj in range(1, 8):\n",
    "    case = setup_case_manager(subj)\n",
    "\n",
    "    resection_stc = np.load(\n",
    "        case.basic_folders['resection mask'].with_name('resection_stc.npy'))\n",
    "\n",
    "    clusters_auto = xr.open_dataset(\n",
    "        case.cluster_dataset.with_name(f'{case.case}_clusters_manually_checked.nc'))\n",
    "\n",
    "    manual_stc = np.load(case.basic_folders['MANUAL'] / 'manual_stc.npy')\n",
    "    peak_stc = clusters_auto.iz_prediction.loc[:, 'peak'].values\n",
    "    slope_stc = clusters_auto.iz_prediction.loc[:, 'slope'].values\n",
    "\n",
    "    fig = stc_surfaces(\n",
    "        case.freesurfer_dir,\n",
    "        array_to_stc(resection_stc, case.fwd['ico5'], case.case),\n",
    "        array_to_stc(manual_stc, case.fwd['ico5'], case.case),\n",
    "        array_to_stc(peak_stc, case.fwd['ico5'], case.case),\n",
    "        array_to_stc(slope_stc, case.fwd['ico5'], case.case))\n",
    "\n",
    "    pdf.savefig(fig)\n",
    "pdf.close()"
   ],
   "metadata": {
    "collapsed": false,
    "pycharm": {
     "name": "#%%\n",
     "is_executing": true
    }
   }
  },
  {
   "cell_type": "code",
   "execution_count": null,
   "outputs": [],
   "source": [],
   "metadata": {
    "collapsed": false,
    "pycharm": {
     "name": "#%%\n"
    }
   }
  }
 ],
 "metadata": {
  "kernelspec": {
   "name": "megspikes-pipeline",
   "language": "python",
   "display_name": "megspikes-pipeline"
  },
  "language_info": {
   "codemirror_mode": {
    "name": "ipython",
    "version": 2
   },
   "file_extension": ".py",
   "mimetype": "text/x-python",
   "name": "python",
   "nbconvert_exporter": "python",
   "pygments_lexer": "ipython2",
   "version": "2.7.6"
  }
 },
 "nbformat": 4,
 "nbformat_minor": 0
}