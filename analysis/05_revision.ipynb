{
 "cells": [
  {
   "cell_type": "code",
   "execution_count": null,
   "metadata": {},
   "outputs": [],
   "source": [
    "import logging\n",
    "import warnings\n",
    "\n",
    "import mne\n",
    "import xarray as xr\n",
    "import pandas as pd\n",
    "import numpy as np\n",
    "import seaborn as sns\n",
    "import matplotlib.pylab as plt\n",
    "\n",
    "from megspikes.visualization.visualization import (DetectionsViewer,\n",
    "                                                   ClusterSlopeViewer)\n",
    "\n",
    "from megspikes.scoring.scoring import distance_to_resection_hull\n",
    "\n",
    "from utils.utils import setup_case_manager\n",
    "from utils.plot_paper_images import fig4_one_row\n",
    "\n",
    "warnings.filterwarnings(\"ignore\", category=DeprecationWarning)\n",
    "%load_ext autoreload\n",
    "%autoreload 2"
   ]
  },
  {
   "cell_type": "markdown",
   "metadata": {},
   "source": [
    "### Kurtosis example"
   ]
  },
  {
   "cell_type": "code",
   "execution_count": null,
   "metadata": {},
   "outputs": [],
   "source": [
    "subj = 4\n",
    "case = setup_case_manager(subj)"
   ]
  },
  {
   "cell_type": "code",
   "execution_count": null,
   "metadata": {},
   "outputs": [],
   "source": [
    "dataset = xr.open_dataset(case.dataset)\n",
    "dataset.ica_component_properties.loc[dict(sensors='mag')]"
   ]
  },
  {
   "cell_type": "code",
   "execution_count": null,
   "metadata": {},
   "outputs": [],
   "source": [
    "pp = DetectionsViewer(dataset, case)\n",
    "pp.time = (700, 720)"
   ]
  },
  {
   "cell_type": "code",
   "execution_count": null,
   "metadata": {},
   "outputs": [],
   "source": [
    "app = pp.view_ica()\n",
    "app.show()"
   ]
  },
  {
   "cell_type": "code",
   "execution_count": null,
   "metadata": {},
   "outputs": [],
   "source": [
    "app = pp.view_ica_sources_and_peaks()\n",
    "app.show()"
   ]
  },
  {
   "cell_type": "code",
   "execution_count": null,
   "metadata": {},
   "outputs": [],
   "source": []
  },
  {
   "cell_type": "markdown",
   "metadata": {},
   "source": [
    "### More slope points"
   ]
  },
  {
   "cell_type": "code",
   "execution_count": null,
   "metadata": {},
   "outputs": [],
   "source": [
    "save_path = case.root.parent / 'Results'"
   ]
  },
  {
   "cell_type": "code",
   "execution_count": null,
   "metadata": {},
   "outputs": [],
   "source": [
    "fig4_table = pd.DataFrame(columns=[\n",
    "    'case', 'case_name', 'detection_type', 'n_sources_resection', 'n_sources',\n",
    "    'n_sources_to_n_sources_resection', 'distance_resection'])\n",
    "\n",
    "n = 0\n",
    "\n",
    "for subj in range(1, 8):\n",
    "    case = setup_case_manager(subj)\n",
    "\n",
    "    resection = np.load(\n",
    "        case.basic_folders['resection mask'].with_name('resection.npy'))\n",
    "    resection_stc = np.load(\n",
    "        case.basic_folders['resection mask'].with_name('resection_stc.npy'))\n",
    "\n",
    "    clusters_auto = xr.open_dataset(\n",
    "        case.cluster_dataset.with_name(f'{case.case}_clusters_manually_checked.nc'))\n",
    "\n",
    "    fwd_mni = clusters_auto.fwd_mni_coordinates.values\n",
    "\n",
    "    manual_stc = np.load(case.basic_folders['MANUAL'] / 'manual_stc.npy')\n",
    "    \n",
    "    dist_resection_to_manual = distance_to_resection_hull(\n",
    "    fwd_mni[resection_stc > 0], fwd_mni[manual_stc > 0])\n",
    "\n",
    "    fig4_table, n = fig4_one_row(n, case, fig4_table, subj, 'manual', fwd_mni,\n",
    "                                 resection_stc,  manual_stc, dist_resection_to_manual)\n",
    "    \n",
    "    pc = ClusterSlopeViewer(clusters_auto, case)\n",
    "    \n",
    "    baseline = clusters_auto.cluster_properties.loc[\n",
    "        dict(cluster_property=\"time_baseline\")].values\n",
    "    slope_manual = clusters_auto.cluster_properties.loc[\n",
    "        dict(cluster_property=\"time_slope\")].values\n",
    "    peak = clusters_auto.cluster_properties.loc[\n",
    "        dict(cluster_property=\"time_peak\")].values\n",
    "    \n",
    "    # split the slope between baseline and peak in 10 steps for each cluster\n",
    "    n_steps = 11\n",
    "    step = (peak - baseline)/n_steps\n",
    "    \n",
    "    for i in range(1, n_steps+1):\n",
    "        # update the slope time\n",
    "        if i < 6:\n",
    "            step = (slope_manual - baseline)/6 # (n_steps / 2)\n",
    "            time_slope = baseline + step * i\n",
    "            label = f'slope {i}'\n",
    "        elif i == 6:\n",
    "            label = 'slope' #  manual 50%\n",
    "            time_slope = slope_manual\n",
    "        else:\n",
    "            step = (peak - slope_manual)/5 #(n_steps / 2)\n",
    "            time_slope = slope_manual + step * (i - 6) #(i - n_steps / 2)\n",
    "            label = f'slope {i - 1}' if i < (n_steps) else 'peak'\n",
    "        \n",
    "        if subj == 1: print(label, time_slope)\n",
    "        \n",
    "        # rerun iz_prediction\n",
    "        pc.data.clusters_properties.time_slope = time_slope\n",
    "        pc._rerun_iz_prediction()\n",
    "        \n",
    "        slope_stc = pc.data.ds.iz_prediction.loc[:, 'slope'].values\n",
    "        \n",
    "        if sum(slope_stc > 0) == 0:\n",
    "            dist_resection_to_slope = np.NAN\n",
    "        else:\n",
    "            dist_resection_to_slope = distance_to_resection_hull(\n",
    "                fwd_mni[resection_stc > 0], fwd_mni[slope_stc > 0])\n",
    "        \n",
    "        \n",
    "        \n",
    "        fig4_table, n = fig4_one_row(n, case, fig4_table, subj, label, fwd_mni,\n",
    "                                     resection_stc,  slope_stc, dist_resection_to_slope)\n",
    "\n",
    "fig4_table.to_excel(save_path / \"figure_4_table.xlsx\", index=False)"
   ]
  },
  {
   "cell_type": "code",
   "execution_count": null,
   "metadata": {},
   "outputs": [],
   "source": []
  },
  {
   "cell_type": "markdown",
   "metadata": {},
   "source": [
    "#### Plot figure 4"
   ]
  },
  {
   "cell_type": "code",
   "execution_count": null,
   "metadata": {},
   "outputs": [],
   "source": [
    "fig4_table = pd.read_excel(save_path / \"figure_4_table.xlsx\")"
   ]
  },
  {
   "cell_type": "code",
   "execution_count": null,
   "metadata": {
    "scrolled": true
   },
   "outputs": [],
   "source": [
    "sns.set(style=\"whitegrid\",font_scale=2)\n",
    "\n",
    "fig4_table.rename(\n",
    "    columns={'n_sources_to_n_sources_resection': 'N sources\\ndetection to\\nresection'},\n",
    "    inplace=True)\n",
    "f, ax = plt.subplots(figsize=(15, 15))\n",
    "dy = 'detection_type'\n",
    "dx = 'distance_resection'\n",
    "ort=\"h\"\n",
    "pal = \"Set2\"\n",
    "size = 'N sources\\ndetection to\\nresection'\n",
    "\n",
    "ax= sns.scatterplot(x=dx, y=dy, data=fig4_table, hue='case', size=size,\n",
    "                    zorder = 10, palette=pal, sizes=(1,1500), alpha=.6)\n",
    "\n",
    "plt.setp(ax.get_legend().get_texts(), fontsize='12') # for legend text\n",
    "plt.setp(ax.get_legend().get_title(), fontsize='32') # for legend title\n",
    "ax.legend(loc='upper right',ncol=1, bbox_to_anchor=(1.25, 1)) # , title=\"Title\"\n",
    "\n",
    "\n",
    "\n",
    "ax=sns.boxplot(x=dx, y=dy, data=fig4_table, color=\"black\",\n",
    "        width=.15, zorder=0, showcaps=True,\n",
    "        boxprops = {'facecolor':'none', \"zorder\":10}, showfliers=True,\n",
    "        whiskerprops = {'linewidth':2, \"zorder\":10}, whis=[0.01, 99.99],\n",
    "        saturation=1, orient=ort)\n",
    "\n",
    "for case, color in zip(range(1,8), sns.color_palette(pal, n_colors=8, as_cmap=True).colors):\n",
    "    ax.plot(fig4_table.loc[fig4_table['case']==case, 'distance_resection'], [i for i in range(12)],\n",
    "            lw=3, c=color, alpha=0.4)\n",
    "\n",
    "ax.set(ylabel='IZ estimation', xlabel='distance to resection margin [mm]')\n",
    "ax.set(xlim=(None, 60))\n",
    "plt.tight_layout()\n",
    "plt.axvline(20, 0, 1, c='r')\n",
    "plt.savefig(save_path / 'Figure_4_more_slope_points.png', dpi=300)"
   ]
  },
  {
   "cell_type": "code",
   "execution_count": null,
   "metadata": {},
   "outputs": [],
   "source": []
  }
 ],
 "metadata": {
  "kernelspec": {
   "display_name": "megspikes-pipeline",
   "language": "python",
   "name": "megspikes-pipeline"
  },
  "language_info": {
   "codemirror_mode": {
    "name": "ipython",
    "version": 3
   },
   "file_extension": ".py",
   "mimetype": "text/x-python",
   "name": "python",
   "nbconvert_exporter": "python",
   "pygments_lexer": "ipython3",
   "version": "3.7.11"
  }
 },
 "nbformat": 4,
 "nbformat_minor": 1
}
