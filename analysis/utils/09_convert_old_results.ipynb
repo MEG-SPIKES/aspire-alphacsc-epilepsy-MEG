{
 "cells": [
  {
   "cell_type": "code",
   "execution_count": 11,
   "metadata": {},
   "outputs": [],
   "source": [
    "import mne\n",
    "import numpy as np\n",
    "import xarray as xr\n",
    "\n",
    "from megspikes.pipeline import (iz_prediction_pipeline,\n",
    "                                read_detection_iz_prediction_pipeline)\n",
    "from .utils import setup_case_manager\n",
    "from .convert_from_nix_format import convert_clusters_from_nix_format\n",
    "from megspikes.database.database import (check_and_read_from_dataset,\n",
    "                                         check_and_write_to_dataset)\n",
    "from megspikes.localization.localization import PredictIZClusters\n",
    "from megspikes.visualization.visualization import ClusterSlopeViewer\n",
    "from megspikes.utils import prepare_data"
   ]
  },
  {
   "cell_type": "code",
   "execution_count": null,
   "metadata": {
    "pycharm": {
     "name": "#%%\n",
     "is_executing": true
    }
   },
   "outputs": [],
   "source": [
    "subj = 6\n",
    "\n",
    "case = setup_case_manager(subj)\n",
    "raw = mne.io.read_raw_fif(case.fif_file)"
   ]
  },
  {
   "cell_type": "code",
   "execution_count": 21,
   "outputs": [],
   "source": [
    "path = case.cluster_dataset.with_name(f'{case.case}_clusters_manually_checked.nc')\n",
    "with xr.open_dataset(path) as ds:\n",
    "    clusters_checked = ds.load()"
   ],
   "metadata": {
    "collapsed": false,
    "pycharm": {
     "name": "#%%\n"
    }
   }
  },
  {
   "cell_type": "code",
   "execution_count": 22,
   "outputs": [
    {
     "data": {
      "text/plain": "465"
     },
     "execution_count": 22,
     "metadata": {},
     "output_type": "execute_result"
    }
   ],
   "source": [
    "(clusters_checked.iz_prediction.loc[:, 'peak'].values > 0).sum()"
   ],
   "metadata": {
    "collapsed": false,
    "pycharm": {
     "name": "#%%\n"
    }
   }
  },
  {
   "cell_type": "code",
   "execution_count": null,
   "outputs": [],
   "source": [
    "case.manual_cluster_dataset"
   ],
   "metadata": {
    "collapsed": false,
    "pycharm": {
     "name": "#%%\n",
     "is_executing": true
    }
   }
  },
  {
   "cell_type": "markdown",
   "metadata": {},
   "source": [
    "Convert cluster results"
   ]
  },
  {
   "cell_type": "code",
   "execution_count": null,
   "metadata": {
    "pycharm": {
     "name": "#%%\n",
     "is_executing": true
    }
   },
   "outputs": [],
   "source": [
    "for subj in [6]:\n",
    "    case = setup_case_manager(subj)\n",
    "    raw = mne.io.read_raw_fif(case.fif_file, preload=True)\n",
    "    raw_filt = prepare_data(raw.copy(), meg=True, filtering=[2, 90, 50], resample=None, alpha_notch=None)\n",
    "    clusters, pc = convert_clusters_from_nix_format(case, raw_filt)"
   ]
  },
  {
   "cell_type": "code",
   "execution_count": 14,
   "metadata": {
    "pycharm": {
     "name": "#%%\n"
    }
   },
   "outputs": [
    {
     "data": {
      "text/plain": "839"
     },
     "execution_count": 14,
     "metadata": {},
     "output_type": "execute_result"
    }
   ],
   "source": [
    "predict = PredictIZClusters(\n",
    "            case=case,\n",
    "            sensors=True,\n",
    "            smoothing_steps_one_cluster=3,\n",
    "            smoothing_steps_final=10,\n",
    "            amplitude_threshold=0.5,\n",
    "            min_sources=10)\n",
    "clusters, _ = predict.fit_transform((clusters, None))\n",
    "(clusters.iz_prediction.loc[:, 'peak'].values > 0).sum()"
   ]
  },
  {
   "cell_type": "code",
   "execution_count": 16,
   "metadata": {
    "pycharm": {
     "name": "#%%\n"
    }
   },
   "outputs": [
    {
     "data": {
      "text/plain": "134"
     },
     "execution_count": 16,
     "metadata": {},
     "output_type": "execute_result"
    }
   ],
   "source": [
    "(clusters.iz_prediction.loc[:, 'slope'].values > 0).sum()"
   ]
  },
  {
   "cell_type": "code",
   "execution_count": null,
   "metadata": {
    "pycharm": {
     "name": "#%%\n"
    }
   },
   "outputs": [],
   "source": []
  },
  {
   "cell_type": "code",
   "execution_count": null,
   "metadata": {
    "pycharm": {
     "name": "#%%\n",
     "is_executing": true
    },
    "scrolled": false
   },
   "outputs": [],
   "source": [
    "%matplotlib qt5\n",
    "\n",
    "\n",
    "path = case.cluster_dataset.with_name(f'{case.case}_clusters_results_converted.nc')\n",
    "with xr.open_dataset(path) as ds:\n",
    "    clusters_checked = ds.load()\n",
    "    \n",
    "pc = ClusterSlopeViewer(clusters_checked, case)\n",
    "app = pc.view()\n",
    "app"
   ]
  },
  {
   "cell_type": "code",
   "execution_count": null,
   "metadata": {
    "pycharm": {
     "name": "#%%\n",
     "is_executing": true
    }
   },
   "outputs": [],
   "source": [
    "(clusters_checked.iz_prediction.loc[:, 'peak'].values > 0).sum()"
   ]
  },
  {
   "cell_type": "code",
   "execution_count": null,
   "outputs": [],
   "source": [],
   "metadata": {
    "collapsed": false,
    "pycharm": {
     "name": "#%%\n"
    }
   }
  }
 ],
 "metadata": {
  "kernelspec": {
   "display_name": "megspikes-pipeline",
   "language": "python",
   "name": "megspikes-pipeline"
  },
  "language_info": {
   "codemirror_mode": {
    "name": "ipython",
    "version": 3
   },
   "file_extension": ".py",
   "mimetype": "text/x-python",
   "name": "python",
   "nbconvert_exporter": "python",
   "pygments_lexer": "ipython3",
   "version": "3.7.11"
  }
 },
 "nbformat": 4,
 "nbformat_minor": 1
}