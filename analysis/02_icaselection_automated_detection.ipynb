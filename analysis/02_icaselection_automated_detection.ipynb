{
 "cells": [
  {
   "cell_type": "code",
   "execution_count": 1,
   "metadata": {},
   "outputs": [
    {
     "ename": "ImportError",
     "evalue": "cannot import name '_handle_sensor_types' from 'mne.viz._3d' (/home/cdm/miniconda3/envs/megspikes-pipeline/lib/python3.7/site-packages/mne/viz/_3d.py)",
     "output_type": "error",
     "traceback": [
      "\u001b[0;31m---------------------------------------------------------------------------\u001b[0m",
      "\u001b[0;31mImportError\u001b[0m                               Traceback (most recent call last)",
      "\u001b[0;32m/tmp/ipykernel_15943/1348097612.py\u001b[0m in \u001b[0;36m<module>\u001b[0;34m\u001b[0m\n\u001b[1;32m      2\u001b[0m \u001b[0;32mimport\u001b[0m \u001b[0mwarnings\u001b[0m\u001b[0;34m\u001b[0m\u001b[0;34m\u001b[0m\u001b[0m\n\u001b[1;32m      3\u001b[0m \u001b[0;34m\u001b[0m\u001b[0m\n\u001b[0;32m----> 4\u001b[0;31m \u001b[0;32mimport\u001b[0m \u001b[0mmne\u001b[0m\u001b[0;34m\u001b[0m\u001b[0;34m\u001b[0m\u001b[0m\n\u001b[0m\u001b[1;32m      5\u001b[0m \u001b[0;32mimport\u001b[0m \u001b[0mxarray\u001b[0m \u001b[0;32mas\u001b[0m \u001b[0mxr\u001b[0m\u001b[0;34m\u001b[0m\u001b[0;34m\u001b[0m\u001b[0m\n\u001b[1;32m      6\u001b[0m \u001b[0;32mimport\u001b[0m \u001b[0myaml\u001b[0m\u001b[0;34m\u001b[0m\u001b[0;34m\u001b[0m\u001b[0m\n",
      "\u001b[0;32m~/miniconda3/envs/megspikes-pipeline/lib/python3.7/site-packages/mne/__init__.py\u001b[0m in \u001b[0;36m<module>\u001b[0;34m\u001b[0m\n\u001b[1;32m     23\u001b[0m                     \u001b[0mget_config\u001b[0m\u001b[0;34m,\u001b[0m \u001b[0mget_config_path\u001b[0m\u001b[0;34m,\u001b[0m \u001b[0mset_cache_dir\u001b[0m\u001b[0;34m,\u001b[0m\u001b[0;34m\u001b[0m\u001b[0;34m\u001b[0m\u001b[0m\n\u001b[1;32m     24\u001b[0m                     set_memmap_min_size, grand_average, sys_info, open_docs)\n\u001b[0;32m---> 25\u001b[0;31m from .io.pick import (pick_types, pick_channels,\n\u001b[0m\u001b[1;32m     26\u001b[0m                       \u001b[0mpick_channels_regexp\u001b[0m\u001b[0;34m,\u001b[0m \u001b[0mpick_channels_forward\u001b[0m\u001b[0;34m,\u001b[0m\u001b[0;34m\u001b[0m\u001b[0;34m\u001b[0m\u001b[0m\n\u001b[1;32m     27\u001b[0m                       \u001b[0mpick_types_forward\u001b[0m\u001b[0;34m,\u001b[0m \u001b[0mpick_channels_cov\u001b[0m\u001b[0;34m,\u001b[0m\u001b[0;34m\u001b[0m\u001b[0;34m\u001b[0m\u001b[0m\n",
      "\u001b[0;32m~/miniconda3/envs/megspikes-pipeline/lib/python3.7/site-packages/mne/io/__init__.py\u001b[0m in \u001b[0;36m<module>\u001b[0;34m\u001b[0m\n\u001b[1;32m     13\u001b[0m \u001b[0;32mfrom\u001b[0m \u001b[0;34m.\u001b[0m\u001b[0mproj\u001b[0m \u001b[0;32mimport\u001b[0m \u001b[0mmake_eeg_average_ref_proj\u001b[0m\u001b[0;34m,\u001b[0m \u001b[0mProjection\u001b[0m\u001b[0;34m\u001b[0m\u001b[0;34m\u001b[0m\u001b[0m\n\u001b[1;32m     14\u001b[0m \u001b[0;32mfrom\u001b[0m \u001b[0;34m.\u001b[0m\u001b[0mtag\u001b[0m \u001b[0;32mimport\u001b[0m \u001b[0m_loc_to_coil_trans\u001b[0m\u001b[0;34m,\u001b[0m \u001b[0m_coil_trans_to_loc\u001b[0m\u001b[0;34m,\u001b[0m \u001b[0m_loc_to_eeg_loc\u001b[0m\u001b[0;34m\u001b[0m\u001b[0;34m\u001b[0m\u001b[0m\n\u001b[0;32m---> 15\u001b[0;31m \u001b[0;32mfrom\u001b[0m \u001b[0;34m.\u001b[0m\u001b[0mbase\u001b[0m \u001b[0;32mimport\u001b[0m \u001b[0mBaseRaw\u001b[0m\u001b[0;34m\u001b[0m\u001b[0;34m\u001b[0m\u001b[0m\n\u001b[0m\u001b[1;32m     16\u001b[0m \u001b[0;34m\u001b[0m\u001b[0m\n\u001b[1;32m     17\u001b[0m \u001b[0;32mfrom\u001b[0m \u001b[0;34m.\u001b[0m \u001b[0;32mimport\u001b[0m \u001b[0marray\u001b[0m\u001b[0;34m\u001b[0m\u001b[0;34m\u001b[0m\u001b[0m\n",
      "\u001b[0;32m~/miniconda3/envs/megspikes-pipeline/lib/python3.7/site-packages/mne/io/base.py\u001b[0m in \u001b[0;36m<module>\u001b[0;34m\u001b[0m\n\u001b[1;32m     28\u001b[0m \u001b[0;32mfrom\u001b[0m \u001b[0;34m.\u001b[0m\u001b[0mmeas_info\u001b[0m \u001b[0;32mimport\u001b[0m \u001b[0mwrite_meas_info\u001b[0m\u001b[0;34m\u001b[0m\u001b[0;34m\u001b[0m\u001b[0m\n\u001b[1;32m     29\u001b[0m \u001b[0;32mfrom\u001b[0m \u001b[0;34m.\u001b[0m\u001b[0mproj\u001b[0m \u001b[0;32mimport\u001b[0m \u001b[0msetup_proj\u001b[0m\u001b[0;34m,\u001b[0m \u001b[0mactivate_proj\u001b[0m\u001b[0;34m,\u001b[0m \u001b[0m_proj_equal\u001b[0m\u001b[0;34m,\u001b[0m \u001b[0mProjMixin\u001b[0m\u001b[0;34m\u001b[0m\u001b[0;34m\u001b[0m\u001b[0m\n\u001b[0;32m---> 30\u001b[0;31m from ..channels.channels import (ContainsMixin, UpdateChannelsMixin,\n\u001b[0m\u001b[1;32m     31\u001b[0m                                  \u001b[0mSetChannelsMixin\u001b[0m\u001b[0;34m,\u001b[0m \u001b[0mInterpolationMixin\u001b[0m\u001b[0;34m,\u001b[0m\u001b[0;34m\u001b[0m\u001b[0;34m\u001b[0m\u001b[0m\n\u001b[1;32m     32\u001b[0m                                  _unit2human)\n",
      "\u001b[0;32m~/miniconda3/envs/megspikes-pipeline/lib/python3.7/site-packages/mne/channels/__init__.py\u001b[0m in \u001b[0;36m<module>\u001b[0;34m\u001b[0m\n\u001b[1;32m      7\u001b[0m from .layout import (Layout, make_eeg_layout, make_grid_layout, read_layout,\n\u001b[1;32m      8\u001b[0m                      find_layout, generate_2d_layout)\n\u001b[0;32m----> 9\u001b[0;31m from .montage import (DigMontage,\n\u001b[0m\u001b[1;32m     10\u001b[0m                       \u001b[0mget_builtin_montages\u001b[0m\u001b[0;34m,\u001b[0m \u001b[0mmake_dig_montage\u001b[0m\u001b[0;34m,\u001b[0m \u001b[0mread_dig_dat\u001b[0m\u001b[0;34m,\u001b[0m\u001b[0;34m\u001b[0m\u001b[0;34m\u001b[0m\u001b[0m\n\u001b[1;32m     11\u001b[0m                       \u001b[0mread_dig_egi\u001b[0m\u001b[0;34m,\u001b[0m \u001b[0mread_dig_captrak\u001b[0m\u001b[0;34m,\u001b[0m \u001b[0mread_dig_fif\u001b[0m\u001b[0;34m,\u001b[0m\u001b[0;34m\u001b[0m\u001b[0;34m\u001b[0m\u001b[0m\n",
      "\u001b[0;32m~/miniconda3/envs/megspikes-pipeline/lib/python3.7/site-packages/mne/channels/montage.py\u001b[0m in \u001b[0;36m<module>\u001b[0;34m\u001b[0m\n\u001b[1;32m     22\u001b[0m \u001b[0;32mfrom\u001b[0m \u001b[0;34m.\u001b[0m\u001b[0;34m.\u001b[0m\u001b[0mdefaults\u001b[0m \u001b[0;32mimport\u001b[0m \u001b[0mHEAD_SIZE_DEFAULT\u001b[0m\u001b[0;34m\u001b[0m\u001b[0;34m\u001b[0m\u001b[0m\n\u001b[1;32m     23\u001b[0m \u001b[0;32mfrom\u001b[0m \u001b[0;34m.\u001b[0m\u001b[0;34m.\u001b[0m\u001b[0msource_space\u001b[0m \u001b[0;32mimport\u001b[0m \u001b[0mget_mni_fiducials\u001b[0m\u001b[0;34m\u001b[0m\u001b[0;34m\u001b[0m\u001b[0m\n\u001b[0;32m---> 24\u001b[0;31m \u001b[0;32mfrom\u001b[0m \u001b[0;34m.\u001b[0m\u001b[0;34m.\u001b[0m\u001b[0mviz\u001b[0m \u001b[0;32mimport\u001b[0m \u001b[0mplot_montage\u001b[0m\u001b[0;34m\u001b[0m\u001b[0;34m\u001b[0m\u001b[0m\n\u001b[0m\u001b[1;32m     25\u001b[0m from ..transforms import (apply_trans, get_ras_to_neuromag_trans, _sph_to_cart,\n\u001b[1;32m     26\u001b[0m                           \u001b[0m_topo_to_sph\u001b[0m\u001b[0;34m,\u001b[0m \u001b[0m_frame_to_str\u001b[0m\u001b[0;34m,\u001b[0m \u001b[0mTransform\u001b[0m\u001b[0;34m,\u001b[0m\u001b[0;34m\u001b[0m\u001b[0;34m\u001b[0m\u001b[0m\n",
      "\u001b[0;32m~/miniconda3/envs/megspikes-pipeline/lib/python3.7/site-packages/mne/viz/__init__.py\u001b[0m in \u001b[0;36m<module>\u001b[0;34m\u001b[0m\n\u001b[1;32m     32\u001b[0m                                 get_brain_class)\n\u001b[1;32m     33\u001b[0m \u001b[0;32mfrom\u001b[0m \u001b[0;34m.\u001b[0m \u001b[0;32mimport\u001b[0m \u001b[0mbackends\u001b[0m\u001b[0;34m\u001b[0m\u001b[0;34m\u001b[0m\u001b[0m\n\u001b[0;32m---> 34\u001b[0;31m \u001b[0;32mfrom\u001b[0m \u001b[0;34m.\u001b[0m\u001b[0m_brain\u001b[0m \u001b[0;32mimport\u001b[0m \u001b[0mBrain\u001b[0m\u001b[0;34m\u001b[0m\u001b[0;34m\u001b[0m\u001b[0m\n\u001b[0m",
      "\u001b[0;32m~/miniconda3/envs/megspikes-pipeline/lib/python3.7/site-packages/mne/viz/_brain/__init__.py\u001b[0m in \u001b[0;36m<module>\u001b[0;34m\u001b[0m\n\u001b[1;32m     10\u001b[0m \u001b[0;31m# License: Simplified BSD\u001b[0m\u001b[0;34m\u001b[0m\u001b[0;34m\u001b[0m\u001b[0;34m\u001b[0m\u001b[0m\n\u001b[1;32m     11\u001b[0m \u001b[0;34m\u001b[0m\u001b[0m\n\u001b[0;32m---> 12\u001b[0;31m \u001b[0;32mfrom\u001b[0m \u001b[0;34m.\u001b[0m\u001b[0m_brain\u001b[0m \u001b[0;32mimport\u001b[0m \u001b[0mBrain\u001b[0m\u001b[0;34m,\u001b[0m \u001b[0m_LayeredMesh\u001b[0m\u001b[0;34m\u001b[0m\u001b[0;34m\u001b[0m\u001b[0m\n\u001b[0m\u001b[1;32m     13\u001b[0m \u001b[0;32mfrom\u001b[0m \u001b[0;34m.\u001b[0m\u001b[0m_scraper\u001b[0m \u001b[0;32mimport\u001b[0m \u001b[0m_BrainScraper\u001b[0m\u001b[0;34m\u001b[0m\u001b[0;34m\u001b[0m\u001b[0m\n\u001b[1;32m     14\u001b[0m \u001b[0;32mfrom\u001b[0m \u001b[0;34m.\u001b[0m\u001b[0m_linkviewer\u001b[0m \u001b[0;32mimport\u001b[0m \u001b[0m_LinkViewer\u001b[0m\u001b[0;34m\u001b[0m\u001b[0;34m\u001b[0m\u001b[0m\n",
      "\u001b[0;32m~/miniconda3/envs/megspikes-pipeline/lib/python3.7/site-packages/mne/viz/_brain/_brain.py\u001b[0m in \u001b[0;36m<module>\u001b[0;34m\u001b[0m\n\u001b[1;32m     30\u001b[0m from ..utils import (_show_help_fig, _get_color_list, concatenate_images,\n\u001b[1;32m     31\u001b[0m                      _generate_default_filename, _save_ndarray_img)\n\u001b[0;32m---> 32\u001b[0;31m from .._3d import (_process_clim, _handle_time, _check_views,\n\u001b[0m\u001b[1;32m     33\u001b[0m                    _handle_sensor_types, _plot_sensors)\n\u001b[1;32m     34\u001b[0m \u001b[0;32mfrom\u001b[0m \u001b[0;34m...\u001b[0m\u001b[0mdefaults\u001b[0m \u001b[0;32mimport\u001b[0m \u001b[0m_handle_default\u001b[0m\u001b[0;34m,\u001b[0m \u001b[0mDEFAULTS\u001b[0m\u001b[0;34m\u001b[0m\u001b[0;34m\u001b[0m\u001b[0m\n",
      "\u001b[0;31mImportError\u001b[0m: cannot import name '_handle_sensor_types' from 'mne.viz._3d' (/home/cdm/miniconda3/envs/megspikes-pipeline/lib/python3.7/site-packages/mne/viz/_3d.py)"
     ]
    }
   ],
   "source": [
    "import logging\n",
    "import warnings\n",
    "\n",
    "import mne\n",
    "import xarray as xr\n",
    "import yaml\n",
    "from megspikes.pipeline import aspire_alphacsc_pipeline\n",
    "from megspikes.visualization.report import report_detection, report_atoms_library\n",
    "\n",
    "from utils.utils import setup_case_manager\n",
    "\n",
    "warnings.filterwarnings(\"ignore\", category=DeprecationWarning)\n",
    "logger = logging.getLogger()\n",
    "logger.setLevel(logging.INFO)\n",
    "logging.debug(\"test debug\")\n",
    "logging.info(\"test info\")\n",
    "\n",
    "from sklearn import set_config\n",
    "set_config(display='diagram')\n",
    "%load_ext autoreload\n",
    "%autoreload 2\n"
   ]
  },
  {
   "cell_type": "code",
   "execution_count": null,
   "metadata": {},
   "outputs": [],
   "source": []
  },
  {
   "cell_type": "markdown",
   "metadata": {},
   "source": [
    "### Setup parameters"
   ]
  },
  {
   "cell_type": "code",
   "execution_count": 2,
   "metadata": {
    "pycharm": {
     "name": "#%%\n"
    }
   },
   "outputs": [],
   "source": [
    "params_for_detection = {\n",
    "    'n_ica_components': 20,\n",
    "    'n_runs': 2,\n",
    "    'runs': [0,1, ],\n",
    "    'n_atoms': 3,\n",
    "    'PeakDetection': {'width': 2},\n",
    "    'CleanDetections': {'n_cleaned_peaks': 300},\n",
    "    'SelectAlphacscEvents': {\n",
    "        'z_hat_threshold': 7.,\n",
    "        'z_hat_threshold_min': 1.5}\n",
    "}"
   ]
  },
  {
   "cell_type": "markdown",
   "metadata": {},
   "source": [
    "### Run detection pipeline for all cases"
   ]
  },
  {
   "cell_type": "code",
   "execution_count": 3,
   "metadata": {
    "pycharm": {
     "is_executing": true
    },
    "scrolled": true
   },
   "outputs": [
    {
     "name": "stderr",
     "output_type": "stream",
     "text": [
      "INFO:root:ICA decomposition is done.\n",
      "INFO:root:ICA components are localized.\n",
      "INFO:root:ICA components selection is done.\n",
      "INFO:root:ICA peaks detection is done.\n",
      "INFO:root:ICA peaks are localized.\n",
      "INFO:root:ICA peaks cleaning is done.\n"
     ]
    },
    {
     "name": "stdout",
     "output_type": "stream",
     "text": [
      "[GreedyCDL] Converged after 20 iteration, (dz, du) = 8.995e-05, 7.053e-05\n"
     ]
    },
    {
     "name": "stderr",
     "output_type": "stream",
     "text": [
      "INFO:root:AlphaCSC decomposition is done.\n",
      "INFO:root:AlphaCSC components are localized.\n",
      "INFO:root:AlphaCSC events are selected.\n",
      "INFO:root:ICA components selection is done.\n",
      "INFO:root:ICA peaks detection is done.\n",
      "INFO:root:ICA peaks are localized.\n",
      "INFO:root:ICA peaks cleaning is done.\n"
     ]
    },
    {
     "name": "stdout",
     "output_type": "stream",
     "text": [
      "[GreedyCDL] Converged after 20 iteration, (dz, du) = 8.918e-05, 7.990e-05\n"
     ]
    },
    {
     "name": "stderr",
     "output_type": "stream",
     "text": [
      "INFO:root:AlphaCSC decomposition is done.\n",
      "INFO:root:AlphaCSC components are localized.\n",
      "INFO:root:AlphaCSC events are selected.\n",
      "INFO:root:ICA components selection is done.\n",
      "INFO:root:ICA peaks detection is done.\n",
      "INFO:root:ICA peaks are localized.\n",
      "INFO:root:ICA peaks cleaning is done.\n"
     ]
    },
    {
     "name": "stdout",
     "output_type": "stream",
     "text": [
      "[GreedyCDL] Converged after 15 iteration, (dz, du) = 9.089e-05, 5.021e-05\n"
     ]
    },
    {
     "name": "stderr",
     "output_type": "stream",
     "text": [
      "INFO:root:AlphaCSC decomposition is done.\n",
      "INFO:root:AlphaCSC components are localized.\n",
      "INFO:root:AlphaCSC events are selected.\n",
      "INFO:root:ICA decomposition is done.\n",
      "INFO:root:ICA components are localized.\n",
      "INFO:root:ICA components selection is done.\n",
      "INFO:root:ICA peaks detection is done.\n",
      "INFO:root:ICA peaks are localized.\n",
      "INFO:root:ICA peaks cleaning is done.\n"
     ]
    },
    {
     "name": "stdout",
     "output_type": "stream",
     "text": [
      "[GreedyCDL] Converged after 16 iteration, (dz, du) = 8.812e-05, 2.335e-05\n"
     ]
    },
    {
     "name": "stderr",
     "output_type": "stream",
     "text": [
      "INFO:root:AlphaCSC decomposition is done.\n",
      "INFO:root:AlphaCSC components are localized.\n",
      "INFO:root:AlphaCSC events are selected.\n",
      "INFO:root:ICA components selection is done.\n",
      "INFO:root:ICA peaks detection is done.\n",
      "INFO:root:ICA peaks are localized.\n",
      "INFO:root:ICA peaks cleaning is done.\n"
     ]
    },
    {
     "name": "stdout",
     "output_type": "stream",
     "text": [
      "[GreedyCDL] Converged after 24 iteration, (dz, du) = 9.488e-05, 2.497e-05\n"
     ]
    },
    {
     "name": "stderr",
     "output_type": "stream",
     "text": [
      "INFO:root:AlphaCSC decomposition is done.\n",
      "INFO:root:AlphaCSC components are localized.\n",
      "INFO:root:AlphaCSC events are selected.\n",
      "INFO:root:ICA components selection is done.\n",
      "INFO:root:ICA peaks detection is done.\n",
      "INFO:root:ICA peaks are localized.\n",
      "INFO:root:ICA peaks cleaning is done.\n"
     ]
    },
    {
     "name": "stdout",
     "output_type": "stream",
     "text": [
      "[GreedyCDL] Converged after 17 iteration, (dz, du) = 9.864e-05, 4.546e-05\n"
     ]
    },
    {
     "name": "stderr",
     "output_type": "stream",
     "text": [
      "INFO:root:AlphaCSC decomposition is done.\n",
      "INFO:root:AlphaCSC components are localized.\n",
      "INFO:root:AlphaCSC events are selected.\n"
     ]
    }
   ],
   "source": [
    "for subj in [1]:\n",
    "    case = setup_case_manager(subj)\n",
    "\n",
    "    pipe = aspire_alphacsc_pipeline(case, params_for_detection,      \n",
    "        rewrite_previous_results=True,\n",
    "        manual_ica_components={'grad': ((0,1,), (2,), 'mag': ((0,1,), (2,)})\n",
    "\n",
    " \n",
    "    dataset, raw = pipe.fit_transform(None)\n"
   ]
  },
  {
   "cell_type": "code",
   "execution_count": 4,
   "metadata": {},
   "outputs": [
    {
     "name": "stderr",
     "output_type": "stream",
     "text": [
      "/home/cdm/miniconda3/envs/megspikes-pipeline/lib/python3.7/site-packages/megspikes/database/database.py:758: UserWarning: alphacsc_atoms_properties.loc[{'alphacsc_atom_property': 'selected'}] values are all the same\n",
      "  f\"{da_name}.loc[{selection}] values are all the same\")\n",
      "/home/cdm/miniconda3/envs/megspikes-pipeline/lib/python3.7/site-packages/megspikes/database/database.py:758: UserWarning: alphacsc_atoms_properties.loc[{'alphacsc_atom_property': 'selected'}] values are all the same\n",
      "  f\"{da_name}.loc[{selection}] values are all the same\")\n",
      "/home/cdm/miniconda3/envs/megspikes-pipeline/lib/python3.7/site-packages/megspikes/database/database.py:758: UserWarning: alphacsc_atoms_properties.loc[{'alphacsc_atom_property': 'selected'}] values are all the same\n",
      "  f\"{da_name}.loc[{selection}] values are all the same\")\n",
      "/home/cdm/miniconda3/envs/megspikes-pipeline/lib/python3.7/site-packages/megspikes/database/database.py:758: UserWarning: alphacsc_atoms_properties.loc[{'alphacsc_atom_property': 'selected'}] values are all the same\n",
      "  f\"{da_name}.loc[{selection}] values are all the same\")\n",
      "/home/cdm/miniconda3/envs/megspikes-pipeline/lib/python3.7/site-packages/megspikes/database/database.py:758: UserWarning: alphacsc_atoms_properties.loc[{'alphacsc_atom_property': 'selected'}] values are all the same\n",
      "  f\"{da_name}.loc[{selection}] values are all the same\")\n",
      "/home/cdm/miniconda3/envs/megspikes-pipeline/lib/python3.7/site-packages/megspikes/database/database.py:758: UserWarning: alphacsc_atoms_properties.loc[{'alphacsc_atom_property': 'selected'}] values are all the same\n",
      "  f\"{da_name}.loc[{selection}] values are all the same\")\n",
      "/home/cdm/miniconda3/envs/megspikes-pipeline/lib/python3.7/site-packages/megspikes/database/database.py:758: UserWarning: alphacsc_atoms_properties.loc[{'alphacsc_atom_property': 'selected'}] values are all the same\n",
      "  f\"{da_name}.loc[{selection}] values are all the same\")\n",
      "/home/cdm/miniconda3/envs/megspikes-pipeline/lib/python3.7/site-packages/megspikes/database/database.py:758: UserWarning: alphacsc_atoms_properties.loc[{'alphacsc_atom_property': 'selected'}] values are all the same\n",
      "  f\"{da_name}.loc[{selection}] values are all the same\")\n",
      "/home/cdm/miniconda3/envs/megspikes-pipeline/lib/python3.7/site-packages/megspikes/database/database.py:758: UserWarning: alphacsc_atoms_properties.loc[{'alphacsc_atom_property': 'selected'}] values are all the same\n",
      "  f\"{da_name}.loc[{selection}] values are all the same\")\n",
      "/home/cdm/miniconda3/envs/megspikes-pipeline/lib/python3.7/site-packages/megspikes/database/database.py:758: UserWarning: alphacsc_atoms_properties.loc[{'alphacsc_atom_property': 'selected'}] values are all the same\n",
      "  f\"{da_name}.loc[{selection}] values are all the same\")\n",
      "/home/cdm/miniconda3/envs/megspikes-pipeline/lib/python3.7/site-packages/megspikes/database/database.py:758: UserWarning: alphacsc_atoms_properties.loc[{'alphacsc_atom_property': 'selected'}] values are all the same\n",
      "  f\"{da_name}.loc[{selection}] values are all the same\")\n",
      "/home/cdm/miniconda3/envs/megspikes-pipeline/lib/python3.7/site-packages/megspikes/database/database.py:758: UserWarning: alphacsc_atoms_properties.loc[{'alphacsc_atom_property': 'selected'}] values are all the same\n",
      "  f\"{da_name}.loc[{selection}] values are all the same\")\n",
      "/home/cdm/miniconda3/envs/megspikes-pipeline/lib/python3.7/site-packages/megspikes/database/database.py:758: UserWarning: alphacsc_atoms_properties.loc[{'alphacsc_atom_property': 'selected'}] values are all the same\n",
      "  f\"{da_name}.loc[{selection}] values are all the same\")\n",
      "/home/cdm/miniconda3/envs/megspikes-pipeline/lib/python3.7/site-packages/megspikes/database/database.py:758: UserWarning: alphacsc_atoms_properties.loc[{'alphacsc_atom_property': 'selected'}] values are all the same\n",
      "  f\"{da_name}.loc[{selection}] values are all the same\")\n",
      "/home/cdm/miniconda3/envs/megspikes-pipeline/lib/python3.7/site-packages/megspikes/database/database.py:758: UserWarning: alphacsc_atoms_properties.loc[{'alphacsc_atom_property': 'selected'}] values are all the same\n",
      "  f\"{da_name}.loc[{selection}] values are all the same\")\n",
      "/home/cdm/miniconda3/envs/megspikes-pipeline/lib/python3.7/site-packages/megspikes/database/database.py:758: UserWarning: alphacsc_atoms_properties.loc[{'alphacsc_atom_property': 'selected'}] values are all the same\n",
      "  f\"{da_name}.loc[{selection}] values are all the same\")\n",
      "/home/cdm/miniconda3/envs/megspikes-pipeline/lib/python3.7/site-packages/megspikes/database/database.py:758: UserWarning: alphacsc_atoms_properties.loc[{'alphacsc_atom_property': 'selected'}] values are all the same\n",
      "  f\"{da_name}.loc[{selection}] values are all the same\")\n",
      "/home/cdm/miniconda3/envs/megspikes-pipeline/lib/python3.7/site-packages/megspikes/database/database.py:758: UserWarning: alphacsc_atoms_properties.loc[{'alphacsc_atom_property': 'selected'}] values are all the same\n",
      "  f\"{da_name}.loc[{selection}] values are all the same\")\n",
      "/home/cdm/miniconda3/envs/megspikes-pipeline/lib/python3.7/site-packages/megspikes/database/database.py:758: UserWarning: alphacsc_atoms_properties.loc[{'alphacsc_atom_property': 'selected'}] values are all the same\n",
      "  f\"{da_name}.loc[{selection}] values are all the same\")\n",
      "/home/cdm/miniconda3/envs/megspikes-pipeline/lib/python3.7/site-packages/megspikes/database/database.py:758: UserWarning: alphacsc_atoms_properties.loc[{'alphacsc_atom_property': 'selected'}] values are all the same\n",
      "  f\"{da_name}.loc[{selection}] values are all the same\")\n"
     ]
    }
   ],
   "source": [
    "for subj in range(1, 2):\n",
    "    case = setup_case_manager(subj)\n",
    "\n",
    "    detection_results = xr.open_dataset(case.dataset)\n",
    "\n",
    "    raw = mne.io.read_raw_fif(case.fif_file, preload=True)\n",
    "\n",
    "    pdf_path = case.basic_folders['REPORTS'] / 'detection_report.pdf'\n",
    "    report_detection(pdf_path, detection_results, raw.copy())\n",
    "\n",
    "    pdf_path = case.basic_folders['REPORTS'] / 'atoms_library_report.pdf'\n",
    "    report_atoms_library(pdf_path, detection_results, raw.copy())"
   ]
  },
  {
   "cell_type": "markdown",
   "metadata": {},
   "source": [
    "### Add alpha-notch filtering for case № 5 "
   ]
  },
  {
   "cell_type": "code",
   "execution_count": null,
   "metadata": {},
   "outputs": [],
   "source": [
    "params_for_detection_case_5 = {\n",
    "    'n_ica_components': 20,\n",
    "    'n_runs': 4,\n",
    "    'runs': [0,1,2,3 ],\n",
    "    'n_atoms': 3,\n",
    "    'PrepareData' : {'alpha_notch': 10},\n",
    "    'PeakDetection': {'width': 2},\n",
    "    'CleanDetections': {'n_cleaned_peaks': 2000},\n",
    "    'SelectAlphacscEvents': {\n",
    "        'z_hat_threshold': 7.,\n",
    "        'z_hat_threshold_min': 1.5},\n",
    "}"
   ]
  },
  {
   "cell_type": "code",
   "execution_count": null,
   "metadata": {},
   "outputs": [],
   "source": [
    "case = setup_case_manager(5)\n",
    "\n",
    "pipe = aspire_alphacsc_pipeline(case, params_for_detection_case_5, rewrite_previous_results=True)\n",
    "\n",
    "dataset, raw = pipe.fit_transform(None)"
   ]
  },
  {
   "cell_type": "markdown",
   "metadata": {},
   "source": [
    "### PFD detection report for each case\n",
    "\n",
    "Report includes the following plots for each run and sensor type:\n",
    "1. ICA components\n",
    "2. AlphaCSC atoms\n",
    "3. AlphaCSC events for each atom"
   ]
  },
  {
   "cell_type": "code",
   "execution_count": null,
   "metadata": {
    "pycharm": {
     "name": "#%%\n"
    },
    "scrolled": true
   },
   "outputs": [],
   "source": [
    "for subj in range(5, 6):\n",
    "    case = setup_case_manager(subj)\n",
    "\n",
    "    detection_results = xr.open_dataset(case.dataset)\n",
    "\n",
    "    raw = mne.io.read_raw_fif(case.fif_file, preload=True)\n",
    "\n",
    "    pdf_path = case.basic_folders['REPORTS'] / 'detection_report.pdf'\n",
    "    report_detection(pdf_path, detection_results, raw.copy())\n",
    "\n",
    "    pdf_path = case.basic_folders['REPORTS'] / 'atoms_library_report.pdf'\n",
    "    report_atoms_library(pdf_path, detection_results, raw.copy())\n",
    "\n"
   ]
  },
  {
   "cell_type": "markdown",
   "metadata": {
    "pycharm": {
     "name": "#%% md\n"
    }
   },
   "source": [
    "### Rerun merging step for one case\n",
    "It would be necessary when there are not many atoms in the atoms library."
   ]
  },
  {
   "cell_type": "code",
   "execution_count": null,
   "metadata": {
    "pycharm": {
     "name": "#%%\n"
    }
   },
   "outputs": [],
   "source": [
    "from sklearn.pipeline import Pipeline\n",
    "from megspikes.detection.detection import AspireAlphacscRunsMerging\n",
    "from megspikes.database.database import SaveDataset, LoadDataset\n",
    "from megspikes.pipeline import update_default_params\n",
    "from megspikes.utils import PrepareData\n",
    "\n",
    "case = setup_case_manager(6)\n",
    "\n",
    "with open('aspire_alphacsc_default_params.yml', 'rt') as f:\n",
    "    default_params = yaml.safe_load(f.read())\n",
    "params = update_default_params(default_params, params_for_detection)\n",
    "\n",
    "pipe_merging_only = Pipeline([\n",
    "    ('prepare_data', PrepareData(data_file=case.fif_file, sensors=True, **params['PrepareData'])),\n",
    "    ('load_aspire_alphacsc_dataset', LoadDataset(dataset=case.dataset, sensors=None, run=None)),\n",
    "    ('merge_atoms', AspireAlphacscRunsMerging(**params['AspireAlphacscRunsMerging'])),\n",
    "    ('save_dataset', SaveDataset(dataset=case.dataset))])"
   ]
  },
  {
   "cell_type": "code",
   "execution_count": null,
   "metadata": {
    "pycharm": {
     "name": "#%%\n"
    }
   },
   "outputs": [],
   "source": [
    "pipe_merging_only"
   ]
  },
  {
   "cell_type": "code",
   "execution_count": null,
   "metadata": {
    "pycharm": {
     "name": "#%%\n"
    }
   },
   "outputs": [],
   "source": [
    "_,_ = pipe_merging_only.fit_transform(())\n",
    "detection_results = xr.open_dataset(case.dataset)"
   ]
  },
  {
   "cell_type": "code",
   "execution_count": null,
   "metadata": {
    "pycharm": {
     "name": "#%%\n"
    }
   },
   "outputs": [],
   "source": [
    "spikes = detection_results.alphacsc_atoms_library_properties.loc[\n",
    "    dict(atoms_library_property='library_detection')].values\n",
    "\n",
    "sum(spikes != 0)\n"
   ]
  },
  {
   "cell_type": "markdown",
   "metadata": {
    "pycharm": {
     "name": "#%% md\n"
    }
   },
   "source": [
    "### PFD detection report for each case again\n",
    "\n",
    "Report includes the following plots for each run and sensor type:\n",
    "1. ICA components\n",
    "2. AlphaCSC atoms\n",
    "3. AlphaCSC events for each atom"
   ]
  },
  {
   "cell_type": "code",
   "execution_count": 4,
   "metadata": {
    "pycharm": {
     "name": "#%%\n"
    }
   },
   "outputs": [
    {
     "name": "stderr",
     "output_type": "stream",
     "text": [
      "/home/cdm/miniconda3/envs/megspikes-pipeline/lib/python3.7/site-packages/megspikes/database/database.py:758: UserWarning: alphacsc_atoms_properties.loc[{'alphacsc_atom_property': 'selected'}] values are all the same\n",
      "  f\"{da_name}.loc[{selection}] values are all the same\")\n",
      "/home/cdm/miniconda3/envs/megspikes-pipeline/lib/python3.7/site-packages/megspikes/database/database.py:758: UserWarning: alphacsc_atoms_properties.loc[{'alphacsc_atom_property': 'selected'}] values are all the same\n",
      "  f\"{da_name}.loc[{selection}] values are all the same\")\n",
      "/home/cdm/miniconda3/envs/megspikes-pipeline/lib/python3.7/site-packages/megspikes/database/database.py:758: UserWarning: alphacsc_atoms_properties.loc[{'alphacsc_atom_property': 'selected'}] values are all the same\n",
      "  f\"{da_name}.loc[{selection}] values are all the same\")\n",
      "/home/cdm/miniconda3/envs/megspikes-pipeline/lib/python3.7/site-packages/megspikes/database/database.py:758: UserWarning: alphacsc_atoms_properties.loc[{'alphacsc_atom_property': 'selected'}] values are all the same\n",
      "  f\"{da_name}.loc[{selection}] values are all the same\")\n",
      "/home/cdm/miniconda3/envs/megspikes-pipeline/lib/python3.7/site-packages/megspikes/database/database.py:763: UserWarning: alphacsc_u_hat values are all the same\n",
      "  f\"{da_name} values are all the same\")\n",
      "/home/cdm/miniconda3/envs/megspikes-pipeline/lib/python3.7/site-packages/megspikes/database/database.py:763: UserWarning: alphacsc_v_hat values are all the same\n",
      "  f\"{da_name} values are all the same\")\n",
      "/home/cdm/miniconda3/envs/megspikes-pipeline/lib/python3.7/site-packages/megspikes/database/database.py:758: UserWarning: detection_properties.loc[{'detection_property': 'alphacsc_detection'}] values are all the same\n",
      "  f\"{da_name}.loc[{selection}] values are all the same\")\n",
      "/home/cdm/miniconda3/envs/megspikes-pipeline/lib/python3.7/site-packages/megspikes/database/database.py:758: UserWarning: detection_properties.loc[{'detection_property': 'alphacsc_atom'}] values are all the same\n",
      "  f\"{da_name}.loc[{selection}] values are all the same\")\n",
      "/home/cdm/miniconda3/envs/megspikes-pipeline/lib/python3.7/site-packages/megspikes/database/database.py:758: UserWarning: alphacsc_atoms_properties.loc[{'alphacsc_atom_property': 'goodness'}] values are all the same\n",
      "  f\"{da_name}.loc[{selection}] values are all the same\")\n",
      "/home/cdm/miniconda3/envs/megspikes-pipeline/lib/python3.7/site-packages/megspikes/database/database.py:763: UserWarning: alphacsc_u_hat values are all the same\n",
      "  f\"{da_name} values are all the same\")\n",
      "/home/cdm/miniconda3/envs/megspikes-pipeline/lib/python3.7/site-packages/megspikes/database/database.py:763: UserWarning: alphacsc_v_hat values are all the same\n",
      "  f\"{da_name} values are all the same\")\n",
      "/home/cdm/miniconda3/envs/megspikes-pipeline/lib/python3.7/site-packages/megspikes/visualization/report.py:220: RuntimeWarning: invalid value encountered in true_divide\n",
      "  v_hat = v_hat / (np.max(np.abs(v_hat)))\n",
      "/home/cdm/miniconda3/envs/megspikes-pipeline/lib/python3.7/site-packages/megspikes/database/database.py:758: UserWarning: detection_properties.loc[{'detection_property': 'alphacsc_detection'}] values are all the same\n",
      "  f\"{da_name}.loc[{selection}] values are all the same\")\n",
      "/home/cdm/miniconda3/envs/megspikes-pipeline/lib/python3.7/site-packages/megspikes/database/database.py:758: UserWarning: detection_properties.loc[{'detection_property': 'alphacsc_atom'}] values are all the same\n",
      "  f\"{da_name}.loc[{selection}] values are all the same\")\n",
      "/home/cdm/miniconda3/envs/megspikes-pipeline/lib/python3.7/site-packages/megspikes/database/database.py:758: UserWarning: alphacsc_atoms_properties.loc[{'alphacsc_atom_property': 'goodness'}] values are all the same\n",
      "  f\"{da_name}.loc[{selection}] values are all the same\")\n",
      "/home/cdm/miniconda3/envs/megspikes-pipeline/lib/python3.7/site-packages/megspikes/database/database.py:763: UserWarning: alphacsc_u_hat values are all the same\n",
      "  f\"{da_name} values are all the same\")\n",
      "/home/cdm/miniconda3/envs/megspikes-pipeline/lib/python3.7/site-packages/megspikes/database/database.py:763: UserWarning: alphacsc_v_hat values are all the same\n",
      "  f\"{da_name} values are all the same\")\n",
      "/home/cdm/miniconda3/envs/megspikes-pipeline/lib/python3.7/site-packages/megspikes/visualization/report.py:220: RuntimeWarning: invalid value encountered in true_divide\n",
      "  v_hat = v_hat / (np.max(np.abs(v_hat)))\n",
      "/home/cdm/miniconda3/envs/megspikes-pipeline/lib/python3.7/site-packages/megspikes/database/database.py:758: UserWarning: detection_properties.loc[{'detection_property': 'alphacsc_detection'}] values are all the same\n",
      "  f\"{da_name}.loc[{selection}] values are all the same\")\n",
      "/home/cdm/miniconda3/envs/megspikes-pipeline/lib/python3.7/site-packages/megspikes/database/database.py:758: UserWarning: detection_properties.loc[{'detection_property': 'alphacsc_atom'}] values are all the same\n",
      "  f\"{da_name}.loc[{selection}] values are all the same\")\n",
      "/home/cdm/miniconda3/envs/megspikes-pipeline/lib/python3.7/site-packages/megspikes/database/database.py:758: UserWarning: alphacsc_atoms_properties.loc[{'alphacsc_atom_property': 'goodness'}] values are all the same\n",
      "  f\"{da_name}.loc[{selection}] values are all the same\")\n",
      "/home/cdm/miniconda3/envs/megspikes-pipeline/lib/python3.7/site-packages/megspikes/database/database.py:763: UserWarning: alphacsc_u_hat values are all the same\n",
      "  f\"{da_name} values are all the same\")\n",
      "/home/cdm/miniconda3/envs/megspikes-pipeline/lib/python3.7/site-packages/megspikes/database/database.py:763: UserWarning: alphacsc_v_hat values are all the same\n",
      "  f\"{da_name} values are all the same\")\n",
      "/home/cdm/miniconda3/envs/megspikes-pipeline/lib/python3.7/site-packages/megspikes/visualization/report.py:220: RuntimeWarning: invalid value encountered in true_divide\n",
      "  v_hat = v_hat / (np.max(np.abs(v_hat)))\n",
      "/home/cdm/miniconda3/envs/megspikes-pipeline/lib/python3.7/site-packages/megspikes/database/database.py:758: UserWarning: alphacsc_atoms_properties.loc[{'alphacsc_atom_property': 'selected'}] values are all the same\n",
      "  f\"{da_name}.loc[{selection}] values are all the same\")\n",
      "/home/cdm/miniconda3/envs/megspikes-pipeline/lib/python3.7/site-packages/megspikes/database/database.py:763: UserWarning: alphacsc_v_hat values are all the same\n",
      "  f\"{da_name} values are all the same\")\n",
      "/home/cdm/miniconda3/envs/megspikes-pipeline/lib/python3.7/site-packages/megspikes/database/database.py:758: UserWarning: detection_properties.loc[{'detection_property': 'alphacsc_detection'}] values are all the same\n",
      "  f\"{da_name}.loc[{selection}] values are all the same\")\n",
      "/home/cdm/miniconda3/envs/megspikes-pipeline/lib/python3.7/site-packages/megspikes/database/database.py:758: UserWarning: detection_properties.loc[{'detection_property': 'alphacsc_atom'}] values are all the same\n",
      "  f\"{da_name}.loc[{selection}] values are all the same\")\n",
      "/home/cdm/miniconda3/envs/megspikes-pipeline/lib/python3.7/site-packages/megspikes/database/database.py:758: UserWarning: alphacsc_atoms_properties.loc[{'alphacsc_atom_property': 'goodness'}] values are all the same\n",
      "  f\"{da_name}.loc[{selection}] values are all the same\")\n",
      "/home/cdm/miniconda3/envs/megspikes-pipeline/lib/python3.7/site-packages/megspikes/database/database.py:763: UserWarning: alphacsc_v_hat values are all the same\n",
      "  f\"{da_name} values are all the same\")\n",
      "/home/cdm/miniconda3/envs/megspikes-pipeline/lib/python3.7/site-packages/megspikes/visualization/report.py:220: RuntimeWarning: invalid value encountered in true_divide\n",
      "  v_hat = v_hat / (np.max(np.abs(v_hat)))\n",
      "/home/cdm/miniconda3/envs/megspikes-pipeline/lib/python3.7/site-packages/megspikes/database/database.py:758: UserWarning: detection_properties.loc[{'detection_property': 'alphacsc_detection'}] values are all the same\n",
      "  f\"{da_name}.loc[{selection}] values are all the same\")\n",
      "/home/cdm/miniconda3/envs/megspikes-pipeline/lib/python3.7/site-packages/megspikes/database/database.py:758: UserWarning: detection_properties.loc[{'detection_property': 'alphacsc_atom'}] values are all the same\n",
      "  f\"{da_name}.loc[{selection}] values are all the same\")\n",
      "/home/cdm/miniconda3/envs/megspikes-pipeline/lib/python3.7/site-packages/megspikes/database/database.py:758: UserWarning: alphacsc_atoms_properties.loc[{'alphacsc_atom_property': 'goodness'}] values are all the same\n",
      "  f\"{da_name}.loc[{selection}] values are all the same\")\n",
      "/home/cdm/miniconda3/envs/megspikes-pipeline/lib/python3.7/site-packages/megspikes/database/database.py:763: UserWarning: alphacsc_v_hat values are all the same\n",
      "  f\"{da_name} values are all the same\")\n",
      "/home/cdm/miniconda3/envs/megspikes-pipeline/lib/python3.7/site-packages/megspikes/visualization/report.py:220: RuntimeWarning: invalid value encountered in true_divide\n",
      "  v_hat = v_hat / (np.max(np.abs(v_hat)))\n"
     ]
    },
    {
     "name": "stderr",
     "output_type": "stream",
     "text": [
      "/home/cdm/miniconda3/envs/megspikes-pipeline/lib/python3.7/site-packages/megspikes/database/database.py:758: UserWarning: detection_properties.loc[{'detection_property': 'alphacsc_detection'}] values are all the same\n",
      "  f\"{da_name}.loc[{selection}] values are all the same\")\n",
      "/home/cdm/miniconda3/envs/megspikes-pipeline/lib/python3.7/site-packages/megspikes/database/database.py:758: UserWarning: detection_properties.loc[{'detection_property': 'alphacsc_atom'}] values are all the same\n",
      "  f\"{da_name}.loc[{selection}] values are all the same\")\n",
      "/home/cdm/miniconda3/envs/megspikes-pipeline/lib/python3.7/site-packages/megspikes/database/database.py:758: UserWarning: alphacsc_atoms_properties.loc[{'alphacsc_atom_property': 'goodness'}] values are all the same\n",
      "  f\"{da_name}.loc[{selection}] values are all the same\")\n",
      "/home/cdm/miniconda3/envs/megspikes-pipeline/lib/python3.7/site-packages/megspikes/database/database.py:763: UserWarning: alphacsc_v_hat values are all the same\n",
      "  f\"{da_name} values are all the same\")\n",
      "/home/cdm/miniconda3/envs/megspikes-pipeline/lib/python3.7/site-packages/megspikes/visualization/report.py:220: RuntimeWarning: invalid value encountered in true_divide\n",
      "  v_hat = v_hat / (np.max(np.abs(v_hat)))\n",
      "/home/cdm/miniconda3/envs/megspikes-pipeline/lib/python3.7/site-packages/megspikes/database/database.py:758: UserWarning: alphacsc_atoms_properties.loc[{'alphacsc_atom_property': 'selected'}] values are all the same\n",
      "  f\"{da_name}.loc[{selection}] values are all the same\")\n",
      "/home/cdm/miniconda3/envs/megspikes-pipeline/lib/python3.7/site-packages/megspikes/database/database.py:763: UserWarning: alphacsc_v_hat values are all the same\n",
      "  f\"{da_name} values are all the same\")\n",
      "/home/cdm/miniconda3/envs/megspikes-pipeline/lib/python3.7/site-packages/megspikes/database/database.py:758: UserWarning: detection_properties.loc[{'detection_property': 'alphacsc_detection'}] values are all the same\n",
      "  f\"{da_name}.loc[{selection}] values are all the same\")\n",
      "/home/cdm/miniconda3/envs/megspikes-pipeline/lib/python3.7/site-packages/megspikes/database/database.py:758: UserWarning: detection_properties.loc[{'detection_property': 'alphacsc_atom'}] values are all the same\n",
      "  f\"{da_name}.loc[{selection}] values are all the same\")\n",
      "/home/cdm/miniconda3/envs/megspikes-pipeline/lib/python3.7/site-packages/megspikes/database/database.py:758: UserWarning: alphacsc_atoms_properties.loc[{'alphacsc_atom_property': 'goodness'}] values are all the same\n",
      "  f\"{da_name}.loc[{selection}] values are all the same\")\n",
      "/home/cdm/miniconda3/envs/megspikes-pipeline/lib/python3.7/site-packages/megspikes/database/database.py:763: UserWarning: alphacsc_v_hat values are all the same\n",
      "  f\"{da_name} values are all the same\")\n",
      "/home/cdm/miniconda3/envs/megspikes-pipeline/lib/python3.7/site-packages/megspikes/visualization/report.py:220: RuntimeWarning: invalid value encountered in true_divide\n",
      "  v_hat = v_hat / (np.max(np.abs(v_hat)))\n",
      "/home/cdm/miniconda3/envs/megspikes-pipeline/lib/python3.7/site-packages/megspikes/database/database.py:758: UserWarning: detection_properties.loc[{'detection_property': 'alphacsc_detection'}] values are all the same\n",
      "  f\"{da_name}.loc[{selection}] values are all the same\")\n",
      "/home/cdm/miniconda3/envs/megspikes-pipeline/lib/python3.7/site-packages/megspikes/database/database.py:758: UserWarning: detection_properties.loc[{'detection_property': 'alphacsc_atom'}] values are all the same\n",
      "  f\"{da_name}.loc[{selection}] values are all the same\")\n",
      "/home/cdm/miniconda3/envs/megspikes-pipeline/lib/python3.7/site-packages/megspikes/database/database.py:758: UserWarning: alphacsc_atoms_properties.loc[{'alphacsc_atom_property': 'goodness'}] values are all the same\n",
      "  f\"{da_name}.loc[{selection}] values are all the same\")\n",
      "/home/cdm/miniconda3/envs/megspikes-pipeline/lib/python3.7/site-packages/megspikes/database/database.py:763: UserWarning: alphacsc_v_hat values are all the same\n",
      "  f\"{da_name} values are all the same\")\n",
      "/home/cdm/miniconda3/envs/megspikes-pipeline/lib/python3.7/site-packages/megspikes/visualization/report.py:220: RuntimeWarning: invalid value encountered in true_divide\n",
      "  v_hat = v_hat / (np.max(np.abs(v_hat)))\n",
      "/home/cdm/miniconda3/envs/megspikes-pipeline/lib/python3.7/site-packages/megspikes/database/database.py:758: UserWarning: detection_properties.loc[{'detection_property': 'alphacsc_detection'}] values are all the same\n",
      "  f\"{da_name}.loc[{selection}] values are all the same\")\n",
      "/home/cdm/miniconda3/envs/megspikes-pipeline/lib/python3.7/site-packages/megspikes/database/database.py:758: UserWarning: detection_properties.loc[{'detection_property': 'alphacsc_atom'}] values are all the same\n",
      "  f\"{da_name}.loc[{selection}] values are all the same\")\n",
      "/home/cdm/miniconda3/envs/megspikes-pipeline/lib/python3.7/site-packages/megspikes/database/database.py:758: UserWarning: alphacsc_atoms_properties.loc[{'alphacsc_atom_property': 'goodness'}] values are all the same\n",
      "  f\"{da_name}.loc[{selection}] values are all the same\")\n",
      "/home/cdm/miniconda3/envs/megspikes-pipeline/lib/python3.7/site-packages/megspikes/database/database.py:763: UserWarning: alphacsc_v_hat values are all the same\n",
      "  f\"{da_name} values are all the same\")\n",
      "/home/cdm/miniconda3/envs/megspikes-pipeline/lib/python3.7/site-packages/megspikes/visualization/report.py:220: RuntimeWarning: invalid value encountered in true_divide\n",
      "  v_hat = v_hat / (np.max(np.abs(v_hat)))\n",
      "/home/cdm/miniconda3/envs/megspikes-pipeline/lib/python3.7/site-packages/megspikes/database/database.py:758: UserWarning: alphacsc_atoms_properties.loc[{'alphacsc_atom_property': 'selected'}] values are all the same\n",
      "  f\"{da_name}.loc[{selection}] values are all the same\")\n",
      "/home/cdm/miniconda3/envs/megspikes-pipeline/lib/python3.7/site-packages/megspikes/database/database.py:763: UserWarning: alphacsc_v_hat values are all the same\n",
      "  f\"{da_name} values are all the same\")\n",
      "/home/cdm/miniconda3/envs/megspikes-pipeline/lib/python3.7/site-packages/megspikes/database/database.py:758: UserWarning: detection_properties.loc[{'detection_property': 'alphacsc_detection'}] values are all the same\n",
      "  f\"{da_name}.loc[{selection}] values are all the same\")\n",
      "/home/cdm/miniconda3/envs/megspikes-pipeline/lib/python3.7/site-packages/megspikes/database/database.py:758: UserWarning: detection_properties.loc[{'detection_property': 'alphacsc_atom'}] values are all the same\n",
      "  f\"{da_name}.loc[{selection}] values are all the same\")\n",
      "/home/cdm/miniconda3/envs/megspikes-pipeline/lib/python3.7/site-packages/megspikes/database/database.py:758: UserWarning: alphacsc_atoms_properties.loc[{'alphacsc_atom_property': 'goodness'}] values are all the same\n",
      "  f\"{da_name}.loc[{selection}] values are all the same\")\n",
      "/home/cdm/miniconda3/envs/megspikes-pipeline/lib/python3.7/site-packages/megspikes/database/database.py:763: UserWarning: alphacsc_v_hat values are all the same\n",
      "  f\"{da_name} values are all the same\")\n",
      "/home/cdm/miniconda3/envs/megspikes-pipeline/lib/python3.7/site-packages/megspikes/visualization/report.py:220: RuntimeWarning: invalid value encountered in true_divide\n",
      "  v_hat = v_hat / (np.max(np.abs(v_hat)))\n",
      "/home/cdm/miniconda3/envs/megspikes-pipeline/lib/python3.7/site-packages/megspikes/database/database.py:758: UserWarning: detection_properties.loc[{'detection_property': 'alphacsc_detection'}] values are all the same\n",
      "  f\"{da_name}.loc[{selection}] values are all the same\")\n",
      "/home/cdm/miniconda3/envs/megspikes-pipeline/lib/python3.7/site-packages/megspikes/database/database.py:758: UserWarning: detection_properties.loc[{'detection_property': 'alphacsc_atom'}] values are all the same\n",
      "  f\"{da_name}.loc[{selection}] values are all the same\")\n",
      "/home/cdm/miniconda3/envs/megspikes-pipeline/lib/python3.7/site-packages/megspikes/database/database.py:758: UserWarning: alphacsc_atoms_properties.loc[{'alphacsc_atom_property': 'goodness'}] values are all the same\n",
      "  f\"{da_name}.loc[{selection}] values are all the same\")\n",
      "/home/cdm/miniconda3/envs/megspikes-pipeline/lib/python3.7/site-packages/megspikes/database/database.py:763: UserWarning: alphacsc_v_hat values are all the same\n",
      "  f\"{da_name} values are all the same\")\n",
      "/home/cdm/miniconda3/envs/megspikes-pipeline/lib/python3.7/site-packages/megspikes/visualization/report.py:220: RuntimeWarning: invalid value encountered in true_divide\n",
      "  v_hat = v_hat / (np.max(np.abs(v_hat)))\n"
     ]
    },
    {
     "name": "stderr",
     "output_type": "stream",
     "text": [
      "/home/cdm/miniconda3/envs/megspikes-pipeline/lib/python3.7/site-packages/megspikes/database/database.py:758: UserWarning: detection_properties.loc[{'detection_property': 'alphacsc_detection'}] values are all the same\n",
      "  f\"{da_name}.loc[{selection}] values are all the same\")\n",
      "/home/cdm/miniconda3/envs/megspikes-pipeline/lib/python3.7/site-packages/megspikes/database/database.py:758: UserWarning: detection_properties.loc[{'detection_property': 'alphacsc_atom'}] values are all the same\n",
      "  f\"{da_name}.loc[{selection}] values are all the same\")\n",
      "/home/cdm/miniconda3/envs/megspikes-pipeline/lib/python3.7/site-packages/megspikes/database/database.py:758: UserWarning: alphacsc_atoms_properties.loc[{'alphacsc_atom_property': 'goodness'}] values are all the same\n",
      "  f\"{da_name}.loc[{selection}] values are all the same\")\n",
      "/home/cdm/miniconda3/envs/megspikes-pipeline/lib/python3.7/site-packages/megspikes/database/database.py:763: UserWarning: alphacsc_v_hat values are all the same\n",
      "  f\"{da_name} values are all the same\")\n",
      "/home/cdm/miniconda3/envs/megspikes-pipeline/lib/python3.7/site-packages/megspikes/visualization/report.py:220: RuntimeWarning: invalid value encountered in true_divide\n",
      "  v_hat = v_hat / (np.max(np.abs(v_hat)))\n",
      "/home/cdm/miniconda3/envs/megspikes-pipeline/lib/python3.7/site-packages/megspikes/database/database.py:758: UserWarning: alphacsc_atoms_properties.loc[{'alphacsc_atom_property': 'selected'}] values are all the same\n",
      "  f\"{da_name}.loc[{selection}] values are all the same\")\n",
      "/home/cdm/miniconda3/envs/megspikes-pipeline/lib/python3.7/site-packages/megspikes/database/database.py:763: UserWarning: alphacsc_u_hat values are all the same\n",
      "  f\"{da_name} values are all the same\")\n",
      "/home/cdm/miniconda3/envs/megspikes-pipeline/lib/python3.7/site-packages/megspikes/database/database.py:763: UserWarning: alphacsc_v_hat values are all the same\n",
      "  f\"{da_name} values are all the same\")\n",
      "/home/cdm/miniconda3/envs/megspikes-pipeline/lib/python3.7/site-packages/megspikes/database/database.py:758: UserWarning: detection_properties.loc[{'detection_property': 'alphacsc_detection'}] values are all the same\n",
      "  f\"{da_name}.loc[{selection}] values are all the same\")\n",
      "/home/cdm/miniconda3/envs/megspikes-pipeline/lib/python3.7/site-packages/megspikes/database/database.py:758: UserWarning: detection_properties.loc[{'detection_property': 'alphacsc_atom'}] values are all the same\n",
      "  f\"{da_name}.loc[{selection}] values are all the same\")\n",
      "/home/cdm/miniconda3/envs/megspikes-pipeline/lib/python3.7/site-packages/megspikes/database/database.py:758: UserWarning: alphacsc_atoms_properties.loc[{'alphacsc_atom_property': 'goodness'}] values are all the same\n",
      "  f\"{da_name}.loc[{selection}] values are all the same\")\n",
      "/home/cdm/miniconda3/envs/megspikes-pipeline/lib/python3.7/site-packages/megspikes/database/database.py:763: UserWarning: alphacsc_u_hat values are all the same\n",
      "  f\"{da_name} values are all the same\")\n",
      "/home/cdm/miniconda3/envs/megspikes-pipeline/lib/python3.7/site-packages/megspikes/database/database.py:763: UserWarning: alphacsc_v_hat values are all the same\n",
      "  f\"{da_name} values are all the same\")\n",
      "/home/cdm/miniconda3/envs/megspikes-pipeline/lib/python3.7/site-packages/megspikes/visualization/report.py:220: RuntimeWarning: invalid value encountered in true_divide\n",
      "  v_hat = v_hat / (np.max(np.abs(v_hat)))\n",
      "/home/cdm/miniconda3/envs/megspikes-pipeline/lib/python3.7/site-packages/megspikes/database/database.py:758: UserWarning: detection_properties.loc[{'detection_property': 'alphacsc_detection'}] values are all the same\n",
      "  f\"{da_name}.loc[{selection}] values are all the same\")\n",
      "/home/cdm/miniconda3/envs/megspikes-pipeline/lib/python3.7/site-packages/megspikes/database/database.py:758: UserWarning: detection_properties.loc[{'detection_property': 'alphacsc_atom'}] values are all the same\n",
      "  f\"{da_name}.loc[{selection}] values are all the same\")\n",
      "/home/cdm/miniconda3/envs/megspikes-pipeline/lib/python3.7/site-packages/megspikes/database/database.py:758: UserWarning: alphacsc_atoms_properties.loc[{'alphacsc_atom_property': 'goodness'}] values are all the same\n",
      "  f\"{da_name}.loc[{selection}] values are all the same\")\n",
      "/home/cdm/miniconda3/envs/megspikes-pipeline/lib/python3.7/site-packages/megspikes/database/database.py:763: UserWarning: alphacsc_u_hat values are all the same\n",
      "  f\"{da_name} values are all the same\")\n",
      "/home/cdm/miniconda3/envs/megspikes-pipeline/lib/python3.7/site-packages/megspikes/database/database.py:763: UserWarning: alphacsc_v_hat values are all the same\n",
      "  f\"{da_name} values are all the same\")\n",
      "/home/cdm/miniconda3/envs/megspikes-pipeline/lib/python3.7/site-packages/megspikes/visualization/report.py:220: RuntimeWarning: invalid value encountered in true_divide\n",
      "  v_hat = v_hat / (np.max(np.abs(v_hat)))\n",
      "/home/cdm/miniconda3/envs/megspikes-pipeline/lib/python3.7/site-packages/megspikes/database/database.py:758: UserWarning: detection_properties.loc[{'detection_property': 'alphacsc_detection'}] values are all the same\n",
      "  f\"{da_name}.loc[{selection}] values are all the same\")\n",
      "/home/cdm/miniconda3/envs/megspikes-pipeline/lib/python3.7/site-packages/megspikes/database/database.py:758: UserWarning: detection_properties.loc[{'detection_property': 'alphacsc_atom'}] values are all the same\n",
      "  f\"{da_name}.loc[{selection}] values are all the same\")\n",
      "/home/cdm/miniconda3/envs/megspikes-pipeline/lib/python3.7/site-packages/megspikes/database/database.py:758: UserWarning: alphacsc_atoms_properties.loc[{'alphacsc_atom_property': 'goodness'}] values are all the same\n",
      "  f\"{da_name}.loc[{selection}] values are all the same\")\n",
      "/home/cdm/miniconda3/envs/megspikes-pipeline/lib/python3.7/site-packages/megspikes/database/database.py:763: UserWarning: alphacsc_u_hat values are all the same\n",
      "  f\"{da_name} values are all the same\")\n",
      "/home/cdm/miniconda3/envs/megspikes-pipeline/lib/python3.7/site-packages/megspikes/database/database.py:763: UserWarning: alphacsc_v_hat values are all the same\n",
      "  f\"{da_name} values are all the same\")\n",
      "/home/cdm/miniconda3/envs/megspikes-pipeline/lib/python3.7/site-packages/megspikes/visualization/report.py:220: RuntimeWarning: invalid value encountered in true_divide\n",
      "  v_hat = v_hat / (np.max(np.abs(v_hat)))\n",
      "/home/cdm/miniconda3/envs/megspikes-pipeline/lib/python3.7/site-packages/megspikes/database/database.py:758: UserWarning: alphacsc_atoms_properties.loc[{'alphacsc_atom_property': 'selected'}] values are all the same\n",
      "  f\"{da_name}.loc[{selection}] values are all the same\")\n"
     ]
    }
   ],
   "source": [
    "for subj in range(1, 2):\n",
    "    case = setup_case_manager(subj)\n",
    "\n",
    "    detection_results = xr.open_dataset(case.dataset)\n",
    "\n",
    "    raw = mne.io.read_raw_fif(case.fif_file, preload=True)\n",
    "\n",
    "    pdf_path = case.basic_folders['REPORTS'] / 'detection_report.pdf'\n",
    "    report_detection(pdf_path, detection_results, raw.copy())\n",
    "\n",
    "    pdf_path = case.basic_folders['REPORTS'] / 'atoms_library_report.pdf'\n",
    "    report_atoms_library(pdf_path, detection_results, raw.copy())\n",
    "\n",
    "\n",
    "\n"
   ]
  },
  {
   "cell_type": "code",
   "execution_count": null,
   "metadata": {},
   "outputs": [],
   "source": []
  }
 ],
 "metadata": {
  "kernelspec": {
   "display_name": "megspikes-pipeline",
   "language": "python",
   "name": "megspikes-pipeline"
  },
  "language_info": {
   "codemirror_mode": {
    "name": "ipython",
    "version": 3
   },
   "file_extension": ".py",
   "mimetype": "text/x-python",
   "name": "python",
   "nbconvert_exporter": "python",
   "pygments_lexer": "ipython3",
   "version": "3.7.12"
  }
 },
 "nbformat": 4,
 "nbformat_minor": 1
}
