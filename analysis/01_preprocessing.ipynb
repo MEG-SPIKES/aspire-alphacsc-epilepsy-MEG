{
 "cells": [
  {
   "cell_type": "code",
   "execution_count": 5,
   "metadata": {},
   "outputs": [
    {
     "name": "stdout",
     "output_type": "stream",
     "text": [
      "The autoreload extension is already loaded. To reload it, use:\n",
      "  %reload_ext autoreload\n"
     ]
    }
   ],
   "source": [
    "import yaml\n",
    "from utils.preprocessing import Preprocessing\n",
    "import mne\n",
    "\n",
    "%load_ext autoreload\n",
    "%autoreload 2"
   ]
  },
  {
   "cell_type": "markdown",
   "metadata": {},
   "source": [
    "# Preprocessing\n"
   ]
  },
  {
   "cell_type": "markdown",
   "metadata": {
    "pycharm": {
     "name": "#%% md\n"
    }
   },
   "source": [
    "## Read case names and folder paths\n",
    "NOTE: this information is not published on the GitHub. See `README.MD` for more\n",
    "information."
   ]
  },
  {
   "cell_type": "code",
   "execution_count": 6,
   "metadata": {
    "pycharm": {
     "name": "#%%\n"
    }
   },
   "outputs": [],
   "source": [
    "\n",
    "with open('case_info.yml', 'rt') as f:\n",
    "    cases = yaml.safe_load(f.read())\n",
    "\n",
    "    "
   ]
  },
  {
   "cell_type": "code",
   "execution_count": 9,
   "metadata": {},
   "outputs": [],
   "source": [
    "case2analyze = 10"
   ]
  },
  {
   "cell_type": "code",
   "execution_count": 10,
   "metadata": {},
   "outputs": [
    {
     "data": {
      "text/plain": [
       "'V0L0'"
      ]
     },
     "execution_count": 10,
     "metadata": {},
     "output_type": "execute_result"
    }
   ],
   "source": [
    "cases['case_name'][case2analyze]"
   ]
  },
  {
   "cell_type": "code",
   "execution_count": 13,
   "metadata": {
    "pycharm": {
     "name": "#%%\n"
    }
   },
   "outputs": [
    {
     "name": "stderr",
     "output_type": "stream",
     "text": [
      "/home/cdm/miniconda3/envs/megspikes-pipeline/lib/python3.7/site-packages/megspikes/casemanager/casemanager.py:147: UserWarning: No fif file for analysis, using uncorrected tsss_mc file\n",
      "  warnings.warn(\"No fif file for analysis, using uncorrected tsss_mc file\")\n",
      "/home/cdm/miniconda3/envs/megspikes-pipeline/lib/python3.7/site-packages/megspikes/casemanager/casemanager.py:198: UserWarning: Using ico4 instead of ico5\n",
      "  warnings.warn(f'Using ico4 instead of {spacing}')\n",
      "/home/cdm/miniconda3/envs/megspikes-pipeline/lib/python3.7/site-packages/mne/utils/check.py:90: DeprecationWarning: distutils Version classes are deprecated. Use packaging.version instead.\n",
      "  LooseVersion(library.__version__) < LooseVersion(min_version):\n",
      "/home/cdm/miniconda3/envs/megspikes-pipeline/lib/python3.7/site-packages/mne/utils/check.py:90: DeprecationWarning: distutils Version classes are deprecated. Use packaging.version instead.\n",
      "  LooseVersion(library.__version__) < LooseVersion(min_version):\n",
      "/home/cdm/miniconda3/envs/megspikes-pipeline/lib/python3.7/site-packages/mne/utils/check.py:90: DeprecationWarning: distutils Version classes are deprecated. Use packaging.version instead.\n",
      "  LooseVersion(library.__version__) < LooseVersion(min_version):\n",
      "/home/cdm/miniconda3/envs/megspikes-pipeline/lib/python3.7/site-packages/mne/utils/check.py:90: DeprecationWarning: distutils Version classes are deprecated. Use packaging.version instead.\n",
      "  LooseVersion(library.__version__) < LooseVersion(min_version):\n"
     ]
    }
   ],
   "source": [
    "case_name = cases['case_name'][case2analyze]\n",
    "\n",
    "prep = Preprocessing(root=cases['cases_path'],\n",
    "                     case=case_name,\n",
    "                     free_surfer=cases['free_surfer_path'])\n"
   ]
  },
  {
   "cell_type": "markdown",
   "metadata": {
    "pycharm": {
     "name": "#%% md\n"
    }
   },
   "source": [
    "## Plot Power Spectral Density (PSD)"
   ]
  },
  {
   "cell_type": "code",
   "execution_count": 14,
   "metadata": {
    "pycharm": {
     "name": "#%%\n"
    }
   },
   "outputs": [
    {
     "name": "stderr",
     "output_type": "stream",
     "text": [
      "/home/cdm/miniconda3/envs/megspikes-pipeline/lib/python3.7/site-packages/megspikes/casemanager/casemanager.py:147: UserWarning: No fif file for analysis, using uncorrected tsss_mc file\n",
      "  warnings.warn(\"No fif file for analysis, using uncorrected tsss_mc file\")\n"
     ]
    },
    {
     "name": "stdout",
     "output_type": "stream",
     "text": [
      "Plotting PSD ...\n",
      "DONE\n"
     ]
    }
   ],
   "source": [
    "for subj in range(case2analyze, case2analyze+1):\n",
    "    case_name = cases['case_name'][subj]\n",
    "\n",
    "    prep = Preprocessing(root=cases['cases_path'],\n",
    "                         case=case_name,\n",
    "                         free_surfer=cases['free_surfer_path'])\n",
    "    prep.plot_psd()\n"
   ]
  },
  {
   "cell_type": "markdown",
   "metadata": {},
   "source": [
    "## Prepare ICA component plots to detect artifacts"
   ]
  },
  {
   "cell_type": "code",
   "execution_count": 15,
   "metadata": {
    "pycharm": {
     "name": "#%%\n"
    }
   },
   "outputs": [
    {
     "name": "stderr",
     "output_type": "stream",
     "text": [
      "/home/cdm/miniconda3/envs/megspikes-pipeline/lib/python3.7/site-packages/megspikes/casemanager/casemanager.py:147: UserWarning: No fif file for analysis, using uncorrected tsss_mc file\n",
      "  warnings.warn(\"No fif file for analysis, using uncorrected tsss_mc file\")\n"
     ]
    },
    {
     "name": "stdout",
     "output_type": "stream",
     "text": [
      "ICA fitting, artefscts detecting, properties and sources plotting...\n"
     ]
    },
    {
     "name": "stderr",
     "output_type": "stream",
     "text": [
      "/home/cdm/miniconda3/envs/megspikes-pipeline/lib/python3.7/site-packages/mne/utils/check.py:90: DeprecationWarning: distutils Version classes are deprecated. Use packaging.version instead.\n",
      "  LooseVersion(library.__version__) < LooseVersion(min_version):\n",
      "/home/cdm/miniconda3/envs/megspikes-pipeline/lib/python3.7/site-packages/mne/utils/check.py:90: DeprecationWarning: distutils Version classes are deprecated. Use packaging.version instead.\n",
      "  LooseVersion(library.__version__) < LooseVersion(min_version):\n",
      "/home/cdm/miniconda3/envs/megspikes-pipeline/lib/python3.7/site-packages/sklearn/decomposition/_fastica.py:120: ConvergenceWarning: FastICA did not converge. Consider increasing tolerance or the maximum number of iterations.\n",
      "  ConvergenceWarning)\n"
     ]
    },
    {
     "name": "stdout",
     "output_type": "stream",
     "text": [
      "Bad components for VV_ii_run3_raw_tsss_mc: [8, 52, 5]\n",
      "DONE\n"
     ]
    }
   ],
   "source": [
    "for subj in [case2analyze]:# range(1, 8):\n",
    "    case_name = cases['case_name'][subj]\n",
    "\n",
    "    prep = Preprocessing(root=cases['cases_path'],\n",
    "                         case=case_name,\n",
    "                         free_surfer=cases['free_surfer_path'])\n",
    "    prep.ICA_plots()"
   ]
  },
  {
   "cell_type": "markdown",
   "metadata": {},
   "source": [
    "## Clean data"
   ]
  },
  {
   "cell_type": "code",
   "execution_count": null,
   "metadata": {
    "pycharm": {
     "name": "#%%\n"
    }
   },
   "outputs": [
    {
     "name": "stderr",
     "output_type": "stream",
     "text": [
      "/home/cdm/miniconda3/envs/megspikes-pipeline/lib/python3.7/site-packages/megspikes/casemanager/casemanager.py:147: UserWarning: No fif file for analysis, using uncorrected tsss_mc file\n",
      "  warnings.warn(\"No fif file for analysis, using uncorrected tsss_mc file\")\n"
     ]
    },
    {
     "name": "stdout",
     "output_type": "stream",
     "text": [
      "Bad components [23, 34]\n"
     ]
    },
    {
     "name": "stderr",
     "output_type": "stream",
     "text": [
      "/home/cdm/miniconda3/envs/megspikes-pipeline/lib/python3.7/site-packages/mne/utils/check.py:90: DeprecationWarning: distutils Version classes are deprecated. Use packaging.version instead.\n",
      "  LooseVersion(library.__version__) < LooseVersion(min_version):\n",
      "/home/cdm/miniconda3/envs/megspikes-pipeline/lib/python3.7/site-packages/mne/utils/check.py:90: DeprecationWarning: distutils Version classes are deprecated. Use packaging.version instead.\n",
      "  LooseVersion(library.__version__) < LooseVersion(min_version):\n"
     ]
    }
   ],
   "source": [
    "for subj in [case2analyze]:\n",
    "    prep = Preprocessing(root=cases['cases_path'],\n",
    "                         case=case_name,\n",
    "                         free_surfer=cases['free_surfer_path'])\n",
    "    prep.apply_ica()\n",
    "    prep.delete_bad_annotations()\n"
   ]
  },
  {
   "cell_type": "markdown",
   "metadata": {},
   "source": [
    "## Plot Power Spectral Density after preprocessing"
   ]
  },
  {
   "cell_type": "code",
   "execution_count": null,
   "metadata": {
    "pycharm": {
     "name": "#%%\n"
    }
   },
   "outputs": [],
   "source": [
    "for subj in [case2analyze]:\n",
    "    case_name = cases['case_name'][subj]\n",
    "\n",
    "    prep = Preprocessing(root=cases['cases_path'],\n",
    "                         case=case_name,\n",
    "                         free_surfer=cases['free_surfer_path'])\n",
    "    data = mne.io.read_raw_fif(prep.fif_file, preload=False, verbose='error')\n",
    "    prep._plot_psd_one_file(prep.fif_file, data)\n",
    "\n"
   ]
  },
  {
   "cell_type": "code",
   "execution_count": null,
   "metadata": {},
   "outputs": [],
   "source": []
  }
 ],
 "metadata": {
  "kernelspec": {
   "display_name": "megspikes-pipeline",
   "language": "python",
   "name": "megspikes-pipeline"
  },
  "language_info": {
   "codemirror_mode": {
    "name": "ipython",
    "version": 3
   },
   "file_extension": ".py",
   "mimetype": "text/x-python",
   "name": "python",
   "nbconvert_exporter": "python",
   "pygments_lexer": "ipython3",
   "version": "3.7.12"
  }
 },
 "nbformat": 4,
 "nbformat_minor": 1
}
