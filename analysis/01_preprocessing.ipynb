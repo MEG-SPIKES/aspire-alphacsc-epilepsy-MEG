{
 "cells": [
  {
   "cell_type": "code",
   "execution_count": null,
   "metadata": {
    "collapsed": true
   },
   "outputs": [],
   "source": [
    "import yaml\n",
    "from utils.preprocessing import Preprocessing\n",
    "import mne\n",
    "\n",
    "%load_ext autoreload\n",
    "%autoreload 2"
   ]
  },
  {
   "cell_type": "markdown",
   "source": [
    "# Preprocessing\n"
   ],
   "metadata": {
    "collapsed": false
   }
  },
  {
   "cell_type": "markdown",
   "source": [
    "## Read case names and folder paths\n",
    "NOTE: this information is not published on the GitHub. See `README.MD` for more\n",
    "information."
   ],
   "metadata": {
    "collapsed": false,
    "pycharm": {
     "name": "#%% md\n"
    }
   }
  },
  {
   "cell_type": "code",
   "execution_count": null,
   "outputs": [],
   "source": [
    "\n",
    "with open('case_info.yml', 'rt') as f:\n",
    "    cases = yaml.safe_load(f.read())\n"
   ],
   "metadata": {
    "collapsed": false,
    "pycharm": {
     "name": "#%%\n"
    }
   }
  },
  {
   "cell_type": "code",
   "execution_count": null,
   "outputs": [],
   "source": [
    "case_name = cases['case_name'][1]\n",
    "\n",
    "prep = Preprocessing(root=cases['cases_path'],\n",
    "                     case=case_name,\n",
    "                     free_surfer=cases['free_surfer_path'])\n"
   ],
   "metadata": {
    "collapsed": false,
    "pycharm": {
     "name": "#%%\n"
    }
   }
  },
  {
   "cell_type": "markdown",
   "source": [
    "## Plot Power Spectral Density (PSD)"
   ],
   "metadata": {
    "collapsed": false,
    "pycharm": {
     "name": "#%% md\n"
    }
   }
  },
  {
   "cell_type": "code",
   "execution_count": null,
   "outputs": [],
   "source": [
    "for subj in range(1, 8):\n",
    "    case_name = cases['case_name'][subj]\n",
    "\n",
    "    prep = Preprocessing(root=cases['cases_path'],\n",
    "                         case=case_name,\n",
    "                         free_surfer=cases['free_surfer_path'])\n",
    "    prep.plot_psd()\n"
   ],
   "metadata": {
    "collapsed": false,
    "pycharm": {
     "name": "#%%\n"
    }
   }
  },
  {
   "cell_type": "markdown",
   "source": [
    "## Prepare ICA component plots to detect artifacts"
   ],
   "metadata": {
    "collapsed": false
   }
  },
  {
   "cell_type": "code",
   "execution_count": null,
   "outputs": [],
   "source": [
    "for subj in [1]:# range(1, 8):\n",
    "    case_name = cases['case_name'][subj]\n",
    "\n",
    "    prep = Preprocessing(root=cases['cases_path'],\n",
    "                         case=case_name,\n",
    "                         free_surfer=cases['free_surfer_path'])\n",
    "    prep.ICA_plots()"
   ],
   "metadata": {
    "collapsed": false,
    "pycharm": {
     "name": "#%%\n"
    }
   }
  },
  {
   "cell_type": "markdown",
   "source": [
    "## Clean data"
   ],
   "metadata": {
    "collapsed": false
   }
  },
  {
   "cell_type": "code",
   "execution_count": null,
   "outputs": [],
   "source": [
    "for subj in [1]:\n",
    "    prep = Preprocessing(root=cases['cases_path'],\n",
    "                         case=case_name,\n",
    "                         free_surfer=cases['free_surfer_path'])\n",
    "    prep.apply_ica()\n",
    "    prep.delete_bad_annotations()\n"
   ],
   "metadata": {
    "collapsed": false,
    "pycharm": {
     "name": "#%%\n"
    }
   }
  },
  {
   "cell_type": "markdown",
   "source": [
    "## Plot Power Spectral Density after preprocessing"
   ],
   "metadata": {
    "collapsed": false
   }
  },
  {
   "cell_type": "code",
   "execution_count": null,
   "outputs": [],
   "source": [
    "for subj in range(1, 8):\n",
    "    case_name = cases['case_name'][subj]\n",
    "\n",
    "    prep = Preprocessing(root=cases['cases_path'],\n",
    "                         case=case_name,\n",
    "                         free_surfer=cases['free_surfer_path'])\n",
    "    data = mne.io.read_raw_fif(prep.fif_file, preload=False, verbose='error')\n",
    "    prep._plot_psd_one_file(prep.fif_file, data)\n",
    "\n"
   ],
   "metadata": {
    "collapsed": false,
    "pycharm": {
     "name": "#%%\n"
    }
   }
  }
 ],
 "metadata": {
  "kernelspec": {
   "display_name": "Python 3",
   "language": "python",
   "name": "python3"
  },
  "language_info": {
   "codemirror_mode": {
    "name": "ipython",
    "version": 2
   },
   "file_extension": ".py",
   "mimetype": "text/x-python",
   "name": "python",
   "nbconvert_exporter": "python",
   "pygments_lexer": "ipython2",
   "version": "2.7.6"
  }
 },
 "nbformat": 4,
 "nbformat_minor": 0
}