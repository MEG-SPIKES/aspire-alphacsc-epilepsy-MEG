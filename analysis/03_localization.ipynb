{
 "cells": [
  {
   "cell_type": "code",
   "execution_count": null,
   "metadata": {},
   "outputs": [],
   "source": [
    "import mne\n",
    "import numpy as np\n",
    "import xarray as xr\n",
    "import yaml\n",
    "from megspikes.casemanager.casemanager import CaseManager\n",
    "from megspikes.pipeline import (iz_prediction_pipeline,\n",
    "                                read_detection_iz_prediction_pipeline)\n",
    "from sklearn import set_config\n",
    "\n",
    "set_config(display='diagram')\n",
    "set_config(print_changed_only=False)\n",
    "\n",
    "%load_ext autoreload\n",
    "%autoreload 2"
   ]
  },
  {
   "cell_type": "code",
   "execution_count": null,
   "metadata": {
    "pycharm": {
     "name": "#%%\n"
    }
   },
   "outputs": [],
   "source": [
    "with open('case_info.yml', 'rt') as f:\n",
    "    cases = yaml.safe_load(f.read())\n"
   ]
  },
  {
   "cell_type": "markdown",
   "metadata": {},
   "source": [
    "### Setup params"
   ]
  },
  {
   "cell_type": "code",
   "execution_count": null,
   "metadata": {
    "pycharm": {
     "name": "#%%\n"
    }
   },
   "outputs": [],
   "source": [
    "params = {\n",
    "    'PrepareClustersDataset': {'detection_sfreq': 200.}\n",
    "}"
   ]
  },
  {
   "cell_type": "markdown",
   "metadata": {
    "pycharm": {
     "name": "#%% md\n"
    }
   },
   "source": [
    "### Run clusters localization for all cases\n",
    "\n",
    "NOTE: if the previous results will not be overwritten. Algorithm will through an\n",
    "error and stop."
   ]
  },
  {
   "cell_type": "code",
   "execution_count": null,
   "metadata": {
    "pycharm": {
     "name": "#%%\n"
    }
   },
   "outputs": [],
   "source": [
    "for subj in range(1, 7):\n",
    "    case = CaseManager(root=cases['cases_path'], case= cases['case_name'][subj],\n",
    "                       free_surfer= cases['free_surfer_path'])\n",
    "\n",
    "    case.set_basic_folders()\n",
    "    case.select_fif_file(case.run)\n",
    "    case.prepare_forward_model()\n",
    "\n",
    "    pipe = read_detection_iz_prediction_pipeline(case, params)\n",
    "    detection_results = xr.open_dataset(case.dataset)\n",
    "\n",
    "    raw = mne.io.read_raw_fif(case.fif_file)\n",
    "    clusters, _ = pipe.fit_transform((detection_results, raw.copy()))\n"
   ]
  },
  {
   "cell_type": "code",
   "execution_count": null,
   "metadata": {},
   "outputs": [],
   "source": []
  },
  {
   "cell_type": "markdown",
   "metadata": {},
   "source": [
    "### Veiw clusters"
   ]
  },
  {
   "cell_type": "code",
   "execution_count": null,
   "metadata": {},
   "outputs": [],
   "source": [
    "case = CaseManager(root=cases['cases_path'], case= cases['case_name'][6],\n",
    "                   free_surfer= cases['free_surfer_path'])\n",
    "\n",
    "case.set_basic_folders()\n",
    "case.select_fif_file(case.run)\n",
    "case.prepare_forward_model()"
   ]
  },
  {
   "cell_type": "code",
   "execution_count": null,
   "metadata": {},
   "outputs": [],
   "source": [
    "clusters = xr.open_dataset(case.cluster_dataset)"
   ]
  },
  {
   "cell_type": "code",
   "execution_count": null,
   "metadata": {
    "pycharm": {
     "name": "#%%\n"
    }
   },
   "outputs": [],
   "source": [
    "from megspikes.visualization.visualization import ClusterSlopeViewer\n",
    "pc = ClusterSlopeViewer(clusters, case)"
   ]
  },
  {
   "cell_type": "code",
   "execution_count": null,
   "metadata": {
    "pycharm": {
     "name": "#%%\n"
    }
   },
   "outputs": [],
   "source": [
    "%matplotlib qt5\n",
    "\n",
    "app = pc.view()\n",
    "# app.show()\n",
    "app"
   ]
  },
  {
   "cell_type": "code",
   "execution_count": null,
   "metadata": {
    "pycharm": {
     "name": "#%%\n"
    }
   },
   "outputs": [],
   "source": []
  },
  {
   "cell_type": "markdown",
   "source": [
    "### Localize manual spikes"
   ],
   "metadata": {
    "collapsed": false,
    "pycharm": {
     "name": "#%% md\n"
    }
   }
  },
  {
   "cell_type": "code",
   "execution_count": null,
   "outputs": [],
   "source": [
    "params = {\n",
    "    'PrepareClustersDataset': {'detection_sfreq': 1000.}\n",
    "}\n",
    "\n",
    "for subj in range(1, 7):\n",
    "    case_name = cases['case_name'][subj]\n",
    "    case = CaseManager(root=cases['cases_path'], case=case_name,\n",
    "                       free_surfer=cases['free_surfer_path'])\n",
    "\n",
    "    case.set_basic_folders()\n",
    "    case.select_fif_file(case.run)\n",
    "    case.prepare_forward_model()\n",
    "\n",
    "    case.cluster_dataset = case.cluster_dataset.with_name(f'{case_name}_manual.nc')\n",
    "\n",
    "    manual = case.basic_folders['MANUAL'] / f\"{case_name}_manual_detections.npy\"\n",
    "\n",
    "    manual_detections = {\n",
    "        'spikes': np.load(str(manual), allow_pickle=True), # spikes in ms\n",
    "        'clusters': np.int32([0])\n",
    "    }\n",
    "    pipe = iz_prediction_pipeline(case, params)\n",
    "\n",
    "    raw = mne.io.read_raw_fif(case.fif_file)\n",
    "    clusters, _ = pipe.fit_transform((manual_detections, raw.copy()))\n"
   ],
   "metadata": {
    "collapsed": false,
    "pycharm": {
     "name": "#%%\n"
    }
   }
  },
  {
   "cell_type": "code",
   "execution_count": null,
   "outputs": [],
   "source": [],
   "metadata": {
    "collapsed": false,
    "pycharm": {
     "name": "#%%\n"
    }
   }
  }
 ],
 "metadata": {
  "kernelspec": {
   "display_name": "PyCharm (aspire-alphacsc-epilepsy-MEG)",
   "language": "python",
   "name": "pycharm-d4865a9d"
  },
  "language_info": {
   "codemirror_mode": {
    "name": "ipython",
    "version": 3
   },
   "file_extension": ".py",
   "mimetype": "text/x-python",
   "name": "python",
   "nbconvert_exporter": "python",
   "pygments_lexer": "ipython3",
   "version": "3.8.12"
  }
 },
 "nbformat": 4,
 "nbformat_minor": 1
}