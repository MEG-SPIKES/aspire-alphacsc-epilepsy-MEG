{
 "cells": [
  {
   "cell_type": "code",
   "execution_count": null,
   "metadata": {},
   "outputs": [],
   "source": [
    "import mne\n",
    "import numpy as np\n",
    "import xarray as xr\n",
    "\n",
    "from megspikes.pipeline import (iz_prediction_pipeline,\n",
    "                                read_detection_iz_prediction_pipeline)\n",
    "from megspikes.visualization.visualization import ClusterSlopeViewer\n",
    "from sklearn import set_config\n",
    "\n",
    "from utils.utils import setup_case_manager\n",
    "\n",
    "set_config(display='diagram')\n",
    "set_config(print_changed_only=False)\n",
    "\n",
    "%load_ext autoreload\n",
    "%autoreload 2\n"
   ]
  },
  {
   "cell_type": "markdown",
   "metadata": {},
   "source": [
    "### Setup params"
   ]
  },
  {
   "cell_type": "code",
   "execution_count": null,
   "metadata": {
    "pycharm": {
     "name": "#%%\n"
    }
   },
   "outputs": [],
   "source": [
    "params = {\n",
    "    'PrepareClustersDataset': {'detection_sfreq': 200.}\n",
    "}"
   ]
  },
  {
   "cell_type": "markdown",
   "metadata": {
    "pycharm": {
     "name": "#%% md\n"
    }
   },
   "source": [
    "### Run clusters localization for all cases\n",
    "\n",
    "NOTE: if the previous results will not be overwritten. Algorithm will through an\n",
    "error and stop."
   ]
  },
  {
   "cell_type": "code",
   "execution_count": null,
   "metadata": {
    "pycharm": {
     "name": "#%%\n"
    }
   },
   "outputs": [],
   "source": [
    "for subj in range(1, 8):\n",
    "    case = setup_case_manager(subj)\n",
    "\n",
    "    pipe = read_detection_iz_prediction_pipeline(case, params)\n",
    "    detection_results = xr.open_dataset(case.dataset)\n",
    "\n",
    "    raw = mne.io.read_raw_fif(case.fif_file)\n",
    "    clusters, _ = pipe.fit_transform((detection_results, raw.copy()))\n"
   ]
  },
  {
   "cell_type": "code",
   "execution_count": null,
   "metadata": {},
   "outputs": [],
   "source": []
  },
  {
   "cell_type": "markdown",
   "metadata": {},
   "source": [
    "### Veiw clusters"
   ]
  },
  {
   "cell_type": "code",
   "execution_count": null,
   "metadata": {},
   "outputs": [],
   "source": [
    "subject = 5\n",
    "case = setup_case_manager(subject)\n",
    "clusters = xr.open_dataset(case.cluster_dataset)"
   ]
  },
  {
   "cell_type": "code",
   "execution_count": null,
   "metadata": {
    "pycharm": {
     "name": "#%%\n"
    }
   },
   "outputs": [],
   "source": [
    "pc = ClusterSlopeViewer(clusters, case)"
   ]
  },
  {
   "cell_type": "code",
   "execution_count": null,
   "metadata": {
    "pycharm": {
     "name": "#%%\n"
    }
   },
   "outputs": [],
   "source": [
    "%matplotlib qt5\n",
    "\n",
    "app = pc.view()\n",
    "# app.show()\n",
    "app"
   ]
  },
  {
   "cell_type": "code",
   "execution_count": null,
   "metadata": {
    "pycharm": {
     "name": "#%%\n"
    }
   },
   "outputs": [],
   "source": []
  },
  {
   "cell_type": "markdown",
   "metadata": {
    "pycharm": {
     "name": "#%% md\n"
    }
   },
   "source": [
    "### Localize manual spikes"
   ]
  },
  {
   "cell_type": "code",
   "execution_count": null,
   "metadata": {
    "pycharm": {
     "name": "#%%\n"
    }
   },
   "outputs": [],
   "source": [
    "params = {\n",
    "    'PrepareClustersDataset': {'detection_sfreq': 1000.}\n",
    "}\n",
    "\n",
    "for subj in range(1, 8):\n",
    "\n",
    "    case = setup_case_manager(subj)\n",
    "\n",
    "    case.cluster_dataset = case.manual_cluster_dataset\n",
    "\n",
    "    manual_detections = {\n",
    "        'spikes': np.load(str(case.manual_detections), allow_pickle=True), # spikes in ms\n",
    "        'clusters': np.int32([0])\n",
    "    }\n",
    "    pipe = iz_prediction_pipeline(case, params)\n",
    "\n",
    "    raw = mne.io.read_raw_fif(case.fif_file)\n",
    "    clusters, _ = pipe.fit_transform((manual_detections, raw.copy()))\n",
    "\n",
    "\n"
   ]
  },
  {
   "cell_type": "markdown",
   "metadata": {
    "pycharm": {
     "name": "#%% md\n"
    }
   },
   "source": [
    "### View manual cluster"
   ]
  },
  {
   "cell_type": "code",
   "execution_count": null,
   "metadata": {
    "pycharm": {
     "name": "#%%\n"
    }
   },
   "outputs": [],
   "source": [
    "%matplotlib qt5\n",
    "\n",
    "case = setup_case_manager(5)\n",
    "\n",
    "clusters = xr.open_dataset(case.manual_cluster_dataset)\n",
    "pc = ClusterSlopeViewer(clusters, case)\n",
    "\n",
    "app = pc.view()\n",
    "# app.show()\n",
    "app"
   ]
  },
  {
   "cell_type": "code",
   "execution_count": null,
   "metadata": {
    "pycharm": {
     "name": "#%%\n"
    }
   },
   "outputs": [],
   "source": []
  }
 ],
 "metadata": {
  "kernelspec": {
   "display_name": "PyCharm (aspire-alphacsc-epilepsy-MEG)",
   "language": "python",
   "name": "pycharm-d4865a9d"
  },
  "language_info": {
   "codemirror_mode": {
    "name": "ipython",
    "version": 3
   },
   "file_extension": ".py",
   "mimetype": "text/x-python",
   "name": "python",
   "nbconvert_exporter": "python",
   "pygments_lexer": "ipython3",
   "version": "3.8.12"
  }
 },
 "nbformat": 4,
 "nbformat_minor": 1
}