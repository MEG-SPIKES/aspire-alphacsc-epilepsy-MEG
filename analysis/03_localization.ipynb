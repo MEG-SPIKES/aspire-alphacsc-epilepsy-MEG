{
 "cells": [
  {
   "cell_type": "code",
   "execution_count": null,
   "metadata": {
    "collapsed": true
   },
   "outputs": [],
   "source": [
    "import os\n",
    "from megspikes.pipeline import read_detection_iz_prediction_pipeline\n",
    "\n",
    "# change to the root directory of the project\n",
    "if os.getcwd().split(\"/\")[-1] == \"analysis\":\n",
    "    os.chdir('..')\n",
    "from utils.casemanager import CaseManager\n",
    "import xarray as xr\n",
    "import mne\n",
    "\n",
    "from sklearn import set_config\n",
    "set_config(display='diagram')\n",
    "set_config(print_changed_only=False)\n",
    "%load_ext autoreload\n",
    "%autoreload 2"
   ]
  },
  {
   "cell_type": "markdown",
   "source": [
    "### Read paths"
   ],
   "metadata": {
    "collapsed": false
   }
  },
  {
   "cell_type": "code",
   "execution_count": null,
   "outputs": [],
   "source": [
    "case = CaseManager(subject=1)\n",
    "\n",
    "params = {\n",
    "    'PrepareClustersDataset': {'detection_sfreq': 200.}\n",
    "}"
   ],
   "metadata": {
    "collapsed": false,
    "pycharm": {
     "name": "#%%\n"
    }
   }
  },
  {
   "cell_type": "code",
   "execution_count": null,
   "outputs": [],
   "source": [
    "pipe = read_detection_iz_prediction_pipeline(case, params)\n",
    "\n",
    "detection_results = xr.open_dataset(case.dataset)\n",
    "raw = mne.io.read_raw_fif(case.fif_file)\n"
   ],
   "metadata": {
    "collapsed": false,
    "pycharm": {
     "name": "#%%\n"
    }
   }
  },
  {
   "cell_type": "code",
   "execution_count": null,
   "outputs": [],
   "source": [
    "detection_results"
   ],
   "metadata": {
    "collapsed": false,
    "pycharm": {
     "name": "#%%\n"
    }
   }
  },
  {
   "cell_type": "code",
   "execution_count": null,
   "outputs": [],
   "source": [
    "clusters, raw = pipe.fit_transform((detection_results, raw.copy()))"
   ],
   "metadata": {
    "collapsed": false,
    "pycharm": {
     "name": "#%%\n"
    }
   }
  },
  {
   "cell_type": "code",
   "execution_count": null,
   "outputs": [],
   "source": [],
   "metadata": {
    "collapsed": false,
    "pycharm": {
     "name": "#%%\n"
    }
   }
  }
 ],
 "metadata": {
  "kernelspec": {
   "name": "pycharm-d4865a9d",
   "language": "python",
   "display_name": "PyCharm (aspire-alphacsc-epilepsy-MEG)"
  },
  "language_info": {
   "codemirror_mode": {
    "name": "ipython",
    "version": 2
   },
   "file_extension": ".py",
   "mimetype": "text/x-python",
   "name": "python",
   "nbconvert_exporter": "python",
   "pygments_lexer": "ipython2",
   "version": "2.7.6"
  }
 },
 "nbformat": 4,
 "nbformat_minor": 0
}