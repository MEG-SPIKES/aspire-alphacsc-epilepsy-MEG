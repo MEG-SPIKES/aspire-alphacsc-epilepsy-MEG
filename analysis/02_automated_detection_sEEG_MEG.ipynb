{
 "cells": [
  {
   "cell_type": "code",
   "execution_count": 1,
   "metadata": {},
   "outputs": [
    {
     "name": "stderr",
     "output_type": "stream",
     "text": [
      "INFO:root:test info\n"
     ]
    }
   ],
   "source": [
    "import logging\n",
    "import warnings\n",
    "\n",
    "import mne\n",
    "import xarray as xr\n",
    "import yaml\n",
    "from megspikes.pipeline import aspire_alphacsc_pipeline\n",
    "from megspikes.visualization.report import report_detection, report_atoms_library\n",
    "\n",
    "from utils.utils import setup_case_manager\n",
    "\n",
    "warnings.filterwarnings(\"ignore\", category=DeprecationWarning)\n",
    "logger = logging.getLogger()\n",
    "logger.setLevel(logging.INFO)\n",
    "logging.debug(\"test debug\")\n",
    "logging.info(\"test info\")\n",
    "\n",
    "from sklearn import set_config\n",
    "set_config(display='diagram')\n",
    "%load_ext autoreload\n",
    "%autoreload 2\n"
   ]
  },
  {
   "cell_type": "code",
   "execution_count": 2,
   "metadata": {},
   "outputs": [
    {
     "data": {
      "text/plain": [
       "'V0L0'"
      ]
     },
     "execution_count": 2,
     "metadata": {},
     "output_type": "execute_result"
    }
   ],
   "source": [
    "case2analyze = 10 #k0p0\n",
    "case = setup_case_manager(case2analyze)\n",
    "case.case"
   ]
  },
  {
   "cell_type": "markdown",
   "metadata": {},
   "source": [
    "### Setup parameters"
   ]
  },
  {
   "cell_type": "code",
   "execution_count": 4,
   "metadata": {
    "pycharm": {
     "name": "#%%\n"
    }
   },
   "outputs": [],
   "source": [
    "params_for_detection = {\n",
    "    'n_ica_components': 20,\n",
    "    'n_runs': 4,\n",
    "    'runs': [0,1,2,3 ],\n",
    "    'n_atoms': 3,\n",
    "    'PeakDetection': {'width': 2},\n",
    "    'CleanDetections': {'n_cleaned_peaks': 300},\n",
    "    'SelectAlphacscEvents': {\n",
    "        'z_hat_threshold': 7.,\n",
    "        'z_hat_threshold_min': 1.5}\n",
    "}"
   ]
  },
  {
   "cell_type": "markdown",
   "metadata": {},
   "source": [
    "### Run detection pipeline for all cases"
   ]
  },
  {
   "cell_type": "code",
   "execution_count": 5,
   "metadata": {
    "pycharm": {
     "is_executing": true
    },
    "scrolled": true
   },
   "outputs": [
    {
     "name": "stderr",
     "output_type": "stream",
     "text": [
      "INFO:root:ICA decomposition is done.\n",
      "INFO:root:ICA components are localized.\n",
      "INFO:root:ICA components selection is done.\n",
      "INFO:root:ICA peaks detection is done.\n",
      "INFO:root:ICA peaks are localized.\n",
      "INFO:root:ICA peaks cleaning is done.\n"
     ]
    },
    {
     "name": "stdout",
     "output_type": "stream",
     "text": [
      "[GreedyCDL] Converged after 12 iteration, (dz, du) = 9.195e-05, 6.660e-05\n"
     ]
    },
    {
     "name": "stderr",
     "output_type": "stream",
     "text": [
      "INFO:root:AlphaCSC decomposition is done.\n",
      "INFO:root:AlphaCSC components are localized.\n",
      "INFO:root:AlphaCSC events are selected.\n",
      "INFO:root:ICA components selection is done.\n",
      "INFO:root:ICA peaks detection is done.\n",
      "INFO:root:ICA peaks are localized.\n",
      "INFO:root:ICA peaks cleaning is done.\n"
     ]
    },
    {
     "name": "stdout",
     "output_type": "stream",
     "text": [
      "[GreedyCDL] Converged after 19 iteration, (dz, du) = 9.426e-05, 4.620e-05\n"
     ]
    },
    {
     "name": "stderr",
     "output_type": "stream",
     "text": [
      "INFO:root:AlphaCSC decomposition is done.\n",
      "INFO:root:AlphaCSC components are localized.\n",
      "INFO:root:AlphaCSC events are selected.\n",
      "INFO:root:ICA components selection is done.\n",
      "INFO:root:ICA peaks detection is done.\n",
      "INFO:root:ICA peaks are localized.\n",
      "INFO:root:ICA peaks cleaning is done.\n"
     ]
    },
    {
     "name": "stdout",
     "output_type": "stream",
     "text": [
      "[GreedyCDL] Converged after 15 iteration, (dz, du) = 8.796e-05, 4.736e-05\n"
     ]
    },
    {
     "name": "stderr",
     "output_type": "stream",
     "text": [
      "INFO:root:AlphaCSC decomposition is done.\n",
      "INFO:root:AlphaCSC components are localized.\n",
      "INFO:root:AlphaCSC events are selected.\n",
      "INFO:root:ICA components selection is done.\n",
      "INFO:root:ICA peaks detection is done.\n",
      "INFO:root:ICA peaks are localized.\n",
      "INFO:root:ICA peaks cleaning is done.\n"
     ]
    },
    {
     "name": "stdout",
     "output_type": "stream",
     "text": [
      "[GreedyCDL] Converged after 17 iteration, (dz, du) = 9.143e-05, 8.603e-05\n"
     ]
    },
    {
     "name": "stderr",
     "output_type": "stream",
     "text": [
      "INFO:root:AlphaCSC decomposition is done.\n",
      "INFO:root:AlphaCSC components are localized.\n",
      "INFO:root:AlphaCSC events are selected.\n",
      "INFO:root:ICA decomposition is done.\n",
      "INFO:root:ICA components are localized.\n",
      "INFO:root:ICA components selection is done.\n",
      "INFO:root:ICA peaks detection is done.\n",
      "INFO:root:ICA peaks are localized.\n",
      "INFO:root:ICA peaks cleaning is done.\n"
     ]
    },
    {
     "name": "stdout",
     "output_type": "stream",
     "text": [
      "[GreedyCDL] Converged after 19 iteration, (dz, du) = 8.653e-05, 1.377e-05\n"
     ]
    },
    {
     "name": "stderr",
     "output_type": "stream",
     "text": [
      "INFO:root:AlphaCSC decomposition is done.\n",
      "INFO:root:AlphaCSC components are localized.\n",
      "INFO:root:AlphaCSC events are selected.\n",
      "INFO:root:ICA components selection is done.\n",
      "INFO:root:ICA peaks detection is done.\n",
      "INFO:root:ICA peaks are localized.\n",
      "INFO:root:ICA peaks cleaning is done.\n"
     ]
    },
    {
     "name": "stdout",
     "output_type": "stream",
     "text": [
      "[GreedyCDL] Converged after 30 iteration, (dz, du) = 8.749e-05, 2.167e-05\n"
     ]
    },
    {
     "name": "stderr",
     "output_type": "stream",
     "text": [
      "INFO:root:AlphaCSC decomposition is done.\n",
      "INFO:root:AlphaCSC components are localized.\n",
      "INFO:root:AlphaCSC events are selected.\n",
      "INFO:root:ICA components selection is done.\n",
      "INFO:root:ICA peaks detection is done.\n",
      "INFO:root:ICA peaks are localized.\n",
      "INFO:root:ICA peaks cleaning is done.\n"
     ]
    },
    {
     "name": "stdout",
     "output_type": "stream",
     "text": [
      "[GreedyCDL] Converged after 22 iteration, (dz, du) = 8.574e-05, 3.228e-05\n"
     ]
    },
    {
     "name": "stderr",
     "output_type": "stream",
     "text": [
      "INFO:root:AlphaCSC decomposition is done.\n",
      "INFO:root:AlphaCSC components are localized.\n",
      "INFO:root:AlphaCSC events are selected.\n",
      "INFO:root:ICA components selection is done.\n",
      "INFO:root:ICA peaks detection is done.\n",
      "INFO:root:ICA peaks are localized.\n",
      "INFO:root:ICA peaks cleaning is done.\n"
     ]
    },
    {
     "name": "stdout",
     "output_type": "stream",
     "text": [
      "[GreedyCDL] Converged after 17 iteration, (dz, du) = 8.415e-05, 4.191e-05\n"
     ]
    },
    {
     "name": "stderr",
     "output_type": "stream",
     "text": [
      "INFO:root:AlphaCSC decomposition is done.\n",
      "INFO:root:AlphaCSC components are localized.\n",
      "INFO:root:AlphaCSC events are selected.\n"
     ]
    }
   ],
   "source": [
    "#for subj in range(1,8):\n",
    "\n",
    "case = setup_case_manager(case2analyze)\n",
    "\n",
    "pipe = aspire_alphacsc_pipeline(case, params_for_detection, rewrite_previous_results=True)\n",
    "\n",
    "dataset, raw = pipe.fit_transform(None)\n"
   ]
  },
  {
   "cell_type": "markdown",
   "metadata": {},
   "source": [
    "### Add alpha-notch filtering for case № 5 "
   ]
  },
  {
   "cell_type": "code",
   "execution_count": 7,
   "metadata": {},
   "outputs": [],
   "source": [
    "params_for_detection_case_5 = {\n",
    "    'n_ica_components': 20,\n",
    "    'n_runs': 4,\n",
    "    'runs': [0,1,2,3 ],\n",
    "    'n_atoms': 3,\n",
    "    'PrepareData' : {'alpha_notch': 8},\n",
    "    'PeakDetection': {'width': 2},\n",
    "    'CleanDetections': {'n_cleaned_peaks': 300},\n",
    "    'SelectAlphacscEvents': {\n",
    "        'z_hat_threshold': 7.,\n",
    "        'z_hat_threshold_min': 1.5},\n",
    "}"
   ]
  },
  {
   "cell_type": "code",
   "execution_count": 9,
   "metadata": {
    "scrolled": false
   },
   "outputs": [
    {
     "name": "stderr",
     "output_type": "stream",
     "text": [
      "INFO:root:ICA decomposition is done.\n",
      "INFO:root:ICA components are localized.\n",
      "INFO:root:ICA components selection is done.\n",
      "INFO:root:ICA peaks detection is done.\n",
      "INFO:root:ICA peaks are localized.\n",
      "INFO:root:ICA peaks cleaning is done.\n"
     ]
    },
    {
     "name": "stdout",
     "output_type": "stream",
     "text": [
      "[GreedyCDL] Converged after 17 iteration, (dz, du) = 8.436e-05, 5.505e-05\n"
     ]
    },
    {
     "name": "stderr",
     "output_type": "stream",
     "text": [
      "INFO:root:AlphaCSC decomposition is done.\n",
      "INFO:root:AlphaCSC components are localized.\n",
      "INFO:root:AlphaCSC events are selected.\n",
      "INFO:root:ICA components selection is done.\n",
      "INFO:root:ICA peaks detection is done.\n",
      "INFO:root:ICA peaks are localized.\n",
      "INFO:root:ICA peaks cleaning is done.\n"
     ]
    },
    {
     "name": "stdout",
     "output_type": "stream",
     "text": [
      "[GreedyCDL] Converged after 18 iteration, (dz, du) = 9.352e-05, 7.294e-05\n"
     ]
    },
    {
     "name": "stderr",
     "output_type": "stream",
     "text": [
      "INFO:root:AlphaCSC decomposition is done.\n",
      "INFO:root:AlphaCSC components are localized.\n",
      "INFO:root:AlphaCSC events are selected.\n",
      "INFO:root:ICA components selection is done.\n",
      "INFO:root:ICA peaks detection is done.\n",
      "INFO:root:ICA peaks are localized.\n",
      "INFO:root:ICA peaks cleaning is done.\n"
     ]
    },
    {
     "name": "stdout",
     "output_type": "stream",
     "text": [
      "[GreedyCDL] Converged after 28 iteration, (dz, du) = 9.696e-05, 8.544e-05\n"
     ]
    },
    {
     "name": "stderr",
     "output_type": "stream",
     "text": [
      "INFO:root:AlphaCSC decomposition is done.\n",
      "INFO:root:AlphaCSC components are localized.\n",
      "INFO:root:AlphaCSC events are selected.\n",
      "INFO:root:ICA components selection is done.\n",
      "INFO:root:ICA peaks detection is done.\n",
      "INFO:root:ICA peaks are localized.\n",
      "INFO:root:ICA peaks cleaning is done.\n"
     ]
    },
    {
     "name": "stdout",
     "output_type": "stream",
     "text": [
      "[GreedyCDL] Converged after 16 iteration, (dz, du) = 9.716e-05, 6.292e-05\n"
     ]
    },
    {
     "name": "stderr",
     "output_type": "stream",
     "text": [
      "INFO:root:AlphaCSC decomposition is done.\n",
      "INFO:root:AlphaCSC components are localized.\n",
      "INFO:root:AlphaCSC events are selected.\n",
      "INFO:root:ICA decomposition is done.\n",
      "INFO:root:ICA components are localized.\n",
      "INFO:root:ICA components selection is done.\n",
      "INFO:root:ICA peaks detection is done.\n",
      "INFO:root:ICA peaks are localized.\n",
      "INFO:root:ICA peaks cleaning is done.\n"
     ]
    },
    {
     "name": "stdout",
     "output_type": "stream",
     "text": [
      "[GreedyCDL] Converged after 23 iteration, (dz, du) = 9.151e-05, 4.435e-05\n"
     ]
    },
    {
     "name": "stderr",
     "output_type": "stream",
     "text": [
      "INFO:root:AlphaCSC decomposition is done.\n",
      "INFO:root:AlphaCSC components are localized.\n",
      "INFO:root:AlphaCSC events are selected.\n",
      "INFO:root:ICA components selection is done.\n",
      "INFO:root:ICA peaks detection is done.\n",
      "INFO:root:ICA peaks are localized.\n",
      "INFO:root:ICA peaks cleaning is done.\n"
     ]
    },
    {
     "name": "stdout",
     "output_type": "stream",
     "text": [
      "[GreedyCDL] Converged after 17 iteration, (dz, du) = 9.261e-05, 1.986e-05\n"
     ]
    },
    {
     "name": "stderr",
     "output_type": "stream",
     "text": [
      "INFO:root:AlphaCSC decomposition is done.\n",
      "INFO:root:AlphaCSC components are localized.\n",
      "INFO:root:AlphaCSC events are selected.\n",
      "INFO:root:ICA components selection is done.\n",
      "INFO:root:ICA peaks detection is done.\n",
      "INFO:root:ICA peaks are localized.\n",
      "INFO:root:ICA peaks cleaning is done.\n"
     ]
    },
    {
     "name": "stdout",
     "output_type": "stream",
     "text": [
      "[GreedyCDL] Converged after 16 iteration, (dz, du) = 9.919e-05, 4.954e-05\n"
     ]
    },
    {
     "name": "stderr",
     "output_type": "stream",
     "text": [
      "INFO:root:AlphaCSC decomposition is done.\n",
      "INFO:root:AlphaCSC components are localized.\n",
      "INFO:root:AlphaCSC events are selected.\n",
      "INFO:root:ICA components selection is done.\n",
      "INFO:root:ICA peaks detection is done.\n",
      "INFO:root:ICA peaks are localized.\n",
      "INFO:root:ICA peaks cleaning is done.\n"
     ]
    },
    {
     "name": "stdout",
     "output_type": "stream",
     "text": [
      "[GreedyCDL] Converged after 19 iteration, (dz, du) = 9.750e-05, 4.356e-05\n"
     ]
    },
    {
     "name": "stderr",
     "output_type": "stream",
     "text": [
      "INFO:root:AlphaCSC decomposition is done.\n",
      "INFO:root:AlphaCSC components are localized.\n",
      "INFO:root:AlphaCSC events are selected.\n"
     ]
    }
   ],
   "source": [
    "case = setup_case_manager(case2analyze)\n",
    "\n",
    "pipe = aspire_alphacsc_pipeline(case, params_for_detection_case_5, rewrite_previous_results=True)\n",
    "#pipe = aspire_alphacsc_pipeline(case, params_for_detection_case_5)\n",
    "dataset, raw = pipe.fit_transform(None)"
   ]
  },
  {
   "cell_type": "markdown",
   "metadata": {},
   "source": [
    "### PFD detection report for each case\n",
    "\n",
    "Report includes the following plots for each run and sensor type:\n",
    "1. ICA components\n",
    "2. AlphaCSC atoms\n",
    "3. AlphaCSC events for each atom"
   ]
  },
  {
   "cell_type": "code",
   "execution_count": 10,
   "metadata": {
    "pycharm": {
     "name": "#%%\n"
    },
    "scrolled": true
   },
   "outputs": [
    {
     "name": "stderr",
     "output_type": "stream",
     "text": [
      "/home/cdm/miniconda3/envs/megspikes-pipeline/lib/python3.7/site-packages/megspikes/database/database.py:760: UserWarning: alphacsc_atoms_properties.loc[{'alphacsc_atom_property': 'selected'}] values are all the same\n",
      "  f\"{da_name}.loc[{selection}] values are all the same\")\n",
      "/home/cdm/miniconda3/envs/megspikes-pipeline/lib/python3.7/site-packages/megspikes/database/database.py:760: UserWarning: alphacsc_atoms_properties.loc[{'alphacsc_atom_property': 'selected'}] values are all the same\n",
      "  f\"{da_name}.loc[{selection}] values are all the same\")\n",
      "/home/cdm/miniconda3/envs/megspikes-pipeline/lib/python3.7/site-packages/megspikes/database/database.py:760: UserWarning: alphacsc_atoms_properties.loc[{'alphacsc_atom_property': 'selected'}] values are all the same\n",
      "  f\"{da_name}.loc[{selection}] values are all the same\")\n",
      "/home/cdm/miniconda3/envs/megspikes-pipeline/lib/python3.7/site-packages/megspikes/database/database.py:760: UserWarning: alphacsc_atoms_properties.loc[{'alphacsc_atom_property': 'selected'}] values are all the same\n",
      "  f\"{da_name}.loc[{selection}] values are all the same\")\n",
      "/home/cdm/miniconda3/envs/megspikes-pipeline/lib/python3.7/site-packages/megspikes/database/database.py:760: UserWarning: alphacsc_atoms_properties.loc[{'alphacsc_atom_property': 'selected'}] values are all the same\n",
      "  f\"{da_name}.loc[{selection}] values are all the same\")\n",
      "/home/cdm/miniconda3/envs/megspikes-pipeline/lib/python3.7/site-packages/megspikes/database/database.py:760: UserWarning: alphacsc_atoms_properties.loc[{'alphacsc_atom_property': 'selected'}] values are all the same\n",
      "  f\"{da_name}.loc[{selection}] values are all the same\")\n",
      "/home/cdm/miniconda3/envs/megspikes-pipeline/lib/python3.7/site-packages/megspikes/database/database.py:760: UserWarning: alphacsc_atoms_properties.loc[{'alphacsc_atom_property': 'selected'}] values are all the same\n",
      "  f\"{da_name}.loc[{selection}] values are all the same\")\n",
      "/home/cdm/miniconda3/envs/megspikes-pipeline/lib/python3.7/site-packages/megspikes/database/database.py:760: UserWarning: alphacsc_atoms_properties.loc[{'alphacsc_atom_property': 'selected'}] values are all the same\n",
      "  f\"{da_name}.loc[{selection}] values are all the same\")\n",
      "/home/cdm/miniconda3/envs/megspikes-pipeline/lib/python3.7/site-packages/megspikes/database/database.py:760: UserWarning: alphacsc_atoms_properties.loc[{'alphacsc_atom_property': 'selected'}] values are all the same\n",
      "  f\"{da_name}.loc[{selection}] values are all the same\")\n",
      "/home/cdm/miniconda3/envs/megspikes-pipeline/lib/python3.7/site-packages/megspikes/database/database.py:760: UserWarning: alphacsc_atoms_properties.loc[{'alphacsc_atom_property': 'selected'}] values are all the same\n",
      "  f\"{da_name}.loc[{selection}] values are all the same\")\n",
      "/home/cdm/miniconda3/envs/megspikes-pipeline/lib/python3.7/site-packages/megspikes/database/database.py:760: UserWarning: alphacsc_atoms_properties.loc[{'alphacsc_atom_property': 'selected'}] values are all the same\n",
      "  f\"{da_name}.loc[{selection}] values are all the same\")\n",
      "/home/cdm/miniconda3/envs/megspikes-pipeline/lib/python3.7/site-packages/megspikes/database/database.py:760: UserWarning: alphacsc_atoms_properties.loc[{'alphacsc_atom_property': 'selected'}] values are all the same\n",
      "  f\"{da_name}.loc[{selection}] values are all the same\")\n",
      "/home/cdm/miniconda3/envs/megspikes-pipeline/lib/python3.7/site-packages/megspikes/database/database.py:760: UserWarning: alphacsc_atoms_properties.loc[{'alphacsc_atom_property': 'selected'}] values are all the same\n",
      "  f\"{da_name}.loc[{selection}] values are all the same\")\n",
      "/home/cdm/miniconda3/envs/megspikes-pipeline/lib/python3.7/site-packages/megspikes/database/database.py:760: UserWarning: alphacsc_atoms_properties.loc[{'alphacsc_atom_property': 'selected'}] values are all the same\n",
      "  f\"{da_name}.loc[{selection}] values are all the same\")\n",
      "/home/cdm/miniconda3/envs/megspikes-pipeline/lib/python3.7/site-packages/megspikes/database/database.py:760: UserWarning: alphacsc_atoms_properties.loc[{'alphacsc_atom_property': 'selected'}] values are all the same\n",
      "  f\"{da_name}.loc[{selection}] values are all the same\")\n",
      "/home/cdm/miniconda3/envs/megspikes-pipeline/lib/python3.7/site-packages/megspikes/database/database.py:760: UserWarning: alphacsc_atoms_properties.loc[{'alphacsc_atom_property': 'selected'}] values are all the same\n",
      "  f\"{da_name}.loc[{selection}] values are all the same\")\n",
      "/home/cdm/miniconda3/envs/megspikes-pipeline/lib/python3.7/site-packages/megspikes/database/database.py:760: UserWarning: alphacsc_atoms_properties.loc[{'alphacsc_atom_property': 'selected'}] values are all the same\n",
      "  f\"{da_name}.loc[{selection}] values are all the same\")\n",
      "/home/cdm/miniconda3/envs/megspikes-pipeline/lib/python3.7/site-packages/megspikes/database/database.py:760: UserWarning: alphacsc_atoms_properties.loc[{'alphacsc_atom_property': 'selected'}] values are all the same\n",
      "  f\"{da_name}.loc[{selection}] values are all the same\")\n",
      "/home/cdm/miniconda3/envs/megspikes-pipeline/lib/python3.7/site-packages/megspikes/database/database.py:760: UserWarning: alphacsc_atoms_properties.loc[{'alphacsc_atom_property': 'selected'}] values are all the same\n",
      "  f\"{da_name}.loc[{selection}] values are all the same\")\n",
      "/home/cdm/miniconda3/envs/megspikes-pipeline/lib/python3.7/site-packages/megspikes/database/database.py:760: UserWarning: alphacsc_atoms_properties.loc[{'alphacsc_atom_property': 'selected'}] values are all the same\n",
      "  f\"{da_name}.loc[{selection}] values are all the same\")\n",
      "/home/cdm/miniconda3/envs/megspikes-pipeline/lib/python3.7/site-packages/megspikes/database/database.py:760: UserWarning: alphacsc_atoms_properties.loc[{'alphacsc_atom_property': 'selected'}] values are all the same\n",
      "  f\"{da_name}.loc[{selection}] values are all the same\")\n",
      "/home/cdm/miniconda3/envs/megspikes-pipeline/lib/python3.7/site-packages/megspikes/database/database.py:760: UserWarning: alphacsc_atoms_properties.loc[{'alphacsc_atom_property': 'selected'}] values are all the same\n",
      "  f\"{da_name}.loc[{selection}] values are all the same\")\n",
      "/home/cdm/miniconda3/envs/megspikes-pipeline/lib/python3.7/site-packages/megspikes/database/database.py:760: UserWarning: alphacsc_atoms_properties.loc[{'alphacsc_atom_property': 'selected'}] values are all the same\n",
      "  f\"{da_name}.loc[{selection}] values are all the same\")\n",
      "/home/cdm/miniconda3/envs/megspikes-pipeline/lib/python3.7/site-packages/megspikes/database/database.py:760: UserWarning: alphacsc_atoms_properties.loc[{'alphacsc_atom_property': 'selected'}] values are all the same\n",
      "  f\"{da_name}.loc[{selection}] values are all the same\")\n",
      "/home/cdm/miniconda3/envs/megspikes-pipeline/lib/python3.7/site-packages/megspikes/database/database.py:760: UserWarning: alphacsc_atoms_properties.loc[{'alphacsc_atom_property': 'selected'}] values are all the same\n",
      "  f\"{da_name}.loc[{selection}] values are all the same\")\n",
      "/home/cdm/miniconda3/envs/megspikes-pipeline/lib/python3.7/site-packages/megspikes/database/database.py:760: UserWarning: alphacsc_atoms_properties.loc[{'alphacsc_atom_property': 'selected'}] values are all the same\n",
      "  f\"{da_name}.loc[{selection}] values are all the same\")\n",
      "/home/cdm/miniconda3/envs/megspikes-pipeline/lib/python3.7/site-packages/megspikes/database/database.py:760: UserWarning: alphacsc_atoms_properties.loc[{'alphacsc_atom_property': 'selected'}] values are all the same\n",
      "  f\"{da_name}.loc[{selection}] values are all the same\")\n",
      "/home/cdm/miniconda3/envs/megspikes-pipeline/lib/python3.7/site-packages/megspikes/database/database.py:760: UserWarning: alphacsc_atoms_properties.loc[{'alphacsc_atom_property': 'selected'}] values are all the same\n",
      "  f\"{da_name}.loc[{selection}] values are all the same\")\n"
     ]
    }
   ],
   "source": [
    "for subj in [case2analyze]:\n",
    "    case = setup_case_manager(subj)\n",
    "\n",
    "    detection_results = xr.open_dataset(case.dataset)\n",
    "\n",
    "    raw = mne.io.read_raw_fif(case.fif_file, preload=True)\n",
    "\n",
    "    pdf_path = case.basic_folders['REPORTS'] / 'detection_report.pdf'\n",
    "    report_detection(pdf_path, detection_results, raw.copy())\n",
    "\n",
    "    pdf_path = case.basic_folders['REPORTS'] / 'atoms_library_report.pdf'\n",
    "    report_atoms_library(pdf_path, detection_results, raw.copy())\n",
    "\n"
   ]
  },
  {
   "cell_type": "markdown",
   "metadata": {
    "pycharm": {
     "name": "#%% md\n"
    }
   },
   "source": [
    "### Rerun merging step for one case\n",
    "It would be necessary when there are not many atoms in the atoms library."
   ]
  },
  {
   "cell_type": "code",
   "execution_count": null,
   "metadata": {
    "pycharm": {
     "name": "#%%\n"
    }
   },
   "outputs": [],
   "source": [
    "from sklearn.pipeline import Pipeline\n",
    "from megspikes.detection.detection import AspireAlphacscRunsMerging\n",
    "from megspikes.database.database import SaveDataset, LoadDataset\n",
    "from megspikes.pipeline import update_default_params\n",
    "from megspikes.utils import PrepareData\n",
    "\n",
    "case = setup_case_manager(6)\n",
    "\n",
    "with open('aspire_alphacsc_default_params.yml', 'rt') as f:\n",
    "    default_params = yaml.safe_load(f.read())\n",
    "params = update_default_params(default_params, params_for_detection)\n",
    "\n",
    "pipe_merging_only = Pipeline([\n",
    "    ('prepare_data', PrepareData(data_file=case.fif_file, sensors=True, **params['PrepareData'])),\n",
    "    ('load_aspire_alphacsc_dataset', LoadDataset(dataset=case.dataset, sensors=None, run=None)),\n",
    "    ('merge_atoms', AspireAlphacscRunsMerging(**params['AspireAlphacscRunsMerging'])),\n",
    "    ('save_dataset', SaveDataset(dataset=case.dataset))])"
   ]
  },
  {
   "cell_type": "code",
   "execution_count": null,
   "metadata": {
    "pycharm": {
     "name": "#%%\n"
    }
   },
   "outputs": [],
   "source": [
    "pipe_merging_only"
   ]
  },
  {
   "cell_type": "code",
   "execution_count": null,
   "metadata": {
    "pycharm": {
     "name": "#%%\n"
    }
   },
   "outputs": [],
   "source": [
    "_,_ = pipe_merging_only.fit_transform(())\n",
    "detection_results = xr.open_dataset(case.dataset)"
   ]
  },
  {
   "cell_type": "code",
   "execution_count": null,
   "metadata": {
    "pycharm": {
     "name": "#%%\n"
    }
   },
   "outputs": [],
   "source": [
    "spikes = detection_results.alphacsc_atoms_library_properties.loc[\n",
    "    dict(atoms_library_property='library_detection')].values\n",
    "\n",
    "sum(spikes != 0)\n"
   ]
  },
  {
   "cell_type": "markdown",
   "metadata": {
    "pycharm": {
     "name": "#%% md\n"
    }
   },
   "source": [
    "### PFD detection report for each case again\n",
    "\n",
    "Report includes the following plots for each run and sensor type:\n",
    "1. ICA components\n",
    "2. AlphaCSC atoms\n",
    "3. AlphaCSC events for each atom"
   ]
  },
  {
   "cell_type": "code",
   "execution_count": null,
   "metadata": {
    "pycharm": {
     "name": "#%%\n"
    }
   },
   "outputs": [],
   "source": [
    "for subj in range(1, 8):\n",
    "    case = setup_case_manager(subj)\n",
    "\n",
    "    detection_results = xr.open_dataset(case.dataset)\n",
    "\n",
    "    raw = mne.io.read_raw_fif(case.fif_file, preload=True)\n",
    "\n",
    "    pdf_path = case.basic_folders['REPORTS'] / 'detection_report.pdf'\n",
    "    report_detection(pdf_path, detection_results, raw.copy())\n",
    "\n",
    "    pdf_path = case.basic_folders['REPORTS'] / 'atoms_library_report.pdf'\n",
    "    report_atoms_library(pdf_path, detection_results, raw.copy())\n",
    "\n",
    "\n",
    "\n"
   ]
  },
  {
   "cell_type": "code",
   "execution_count": null,
   "metadata": {},
   "outputs": [],
   "source": []
  }
 ],
 "metadata": {
  "kernelspec": {
   "display_name": "megspikes-pipeline",
   "language": "python",
   "name": "megspikes-pipeline"
  },
  "language_info": {
   "codemirror_mode": {
    "name": "ipython",
    "version": 3
   },
   "file_extension": ".py",
   "mimetype": "text/x-python",
   "name": "python",
   "nbconvert_exporter": "python",
   "pygments_lexer": "ipython3",
   "version": "3.7.12"
  }
 },
 "nbformat": 4,
 "nbformat_minor": 1
}
