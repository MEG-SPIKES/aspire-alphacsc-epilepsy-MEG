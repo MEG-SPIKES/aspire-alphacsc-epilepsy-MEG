{
 "cells": [
  {
   "cell_type": "code",
   "execution_count": null,
   "metadata": {},
   "outputs": [],
   "source": [
    "import logging\n",
    "import warnings\n",
    "\n",
    "import mne\n",
    "import xarray as xr\n",
    "import yaml\n",
    "from megspikes.pipeline import aspire_alphacsc_pipeline\n",
    "from megspikes.visualization.report import report_detection, report_atoms_library\n",
    "\n",
    "from utils.utils import setup_case_manager\n",
    "\n",
    "warnings.filterwarnings(\"ignore\", category=DeprecationWarning)\n",
    "logger = logging.getLogger()\n",
    "logger.setLevel(logging.INFO)\n",
    "logging.debug(\"test debug\")\n",
    "logging.info(\"test info\")\n",
    "\n",
    "from sklearn import set_config\n",
    "set_config(display='diagram')\n",
    "%load_ext autoreload\n",
    "%autoreload 2\n"
   ]
  },
  {
   "cell_type": "code",
   "execution_count": null,
   "metadata": {},
   "outputs": [],
   "source": [
    "case2analyze = 10 #k0p0\n",
    "case = setup_case_manager(case2analyze)\n",
    "case.case"
   ]
  },
  {
   "cell_type": "markdown",
   "metadata": {},
   "source": [
    "### Setup parameters"
   ]
  },
  {
   "cell_type": "code",
   "execution_count": null,
   "metadata": {
    "pycharm": {
     "name": "#%%\n"
    }
   },
   "outputs": [],
   "source": [
    "params_for_detection = {\n",
    "    'n_ica_components': 20,\n",
    "    'n_runs': 4,\n",
    "    'runs': [0,1,2,3 ],\n",
    "    'n_atoms': 3,\n",
    "    'PeakDetection': {'width': 2},\n",
    "    'CleanDetections': {'n_cleaned_peaks': 300},\n",
    "    'SelectAlphacscEvents': {\n",
    "        'z_hat_threshold': 7.,\n",
    "        'z_hat_threshold_min': 1.5}\n",
    "}"
   ]
  },
  {
   "cell_type": "markdown",
   "metadata": {},
   "source": [
    "### Run detection pipeline for all cases"
   ]
  },
  {
   "cell_type": "code",
   "execution_count": null,
   "metadata": {
    "pycharm": {
     "is_executing": true
    },
    "scrolled": true
   },
   "outputs": [],
   "source": [
    "#for subj in range(1,8):\n",
    "\n",
    "case = setup_case_manager(case2analyze)\n",
    "\n",
    "pipe = aspire_alphacsc_pipeline(case, params_for_detection, rewrite_previous_results=True)\n",
    "\n",
    "dataset, raw = pipe.fit_transform(None)\n"
   ]
  },
  {
   "cell_type": "markdown",
   "metadata": {},
   "source": [
    "### Add alpha-notch filtering for case № 5 "
   ]
  },
  {
   "cell_type": "code",
   "execution_count": null,
   "metadata": {},
   "outputs": [],
   "source": [
    "params_for_detection_case_5 = {\n",
    "    'n_ica_components': 20,\n",
    "    'n_runs': 4,\n",
    "    'runs': [0,1,2,3 ],\n",
    "    'n_atoms': 3,\n",
    "    'PrepareData' : {'alpha_notch': 8},\n",
    "    'PeakDetection': {'width': 2},\n",
    "    'CleanDetections': {'n_cleaned_peaks': 300},\n",
    "    'SelectAlphacscEvents': {\n",
    "        'z_hat_threshold': 7.,\n",
    "        'z_hat_threshold_min': 1.5},\n",
    "}"
   ]
  },
  {
   "cell_type": "code",
   "execution_count": null,
   "metadata": {
    "scrolled": false
   },
   "outputs": [],
   "source": [
    "case = setup_case_manager(case2analyze)\n",
    "\n",
    "pipe = aspire_alphacsc_pipeline(case, params_for_detection_case_5, rewrite_previous_results=True)\n",
    "#pipe = aspire_alphacsc_pipeline(case, params_for_detection_case_5)\n",
    "dataset, raw = pipe.fit_transform(None)"
   ]
  },
  {
   "cell_type": "markdown",
   "metadata": {},
   "source": [
    "### PFD detection report for each case\n",
    "\n",
    "Report includes the following plots for each run and sensor type:\n",
    "1. ICA components\n",
    "2. AlphaCSC atoms\n",
    "3. AlphaCSC events for each atom"
   ]
  },
  {
   "cell_type": "code",
   "execution_count": null,
   "metadata": {
    "pycharm": {
     "name": "#%%\n"
    },
    "scrolled": true
   },
   "outputs": [],
   "source": [
    "for subj in [case2analyze]:\n",
    "    case = setup_case_manager(subj)\n",
    "\n",
    "    detection_results = xr.open_dataset(case.dataset)\n",
    "\n",
    "    raw = mne.io.read_raw_fif(case.fif_file, preload=True)\n",
    "\n",
    "    pdf_path = case.basic_folders['REPORTS'] / 'detection_report.pdf'\n",
    "    report_detection(pdf_path, detection_results, raw.copy())\n",
    "\n",
    "    pdf_path = case.basic_folders['REPORTS'] / 'atoms_library_report.pdf'\n",
    "    report_atoms_library(pdf_path, detection_results, raw.copy())\n",
    "\n"
   ]
  },
  {
   "cell_type": "markdown",
   "metadata": {
    "pycharm": {
     "name": "#%% md\n"
    }
   },
   "source": [
    "### Rerun merging step for one case\n",
    "It would be necessary when there are not many atoms in the atoms library."
   ]
  },
  {
   "cell_type": "code",
   "execution_count": null,
   "metadata": {
    "pycharm": {
     "name": "#%%\n"
    }
   },
   "outputs": [],
   "source": [
    "from sklearn.pipeline import Pipeline\n",
    "from megspikes.detection.detection import AspireAlphacscRunsMerging\n",
    "from megspikes.database.database import SaveDataset, LoadDataset\n",
    "from megspikes.pipeline import update_default_params\n",
    "from megspikes.utils import PrepareData\n",
    "\n",
    "case = setup_case_manager(6)\n",
    "\n",
    "with open('aspire_alphacsc_default_params.yml', 'rt') as f:\n",
    "    default_params = yaml.safe_load(f.read())\n",
    "params = update_default_params(default_params, params_for_detection)\n",
    "\n",
    "pipe_merging_only = Pipeline([\n",
    "    ('prepare_data', PrepareData(data_file=case.fif_file, sensors=True, **params['PrepareData'])),\n",
    "    ('load_aspire_alphacsc_dataset', LoadDataset(dataset=case.dataset, sensors=None, run=None)),\n",
    "    ('merge_atoms', AspireAlphacscRunsMerging(**params['AspireAlphacscRunsMerging'])),\n",
    "    ('save_dataset', SaveDataset(dataset=case.dataset))])"
   ]
  },
  {
   "cell_type": "code",
   "execution_count": null,
   "metadata": {
    "pycharm": {
     "name": "#%%\n"
    }
   },
   "outputs": [],
   "source": [
    "pipe_merging_only"
   ]
  },
  {
   "cell_type": "code",
   "execution_count": null,
   "metadata": {
    "pycharm": {
     "name": "#%%\n"
    }
   },
   "outputs": [],
   "source": [
    "_,_ = pipe_merging_only.fit_transform(())\n",
    "detection_results = xr.open_dataset(case.dataset)"
   ]
  },
  {
   "cell_type": "code",
   "execution_count": null,
   "metadata": {
    "pycharm": {
     "name": "#%%\n"
    }
   },
   "outputs": [],
   "source": [
    "spikes = detection_results.alphacsc_atoms_library_properties.loc[\n",
    "    dict(atoms_library_property='library_detection')].values\n",
    "\n",
    "sum(spikes != 0)\n"
   ]
  },
  {
   "cell_type": "markdown",
   "metadata": {
    "pycharm": {
     "name": "#%% md\n"
    }
   },
   "source": [
    "### PFD detection report for each case again\n",
    "\n",
    "Report includes the following plots for each run and sensor type:\n",
    "1. ICA components\n",
    "2. AlphaCSC atoms\n",
    "3. AlphaCSC events for each atom"
   ]
  },
  {
   "cell_type": "code",
   "execution_count": null,
   "metadata": {
    "pycharm": {
     "name": "#%%\n"
    }
   },
   "outputs": [],
   "source": [
    "for subj in range(1, 8):\n",
    "    case = setup_case_manager(subj)\n",
    "\n",
    "    detection_results = xr.open_dataset(case.dataset)\n",
    "\n",
    "    raw = mne.io.read_raw_fif(case.fif_file, preload=True)\n",
    "\n",
    "    pdf_path = case.basic_folders['REPORTS'] / 'detection_report.pdf'\n",
    "    report_detection(pdf_path, detection_results, raw.copy())\n",
    "\n",
    "    pdf_path = case.basic_folders['REPORTS'] / 'atoms_library_report.pdf'\n",
    "    report_atoms_library(pdf_path, detection_results, raw.copy())\n",
    "\n",
    "\n",
    "\n"
   ]
  },
  {
   "cell_type": "code",
   "execution_count": null,
   "metadata": {},
   "outputs": [],
   "source": []
  }
 ],
 "metadata": {
  "kernelspec": {
   "display_name": "megspikes-pipeline",
   "language": "python",
   "name": "megspikes-pipeline"
  },
  "language_info": {
   "codemirror_mode": {
    "name": "ipython",
    "version": 3
   },
   "file_extension": ".py",
   "mimetype": "text/x-python",
   "name": "python",
   "nbconvert_exporter": "python",
   "pygments_lexer": "ipython3",
   "version": "3.7.12"
  }
 },
 "nbformat": 4,
 "nbformat_minor": 1
}