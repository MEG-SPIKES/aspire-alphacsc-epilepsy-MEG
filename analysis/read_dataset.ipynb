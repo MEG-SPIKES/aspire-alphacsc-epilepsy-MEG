{
 "cells": [
  {
   "cell_type": "code",
   "execution_count": null,
   "id": "b79f8819",
   "metadata": {},
   "outputs": [],
   "source": [
    "import logging\n",
    "import warnings\n",
    "\n",
    "import mne\n",
    "import xarray as xr\n",
    "import yaml\n",
    "from megspikes.pipeline import aspire_alphacsc_pipeline\n",
    "from megspikes.visualization.report import report_detection, report_atoms_library\n",
    "\n",
    "from utils.utils import setup_case_manager\n",
    "\n",
    "warnings.filterwarnings(\"ignore\", category=DeprecationWarning)\n",
    "logger = logging.getLogger()\n",
    "logger.setLevel(logging.INFO)\n",
    "logging.debug(\"test debug\")\n",
    "logging.info(\"test info\")\n",
    "\n",
    "from sklearn import set_config\n",
    "set_config(display='diagram')\n",
    "%load_ext autoreload\n",
    "%autoreload 2\n"
   ]
  },
  {
   "cell_type": "code",
   "execution_count": null,
   "id": "efe0303c",
   "metadata": {},
   "outputs": [],
   "source": [
    "case = setup_case_manager(1)\n",
    "\n",
    "detection_results = xr.open_dataset(case.dataset)"
   ]
  },
  {
   "cell_type": "raw",
   "id": "d2512464",
   "metadata": {},
   "source": []
  },
  {
   "cell_type": "code",
   "execution_count": null,
   "id": "ba70adbc",
   "metadata": {
    "scrolled": true
   },
   "outputs": [],
   "source": [
    "# Inspect dataset\n",
    "\n",
    "detection_results"
   ]
  },
  {
   "cell_type": "code",
   "execution_count": null,
   "id": "109fda10",
   "metadata": {},
   "outputs": [],
   "source": [
    "# explore dataset\n",
    "\n",
    "import numpy as np\n",
    "import pandas as pd\n",
    "import matplotlib.pyplot as plt\n",
    "import xarray as xr\n",
    "\n"
   ]
  },
  {
   "cell_type": "code",
   "execution_count": null,
   "id": "da680964",
   "metadata": {},
   "outputs": [],
   "source": [
    "# the number of events in the libraries equals the alpha csc dection in mag and grad\n",
    "%matplotlib qt \n",
    "events_lib_tot  = np.sum(detection_results.alphacsc_atoms_library_properties[0].values)\n",
    "events_lib_grad = np.sum(detection_results.detection_properties.loc[dict(sensors = 'grad', detection_property = 'alphacsc_detection')].values)\n",
    "events_lib_mag  = np.sum(detection_results.detection_properties.loc[dict(sensors = 'mag', detection_property = 'alphacsc_detection')].values) \n",
    "\n",
    "print(\"the total number of events is \" + str(events_lib_tot) + \" = \" + str(events_lib_grad) + \" (grad) \" +  str(events_lib_mag) + \" (mag) \")"
   ]
  },
  {
   "cell_type": "code",
   "execution_count": null,
   "id": "96efe90e",
   "metadata": {},
   "outputs": [],
   "source": [
    "# compare z hat with atoms time stamps\n",
    "\n",
    "%matplotlib qt \n",
    "\n",
    "from scipy import signal, stats\n",
    "import matplotlib.lines as lines\n",
    "\n",
    "run  = 0 # there is only 1\n",
    "sens = 0 # grad \n",
    "atom = 0 # N atom \n",
    "z_hat = detection_results.alphacsc_z_hat[run][sens][atom]\n",
    "\n",
    "# ev1\n",
    "ev1 = np.nonzero(detection_results.detection_properties.loc[dict( detection_property= 'alphacsc_detection', sensors = 'grad')].values)[1]\n",
    "alphacsc_atom = detection_results.detection_properties.loc[dict( detection_property = 'alphacsc_atom', sensors = 'grad')].values[0]                                                                                                                                                                                                                                                                                                                                                                                                                                                                                                                                                                                                                                                                                                                                                                                                                                                                                                                                                                                                \n",
    " \n",
    "\n",
    "# plot zhat and superimpose events time stamp\n",
    "# ( consider that the events are searched at zhat peak immediately preceding the ica detections:\n",
    "# the zhat peak set the beginning of a 0.5 s window where the spike appears, therefore an alignment\n",
    "# must be done for the events clustering. see detection.SelectAlphacscEvents for details)\n",
    "\n",
    "ax1 = plt.subplot(2,1,1)\n",
    "ax1.plot(detection_results.time, z_hat)\n",
    "ax1.stem(ev1/200, np.ones(len(ev1))*7e-10,'r')\n",
    "ax1.set_title('z_hat') \n",
    "\n",
    "# add threshold as horizontal bar\n",
    "z_threshold = 2.5 # default value\n",
    "z_mad = stats.median_abs_deviation(z_hat[z_hat > 0])\n",
    "threshold = np.median(z_hat[z_hat > 0]) + z_mad*z_threshold \n",
    "ax1.add_artist(lines.Line2D([0, detection_results.time[-1]],[threshold, threshold],color ='g'))\n",
    "\n",
    "ax2 = plt.subplot(2,1,2, sharex=ax1)\n",
    "ax2.stem(ev1/200,alphacsc_atom[ev1])\n",
    "ax2.set_title('which atom') \n",
    "\n",
    "\n"
   ]
  },
  {
   "cell_type": "code",
   "execution_count": null,
   "id": "f99e7999",
   "metadata": {},
   "outputs": [],
   "source": []
  }
 ],
 "metadata": {
  "kernelspec": {
   "display_name": "megspikes-pipeline",
   "language": "python",
   "name": "megspikes-pipeline"
  },
  "language_info": {
   "codemirror_mode": {
    "name": "ipython",
    "version": 3
   },
   "file_extension": ".py",
   "mimetype": "text/x-python",
   "name": "python",
   "nbconvert_exporter": "python",
   "pygments_lexer": "ipython3",
   "version": "3.7.12"
  }
 },
 "nbformat": 4,
 "nbformat_minor": 5
}