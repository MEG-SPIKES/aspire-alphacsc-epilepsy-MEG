{
 "cells": [
  {
   "cell_type": "code",
   "execution_count": null,
   "metadata": {},
   "outputs": [],
   "source": [
    "import mne\n",
    "import numpy as np\n",
    "import xarray as xr\n",
    "\n",
    "from megspikes.pipeline import (iz_prediction_pipeline,\n",
    "                                read_detection_iz_prediction_pipeline)\n",
    "from megspikes.visualization.visualization import ClusterSlopeViewer\n",
    "from sklearn import set_config\n",
    "\n",
    "from utils.utils import setup_case_manager\n",
    "\n",
    "set_config(display='diagram')\n",
    "set_config(print_changed_only=False)\n",
    "\n",
    "%load_ext autoreload\n",
    "%autoreload 2\n",
    "                                                                                                                                                                                                                                                                                                                                                                                                                                                                            "
   ]
  },
  {
   "cell_type": "markdown",
   "metadata": {},
   "source": [
    "### Setup params"
   ]
  },
  {
   "cell_type": "code",
   "execution_count": null,
   "metadata": {
    "pycharm": {
     "name": "#%%\n"
    }
   },
   "outputs": [],
   "source": [
    "params = {\n",
    "    'PrepareClustersDataset': {'detection_sfreq': 200.}\n",
    "}\n"
   ]
  },
  {
   "cell_type": "markdown",
   "metadata": {
    "pycharm": {
     "name": "#%% md\n"
    }
   },
   "source": [
    "### Run clusters localization for all cases\n",
    "\n",
    "NOTE: if the previous results will not be overwritten. Algorithm will go through an\n",
    "error and stop."
   ]
  },
  {
   "cell_type": "code",
   "execution_count": null,
   "metadata": {
    "pycharm": {
     "name": "#%%\n"
    },
    "scrolled": false
   },
   "outputs": [],
   "source": [
    "for subj in range(10, 11):\n",
    "    case = setup_case_manager(subj)\n",
    "\n",
    "    pipe = read_detection_iz_prediction_pipeline(case, params,rewrite_previous_results=True)\n",
    "    detection_results = xr.open_dataset(case.dataset)\n",
    "\n",
    "    raw = mne.io.read_raw_fif(case.fif_file)\n",
    "    clusters, _ = pipe.fit_transform((detection_results, raw.copy()))\n",
    "                                                                                                                                                                                                                                                                                                                                                                                                                                                                                                                                                                                                                                                                                                                                                                                                                                                                                                                                                                                                                                                                                                                                                                                                                                                                                                                            "
   ]
  },
  {
   "cell_type": "markdown",
   "metadata": {},
   "source": [
    "### View clusters\n",
    "\n",
    "To manually update clusters slope use the following procedure:\n",
    "\n",
    "1. Change **selected_for_iz_prediction** values in the table to select clusters for prediction. 1 - selected; 0 - not selected.\n",
    "2. Change **time_baseline**, **time_slope**, **time_peak** values in the table. The time is in milliseconds.\n",
    "3. [Optional] Change **Save dataset path**. Extention should be **file_name.nc**.\n",
    "4. Press **Save Dataset** to rewrite or create the file with updated results.\n",
    "5. [Optional] Check the time of the last modification of the manually checked file to be sure the changes were saved.\n",
    "\n",
    "NOTE that some operations, such as saving, are slow. Please, wait until Jupyter notebook stops showing the process is running."
   ]
  },
  {
   "cell_type": "code",
   "execution_count": null,
   "metadata": {},
   "outputs": [],
   "source": [
    "import xarray as xr\n",
    "from megspikes.visualization.visualization import ClusterSlopeViewer\n",
    "from utils.utils import setup_case_manager\n",
    "subject = 10"
   ]
  },
  {
   "cell_type": "code",
   "execution_count": null,
   "metadata": {},
   "outputs": [],
   "source": [
    "\n",
    "\n",
    "case = setup_case_manager(subject)\n",
    "clusters = xr.open_dataset(case.cluster_dataset)\n",
    "pc = ClusterSlopeViewer(clusters, case)\n",
    "case.case"
   ]
  },
  {
   "cell_type": "code",
   "execution_count": null,
   "metadata": {},
   "outputs": [],
   "source": [
    "clusters"
   ]
  },
  {
   "cell_type": "code",
   "execution_count": null,
   "metadata": {
    "pycharm": {
     "name": "#%%\n"
    },
    "scrolled": false
   },
   "outputs": [],
   "source": [
    "%matplotlib qt5\n",
    "\n",
    "app = pc.view()\n",
    "#app.show()\n",
    "app\n"
   ]
  },
  {
   "cell_type": "markdown",
   "metadata": {},
   "source": [
    "### Open manually checked dataset\n",
    "\n",
    "NOTE `ds.load()` is necessary to save new changes in an existing file. See this issue: https://github.com/pydata/xarray/issues/2029"
   ]
  },
  {
   "cell_type": "code",
   "execution_count": 12,
   "metadata": {
    "pycharm": {
     "name": "#%%\n"
    },
    "scrolled": false
   },
   "outputs": [
    {
     "data": {},
     "metadata": {},
     "output_type": "display_data"
    },
    {
     "data": {
      "application/vnd.holoviews_exec.v0+json": "",
      "text/html": [
       "<div id='1270'>\n",
       "\n",
       "\n",
       "\n",
       "\n",
       "\n",
       "  <div class=\"bk-root\" id=\"f8a447b8-3ebc-4c6c-8cea-ec7fad506bff\" data-root-id=\"1270\"></div>\n",
       "</div>\n",
       "<script type=\"application/javascript\">(function(root) {\n",
       "  function embed_document(root) {\n",
       "    var docs_json = {\"2d17b5dd-cd3b-45e0-8cf5-d063c501ca53\":{\"defs\":[{\"extends\":null,\"module\":null,\"name\":\"ReactiveHTML1\",\"overrides\":[],\"properties\":[]},{\"extends\":null,\"module\":null,\"name\":\"FlexBox1\",\"overrides\":[],\"properties\":[{\"default\":\"flex-start\",\"kind\":null,\"name\":\"align_content\"},{\"default\":\"flex-start\",\"kind\":null,\"name\":\"align_items\"},{\"default\":\"row\",\"kind\":null,\"name\":\"flex_direction\"},{\"default\":\"wrap\",\"kind\":null,\"name\":\"flex_wrap\"},{\"default\":\"flex-start\",\"kind\":null,\"name\":\"justify_content\"}]},{\"extends\":null,\"module\":null,\"name\":\"TemplateActions1\",\"overrides\":[],\"properties\":[{\"default\":0,\"kind\":null,\"name\":\"open_modal\"},{\"default\":0,\"kind\":null,\"name\":\"close_modal\"}]},{\"extends\":null,\"module\":null,\"name\":\"MaterialTemplateActions1\",\"overrides\":[],\"properties\":[{\"default\":0,\"kind\":null,\"name\":\"open_modal\"},{\"default\":0,\"kind\":null,\"name\":\"close_modal\"}]}],\"roots\":{\"references\":[{\"attributes\":{\"children\":[{\"id\":\"1331\"},{\"id\":\"1332\"},{\"id\":\"1333\"},{\"id\":\"1334\"},{\"id\":\"1335\"}],\"margin\":[5,5,5,5],\"min_width\":800,\"name\":\"Actions\",\"width\":800},\"id\":\"1330\",\"type\":\"Row\"},{\"attributes\":{\"end\":1.0,\"margin\":[5,10,5,10],\"start\":0,\"step\":0.1,\"title\":\"Amplitude threshold\",\"value\":0.5},\"id\":\"1327\",\"type\":\"Slider\"},{\"attributes\":{\"editor\":{\"id\":\"1296\"},\"field\":\"selected_for_iz_prediction\",\"formatter\":{\"id\":\"1295\"},\"title\":\"selected_for_iz_prediction\",\"width\":0},\"id\":\"1297\",\"type\":\"TableColumn\"},{\"attributes\":{\"columns\":[{\"id\":\"1282\"},{\"id\":\"1287\"},{\"id\":\"1292\"},{\"id\":\"1297\"},{\"id\":\"1302\"},{\"id\":\"1307\"},{\"id\":\"1312\"},{\"id\":\"1317\"}],\"configuration\":{\"columns\":[{\"field\":\"cluster\"},{\"field\":\"n_events\"},{\"field\":\"run\"},{\"field\":\"selected_for_iz_prediction\"},{\"field\":\"sensors\"},{\"field\":\"time_baseline\"},{\"field\":\"time_peak\"},{\"field\":\"time_slope\"}],\"dataTree\":false,\"selectable\":true},\"height\":600,\"indexes\":[\"cluster\"],\"layout\":\"fit_data_table\",\"margin\":[5,10,5,10],\"name\":\"\",\"page\":1,\"page_size\":20,\"selectable_rows\":null,\"source\":{\"id\":\"1277\"},\"width\":800},\"id\":\"1320\",\"type\":\"panel.models.tabulator.DataTabulator\"},{\"attributes\":{\"icon\":null,\"label\":\"Plot Cluster Source Estimate\",\"margin\":[5,10,5,10],\"subscribed_events\":[\"button_click\"]},\"id\":\"1332\",\"type\":\"Button\"},{\"attributes\":{\"children\":[{\"id\":\"1330\"}],\"margin\":[5,5,5,5],\"min_width\":800,\"name\":\"Actions\",\"width\":800},\"id\":\"1329\",\"type\":\"Column\"},{\"attributes\":{\"format\":\"0,0.0[00000]\"},\"id\":\"1300\",\"type\":\"NumberFormatter\"},{\"attributes\":{\"format\":\"0,0.0[00000]\"},\"id\":\"1315\",\"type\":\"NumberFormatter\"},{\"attributes\":{},\"id\":\"1301\",\"type\":\"NumberEditor\"},{\"attributes\":{},\"id\":\"1316\",\"type\":\"NumberEditor\"},{\"attributes\":{\"format\":\"0,0.0[00000]\"},\"id\":\"1295\",\"type\":\"NumberFormatter\"},{\"attributes\":{\"icon\":null,\"label\":\"Plot Evoked\",\"margin\":[5,10,5,10],\"subscribed_events\":[\"button_click\"]},\"id\":\"1334\",\"type\":\"Button\"},{\"attributes\":{\"children\":[{\"id\":\"1323\"}],\"margin\":[5,5,5,5],\"min_width\":800,\"name\":\"IZ prediction settings\",\"width\":800},\"id\":\"1322\",\"type\":\"Column\"},{\"attributes\":{\"data\":{\"cluster\":[0,1,2,3,4,5,6,7,8,9,10,11,12,13,14,15,16,17,18],\"n_events\":{\"__ndarray__\":\"AAAAAAAALkAAAAAAAAAyQAAAAAAAADBAAAAAAAAALkAAAAAAAAAuQAAAAAAAAC5AAAAAAAAAMEAAAAAAAAAuQAAAAAAAAC5AAAAAAAAAMEAAAAAAAAAuQAAAAAAAAC5AAAAAAAAALkAAAAAAAAAuQAAAAAAAADFAAAAAAAAAM0AAAAAAAAAuQAAAAAAAADFAAAAAAAAALkA=\",\"dtype\":\"float64\",\"order\":\"little\",\"shape\":[19]},\"run\":{\"__ndarray__\":\"AAAAAAAAAAAAAAAAAAAAAAAAAAAAAAAAAAAAAAAA8D8AAAAAAADwPwAAAAAAAABAAAAAAAAACEAAAAAAAAAIQAAAAAAAAAAAAAAAAAAAAAAAAAAAAAAAAAAAAAAAAPA/AAAAAAAA8D8AAAAAAAAAQAAAAAAAAABAAAAAAAAAAEAAAAAAAAAIQAAAAAAAAAhAAAAAAAAACEA=\",\"dtype\":\"float64\",\"order\":\"little\",\"shape\":[19]},\"selected_for_iz_prediction\":{\"__ndarray__\":\"AAAAAAAAAAAAAAAAAADwPwAAAAAAAPA/AAAAAAAA8D8AAAAAAAAAAAAAAAAAAAAAAAAAAAAA8D8AAAAAAAAAAAAAAAAAAAAAAAAAAAAAAAAAAAAAAAAAAAAAAAAAAAAAAAAAAAAAAAAAAAAAAAAAAAAAAAAAAAAAAAAAAAAAAAAAAAAAAAAAAAAAAAAAAAAAAAAAAAAAAAA=\",\"dtype\":\"float64\",\"order\":\"little\",\"shape\":[19]},\"sensors\":{\"__ndarray__\":\"AAAAAAAAAAAAAAAAAAAAAAAAAAAAAAAAAAAAAAAAAAAAAAAAAAAAAAAAAAAAAAAAAAAAAAAAAAAAAAAAAAAAAAAAAAAAAPA/AAAAAAAA8D8AAAAAAADwPwAAAAAAAPA/AAAAAAAA8D8AAAAAAADwPwAAAAAAAPA/AAAAAAAA8D8AAAAAAADwPwAAAAAAAPA/AAAAAAAA8D8=\",\"dtype\":\"float64\",\"order\":\"little\",\"shape\":[19]},\"time_baseline\":{\"__ndarray__\":\"oJjItLLGeUAAAAAAADB2QAAAAAAAwHdAAAAAAABAf0BMu/zBHN94QFjWuFHiZIFAAAAAAAAAeUC6nNu9bYOGQEiSYITs6X5AgLtjd9cBgEAKB0l+lNR+QNwvEJ0Rt3RA3iS8KIQgfUDKUxXrqmd4QHJR9kRsQoFA5pkqBxrPgEBMucdrpj98QCYUUIRyw3hAHE1RISbXfUA=\",\"dtype\":\"float64\",\"order\":\"little\",\"shape\":[19]},\"time_peak\":{\"__ndarray__\":\"AAAAAAAwe0AAAAAAAIB3QAAAAAAAkHpAAAAAAACAgEAAAAAAAFB8QAAAAAAAcIJAAAAAAACAe0AAAAAAAKCHQAAAAAAAAIBAAAAAAACggEAAAAAAACiAQAAAAAAA0HlAAAAAAADggEAAAAAAAMB5QAAAAAAAkIJAAAAAAACQgUAAAAAAANB+QAAAAAAAcHpAAAAAAABQf0A=\",\"dtype\":\"float64\",\"order\":\"little\",\"shape\":[19]},\"time_slope\":{\"__ndarray__\":\"UExkWll7ekAAAAAAAMB2QAAAAAAAAHlAAAAAAABAgECmXf5gjpd6QCxr3Chx6oFAAAAAAACQekBdzu3ethGHQCRJMEL2dH9AwN2xu+tQgECFgyQ/SpJ/QO4XiM6IQ3dAbxJeFEJwf0DlqYp11RN5QLkoeyI26YFA80yVA40vgUCm3OM104d9QBMKKEK5mXlAjqaoEJOTfkA=\",\"dtype\":\"float64\",\"order\":\"little\",\"shape\":[19]}},\"selected\":{\"id\":\"1278\"},\"selection_policy\":{\"id\":\"1340\"}},\"id\":\"1277\",\"type\":\"ColumnDataSource\"},{\"attributes\":{\"icon\":null,\"label\":\"Save Dataset\",\"margin\":[5,10,5,10],\"subscribed_events\":[\"button_click\"]},\"id\":\"1335\",\"type\":\"Button\"},{\"attributes\":{\"format\":\"0,0.0[00000]\"},\"id\":\"1285\",\"type\":\"NumberFormatter\"},{\"attributes\":{\"margin\":[5,10,5,10],\"name\":\"\",\"text\":\"<b>IZ prediction settings</b>\"},\"id\":\"1324\",\"type\":\"Div\"},{\"attributes\":{\"children\":[{\"id\":\"1271\"},{\"id\":\"1320\"},{\"id\":\"1322\"},{\"id\":\"1329\"},{\"id\":\"1336\"}],\"margin\":[0,0,0,0],\"name\":\"Column01702\"},\"id\":\"1270\",\"type\":\"Column\"},{\"attributes\":{\"children\":[{\"id\":\"1338\"},{\"id\":\"1339\"}],\"margin\":[5,5,5,5],\"min_width\":800,\"name\":\"Information\",\"width\":800},\"id\":\"1337\",\"type\":\"Row\"},{\"attributes\":{\"editor\":{\"id\":\"1301\"},\"field\":\"sensors\",\"formatter\":{\"id\":\"1300\"},\"title\":\"sensors\",\"width\":0},\"id\":\"1302\",\"type\":\"TableColumn\"},{\"attributes\":{\"editor\":{\"id\":\"1316\"},\"field\":\"time_slope\",\"formatter\":{\"id\":\"1315\"},\"title\":\"time_slope\",\"width\":0},\"id\":\"1317\",\"type\":\"TableColumn\"},{\"attributes\":{},\"id\":\"1281\",\"type\":\"CellEditor\"},{\"attributes\":{},\"id\":\"1286\",\"type\":\"NumberEditor\"},{\"attributes\":{\"margin\":[5,10,5,10],\"options\":[[\"0\",\"0\"],[\"1\",\"1\"],[\"2\",\"2\"],[\"3\",\"3\"],[\"4\",\"4\"],[\"5\",\"5\"],[\"6\",\"6\"],[\"7\",\"7\"],[\"8\",\"8\"],[\"9\",\"9\"],[\"10\",\"10\"],[\"11\",\"11\"],[\"12\",\"12\"],[\"13\",\"13\"],[\"14\",\"14\"],[\"15\",\"15\"],[\"16\",\"16\"],[\"17\",\"17\"],[\"18\",\"18\"]],\"title\":\"Cluster\",\"value\":\"0\"},\"id\":\"1274\",\"type\":\"Select\"},{\"attributes\":{\"format\":\"0,0.0[00000]\"},\"id\":\"1305\",\"type\":\"NumberFormatter\"},{\"attributes\":{\"icon\":null,\"label\":\"Rerun IZ prediction\",\"margin\":[5,10,5,10],\"subscribed_events\":[\"button_click\"]},\"id\":\"1325\",\"type\":\"Button\"},{\"attributes\":{\"margin\":[5,10,5,10],\"max_length\":5000,\"title\":\"Save dataset path\",\"value\":\"/media/cdm/Valerii/Valerii/Gdrive/current_cases/V0L0/V0L0_clusters_manually_checked.nc\"},\"id\":\"1339\",\"type\":\"TextInput\"},{\"attributes\":{\"margin\":[5,10,5,10],\"options\":[[\"baseline\",\"baseline\"],[\"slope\",\"slope\"],[\"peak\",\"peak\"]],\"title\":\"Slope timepoint\",\"value\":\"peak\"},\"id\":\"1276\",\"type\":\"Select\"},{\"attributes\":{\"children\":[{\"id\":\"1324\"},{\"id\":\"1325\"},{\"id\":\"1326\"},{\"id\":\"1327\"},{\"id\":\"1328\"}],\"margin\":[5,5,5,5],\"min_width\":800,\"name\":\"IZ prediction settings\",\"width\":800},\"id\":\"1323\",\"type\":\"Row\"},{\"attributes\":{\"indices\":[]},\"id\":\"1278\",\"type\":\"Selection\"},{\"attributes\":{\"children\":[{\"id\":\"1337\"}],\"margin\":[5,5,5,5],\"min_width\":800,\"name\":\"Information\",\"width\":800},\"id\":\"1336\",\"type\":\"Column\"},{\"attributes\":{\"editor\":{\"id\":\"1286\"},\"field\":\"n_events\",\"formatter\":{\"id\":\"1285\"},\"title\":\"n_events\",\"width\":0},\"id\":\"1287\",\"type\":\"TableColumn\"},{\"attributes\":{\"margin\":[5,10,5,10],\"options\":[[\"mag\",\"mag\"],[\"grad\",\"grad\"]],\"title\":\"Sensors\",\"value\":\"grad\"},\"id\":\"1275\",\"type\":\"Select\"},{\"attributes\":{},\"id\":\"1306\",\"type\":\"NumberEditor\"},{\"attributes\":{},\"id\":\"1340\",\"type\":\"UnionRenderers\"},{\"attributes\":{\"margin\":[5,10,5,10],\"name\":\"\",\"text\":\"<b>Information</b>\"},\"id\":\"1338\",\"type\":\"Div\"},{\"attributes\":{\"format\":\"0,0.0[00000]\"},\"id\":\"1290\",\"type\":\"NumberFormatter\"},{\"attributes\":{\"end\":15,\"margin\":[5,10,5,10],\"start\":2,\"title\":\"Final prediction smoothing\",\"value\":10},\"id\":\"1326\",\"type\":\"Slider\"},{\"attributes\":{\"children\":[{\"id\":\"1272\"}],\"margin\":[5,5,5,5],\"min_width\":800,\"name\":\"Select cluster\",\"width\":800},\"id\":\"1271\",\"type\":\"Column\"},{\"attributes\":{},\"id\":\"1291\",\"type\":\"NumberEditor\"},{\"attributes\":{\"margin\":[5,10,5,10],\"name\":\"\",\"text\":\"<b>Actions</b>\"},\"id\":\"1331\",\"type\":\"Div\"},{\"attributes\":{\"editor\":{\"id\":\"1281\"},\"field\":\"cluster\",\"formatter\":{\"id\":\"1279\"},\"title\":\"cluster\",\"width\":0},\"id\":\"1282\",\"type\":\"TableColumn\"},{\"attributes\":{\"children\":[{\"id\":\"1273\"},{\"id\":\"1274\"},{\"id\":\"1275\"},{\"id\":\"1276\"}],\"margin\":[5,5,5,5],\"min_width\":800,\"name\":\"Select cluster\",\"width\":800},\"id\":\"1272\",\"type\":\"Row\"},{\"attributes\":{\"editor\":{\"id\":\"1306\"},\"field\":\"time_baseline\",\"formatter\":{\"id\":\"1305\"},\"title\":\"time_baseline\",\"width\":0},\"id\":\"1307\",\"type\":\"TableColumn\"},{\"attributes\":{},\"id\":\"1279\",\"type\":\"NumberFormatter\"},{\"attributes\":{\"client_comm_id\":\"59ca7ec1e40b47e2bdc97f27692d1798\",\"comm_id\":\"bedc41dea1a645238d011dfe6edfa1d4\",\"plot_id\":\"1270\"},\"id\":\"1346\",\"type\":\"panel.models.comm_manager.CommManager\"},{\"attributes\":{\"editor\":{\"id\":\"1291\"},\"field\":\"run\",\"formatter\":{\"id\":\"1290\"},\"title\":\"run\",\"width\":0},\"id\":\"1292\",\"type\":\"TableColumn\"},{\"attributes\":{\"format\":\"0,0.0[00000]\"},\"id\":\"1310\",\"type\":\"NumberFormatter\"},{\"attributes\":{\"end\":500,\"margin\":[5,10,5,10],\"start\":5,\"title\":\"Minimum number of sources\",\"value\":10},\"id\":\"1328\",\"type\":\"Slider\"},{\"attributes\":{\"margin\":[5,10,5,10],\"name\":\"\",\"text\":\"<b>Select cluster</b>\"},\"id\":\"1273\",\"type\":\"Div\"},{\"attributes\":{},\"id\":\"1311\",\"type\":\"NumberEditor\"},{\"attributes\":{},\"id\":\"1296\",\"type\":\"NumberEditor\"},{\"attributes\":{\"editor\":{\"id\":\"1311\"},\"field\":\"time_peak\",\"formatter\":{\"id\":\"1310\"},\"title\":\"time_peak\",\"width\":0},\"id\":\"1312\",\"type\":\"TableColumn\"},{\"attributes\":{\"icon\":null,\"label\":\"Plot IZ prediction\",\"margin\":[5,10,5,10],\"subscribed_events\":[\"button_click\"]},\"id\":\"1333\",\"type\":\"Button\"}],\"root_ids\":[\"1270\",\"1346\"]},\"title\":\"Bokeh Application\",\"version\":\"2.3.3\"}};\n",
       "    var render_items = [{\"docid\":\"2d17b5dd-cd3b-45e0-8cf5-d063c501ca53\",\"root_ids\":[\"1270\"],\"roots\":{\"1270\":\"f8a447b8-3ebc-4c6c-8cea-ec7fad506bff\"}}];\n",
       "    root.Bokeh.embed.embed_items_notebook(docs_json, render_items);\n",
       "  }\n",
       "  if (root.Bokeh !== undefined && root.Bokeh.Panel !== undefined && ( root['Tabulator'] !== undefined)) {\n",
       "    embed_document(root);\n",
       "  } else {\n",
       "    var attempts = 0;\n",
       "    var timer = setInterval(function(root) {\n",
       "      if (root.Bokeh !== undefined && root.Bokeh.Panel !== undefined && (root['Tabulator'] !== undefined)) {\n",
       "        clearInterval(timer);\n",
       "        embed_document(root);\n",
       "      } else if (document.readyState == \"complete\") {\n",
       "        attempts++;\n",
       "        if (attempts > 200) {\n",
       "          clearInterval(timer);\n",
       "          console.log(\"Bokeh: ERROR: Unable to run BokehJS code because BokehJS library is missing\");\n",
       "        }\n",
       "      }\n",
       "    }, 25, root)\n",
       "  }\n",
       "})(window);</script>"
      ],
      "text/plain": [
       "Column\n",
       "    [0] Param(ClusterSlopeViewer, default_layout=<class 'panel.layout.base...., name='Select cluster', parameters=['cluster', 'sensors', ...], width=800)\n",
       "    [1] Tabulator(value=cluster_property  ..., width=800)\n",
       "    [2] Param(ClusterSlopeViewer, default_layout=<class 'panel.layout.base...., name='IZ prediction settings', parameters=['smoothing_steps_final', ...], width=800)\n",
       "    [3] Param(ClusterSlopeViewer, default_layout=<class 'panel.layout.base...., name='Actions', parameters=['plot_stc', 'plot_iz', ...], width=800)\n",
       "    [4] Param(ClusterSlopeViewer, default_layout=<class 'panel.layout.base...., name='Information', parameters=['fname_save_ds'], width=800)"
      ]
     },
     "execution_count": 12,
     "metadata": {
      "application/vnd.holoviews_exec.v0+json": {
       "id": "1270"
      }
     },
     "output_type": "execute_result"
    }
   ],
   "source": [
    "%matplotlib qt5\n",
    "\n",
    "#subject = 1\n",
    "case = setup_case_manager(subject)\n",
    "\n",
    "path = case.cluster_dataset.with_name(f'{case.case}_clusters_manually_checked.nc')\n",
    "with xr.open_dataset(path) as ds:\n",
    "    clusters_checked = ds.load()\n",
    "    \n",
    "pc = ClusterSlopeViewer(clusters_checked, case)\n",
    "app = pc.view()\n",
    "app"
   ]
  },
  {
   "cell_type": "markdown",
   "metadata": {
    "pycharm": {
     "name": "#%% md\n"
    }
   },
   "source": [
    "### Localize manual spikes as one cluster"
   ]
  },
  {
   "cell_type": "code",
   "execution_count": null,
   "metadata": {
    "pycharm": {
     "name": "#%%\n"
    }
   },
   "outputs": [],
   "source": [
    "params = {\n",
    "    'PrepareClustersDataset': {'detection_sfreq': 1000.}\n",
    "}\n",
    "\n",
    "for subj in range(1, 8):\n",
    "\n",
    "    case = setup_case_manager(subj)\n",
    "\n",
    "    case.cluster_dataset = case.manual_cluster_dataset\n",
    "\n",
    "    manual_detections = {\n",
    "        'spikes': np.load(str(case.manual_detections), allow_pickle=True), # spikes in ms\n",
    "        'clusters': np.int32([0])\n",
    "    }\n",
    "    pipe = iz_prediction_pipeline(case, params)\n",
    "\n",
    "    raw = mne.io.read_raw_fif(case.fif_file)\n",
    "    clusters, _ = pipe.fit_transform((manual_detections, raw.copy()))\n"
   ]
  },
  {
   "cell_type": "markdown",
   "metadata": {
    "pycharm": {
     "name": "#%% md\n"
    }
   },
   "source": [
    "### View manual cluster"
   ]
  },
  {
   "cell_type": "code",
   "execution_count": null,
   "metadata": {
    "pycharm": {
     "name": "#%%\n"
    }
   },
   "outputs": [],
   "source": [
    "%matplotlib qt5\n",
    "\n",
    "case = setup_case_manager(5)\n",
    "\n",
    "clusters = xr.open_dataset(case.manual_cluster_dataset)\n",
    "pc = ClusterSlopeViewer(clusters, case)\n",
    "\n",
    "app = pc.view()\n",
    "# app.show()\n",
    "app"
   ]
  },
  {
   "cell_type": "markdown",
   "metadata": {},
   "source": [
    "### Localize manual spikes on the peak individually\n",
    "In this case each spike is localized individually. The output is used for the final statistics estimation.\n",
    "\n",
    "**NOTE**: Manual detections should start from **zero** (not the first sample)!\n",
    "\n",
    "**NOTE**: The number of smoothing steps could significantly decrease or increase the number of sources in final prediction.\n"
   ]
  },
  {
   "cell_type": "code",
   "execution_count": null,
   "metadata": {
    "pycharm": {
     "name": "#%%\n"
    }
   },
   "outputs": [],
   "source": [
    "from megspikes.localization.localization import ManualEventsLocalization\n",
    "from megspikes.utils import PrepareData\n",
    "\n",
    "\n",
    "for subj in range(1, 8):\n",
    "\n",
    "    case = setup_case_manager(subj)\n",
    "    prep_data = PrepareData(data_file=case.fif_file, sensors='grad')\n",
    "    mel = ManualEventsLocalization(case=case, smoothing_steps=10, smoothing_steps_final=10)\n",
    "\n",
    "    meg_data = prep_data.fit_transform(())\n",
    "\n",
    "    manual_stc = mel.fit_transform(\n",
    "        (np.load(str(case.manual_detections), allow_pickle=True), meg_data))\n",
    "\n",
    "    np.save(case.basic_folders['MANUAL'] / 'manual_stc.npy', manual_stc)\n"
   ]
  },
  {
   "cell_type": "code",
   "execution_count": null,
   "metadata": {
    "pycharm": {
     "name": "#%%\n"
    }
   },
   "outputs": [],
   "source": []
  }
 ],
 "metadata": {
  "kernelspec": {
   "display_name": "Python 3 (ipykernel)",
   "language": "python",
   "name": "python3"
  },
  "language_info": {
   "codemirror_mode": {
    "name": "ipython",
    "version": 3
   },
   "file_extension": ".py",
   "mimetype": "text/x-python",
   "name": "python",
   "nbconvert_exporter": "python",
   "pygments_lexer": "ipython3",
   "version": "3.7.12"
  }
 },
 "nbformat": 4,
 "nbformat_minor": 1
}
