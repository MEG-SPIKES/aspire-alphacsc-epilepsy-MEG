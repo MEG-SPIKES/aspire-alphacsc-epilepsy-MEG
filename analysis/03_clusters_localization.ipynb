{
 "cells": [
  {
   "cell_type": "code",
   "execution_count": null,
   "metadata": {},
   "outputs": [],
   "source": [
    "import mne\n",
    "import numpy as np\n",
    "import xarray as xr\n",
    "\n",
    "from megspikes.pipeline import (iz_prediction_pipeline,\n",
    "                                read_detection_iz_prediction_pipeline)\n",
    "from megspikes.visualization.visualization import ClusterSlopeViewer\n",
    "from sklearn import set_config\n",
    "\n",
    "from utils.utils import setup_case_manager\n",
    "\n",
    "set_config(display='diagram')\n",
    "set_config(print_changed_only=False)\n",
    "\n",
    "%load_ext autoreload\n",
    "%autoreload 2\n"
   ]
  },
  {
   "cell_type": "markdown",
   "metadata": {},
   "source": [
    "### Setup params"
   ]
  },
  {
   "cell_type": "code",
   "execution_count": null,
   "metadata": {
    "pycharm": {
     "name": "#%%\n"
    }
   },
   "outputs": [],
   "source": [
    "params = {\n",
    "    'PrepareClustersDataset': {'detection_sfreq': 200.}\n",
    "}"
   ]
  },
  {
   "cell_type": "markdown",
   "metadata": {
    "pycharm": {
     "name": "#%% md\n"
    }
   },
   "source": [
    "### Run clusters localization for all cases\n",
    "\n",
    "NOTE: if the previous results will not be overwritten. Algorithm will through an\n",
    "error and stop."
   ]
  },
  {
   "cell_type": "code",
   "execution_count": null,
   "metadata": {
    "pycharm": {
     "name": "#%%\n"
    }
   },
   "outputs": [],
   "source": [
    "for subj in range(1, 8):\n",
    "    case = setup_case_manager(subj)\n",
    "\n",
    "    pipe = read_detection_iz_prediction_pipeline(case, params)\n",
    "    detection_results = xr.open_dataset(case.dataset)\n",
    "\n",
    "    raw = mne.io.read_raw_fif(case.fif_file)\n",
    "    clusters, _ = pipe.fit_transform((detection_results, raw.copy()))\n"
   ]
  },
  {
   "cell_type": "code",
   "execution_count": null,
   "metadata": {},
   "outputs": [],
   "source": []
  },
  {
   "cell_type": "markdown",
   "metadata": {},
   "source": [
    "### View clusters\n",
    "\n",
    "To manually update clusters slope use the following procedure:\n",
    "\n",
    "1. Change **selected_for_iz_prediction** values in the table to select clusters for prediction. 1 - selected; 0 - not selected.\n",
    "2. Change **time_baseline**, **time_slope**, **time_peak** values in the table. The time is in milliseconds.\n",
    "3. [Optional] Change **Save dataset path**. Extention should be **file_name.nc**.\n",
    "4. Press **Save Dataset** to rewrite or create the file with updated results.\n",
    "5. [Optional] Check the time of the last modification of the manually checked file to be sure the changes were saved.\n",
    "\n",
    "NOTE that some operations, such as saving, are slow. Please, wait until Jupyter notebook stops showing the process is running."
   ]
  },
  {
   "cell_type": "code",
   "execution_count": null,
   "metadata": {},
   "outputs": [],
   "source": [
    "import xarray as xr\n",
    "from megspikes.visualization.visualization import ClusterSlopeViewer\n",
    "from utils.utils import setup_case_manager"
   ]
  },
  {
   "cell_type": "code",
   "execution_count": null,
   "metadata": {},
   "outputs": [],
   "source": [
    "subject = 7\n",
    "case = setup_case_manager(subject)\n",
    "clusters = xr.open_dataset(case.cluster_dataset)\n",
    "pc = ClusterSlopeViewer(clusters, case)"
   ]
  },
  {
   "cell_type": "code",
   "execution_count": null,
   "metadata": {
    "pycharm": {
     "name": "#%%\n"
    }
   },
   "outputs": [],
   "source": [
    "%matplotlib qt5\n",
    "\n",
    "app = pc.view()\n",
    "# app.show()\n",
    "app"
   ]
  },
  {
   "cell_type": "markdown",
   "metadata": {},
   "source": [
    "### Open manually checked dataset\n",
    "\n",
    "NOTE `ds.load()` is necessary to save new changes in an existing file. See this issue: https://github.com/pydata/xarray/issues/2029"
   ]
  },
  {
   "cell_type": "code",
   "execution_count": null,
   "metadata": {
    "pycharm": {
     "name": "#%%\n"
    }
   },
   "outputs": [],
   "source": [
    "%matplotlib qt5\n",
    "\n",
    "subject = 2\n",
    "case = setup_case_manager(subject)\n",
    "\n",
    "path = case.cluster_dataset.with_name(f'{case.case}_clusters_manually_checked.nc')\n",
    "with xr.open_dataset(path) as ds:\n",
    "    clusters_checked = ds.load()\n",
    "    \n",
    "pc = ClusterSlopeViewer(clusters_checked, case)\n",
    "app = pc.view()\n",
    "app"
   ]
  },
  {
   "cell_type": "code",
   "execution_count": null,
   "metadata": {},
   "outputs": [],
   "source": []
  },
  {
   "cell_type": "markdown",
   "metadata": {
    "pycharm": {
     "name": "#%% md\n"
    }
   },
   "source": [
    "### Localize manual spikes as one cluster"
   ]
  },
  {
   "cell_type": "code",
   "execution_count": null,
   "metadata": {
    "pycharm": {
     "name": "#%%\n"
    }
   },
   "outputs": [],
   "source": [
    "params = {\n",
    "    'PrepareClustersDataset': {'detection_sfreq': 1000.}\n",
    "}\n",
    "\n",
    "for subj in range(1, 8):\n",
    "\n",
    "    case = setup_case_manager(subj)\n",
    "\n",
    "    case.cluster_dataset = case.manual_cluster_dataset\n",
    "\n",
    "    manual_detections = {\n",
    "        'spikes': np.load(str(case.manual_detections), allow_pickle=True), # spikes in ms\n",
    "        'clusters': np.int32([0])\n",
    "    }\n",
    "    pipe = iz_prediction_pipeline(case, params)\n",
    "\n",
    "    raw = mne.io.read_raw_fif(case.fif_file)\n",
    "    clusters, _ = pipe.fit_transform((manual_detections, raw.copy()))\n"
   ]
  },
  {
   "cell_type": "markdown",
   "metadata": {
    "pycharm": {
     "name": "#%% md\n"
    }
   },
   "source": [
    "### View manual cluster"
   ]
  },
  {
   "cell_type": "code",
   "execution_count": null,
   "metadata": {
    "pycharm": {
     "name": "#%%\n"
    }
   },
   "outputs": [],
   "source": [
    "%matplotlib qt5\n",
    "\n",
    "case = setup_case_manager(5)\n",
    "\n",
    "clusters = xr.open_dataset(case.manual_cluster_dataset)\n",
    "pc = ClusterSlopeViewer(clusters, case)\n",
    "\n",
    "app = pc.view()\n",
    "# app.show()\n",
    "app"
   ]
  },
  {
   "cell_type": "markdown",
   "metadata": {},
   "source": [
    "### Localize manual spikes on the peak individually\n",
    "In this case each spike is localized individually. The output is used for the final statistics estimation.\n",
    "\n",
    "**NOTE**: Manual detections should start from **zero** (not the first sample)!\n",
    "\n",
    "**NOTE**: The number of smoothing steps could significantly decrease or increase the number of sources in final prediction.\n"
   ]
  },
  {
   "cell_type": "code",
   "execution_count": null,
   "metadata": {
    "pycharm": {
     "name": "#%%\n"
    }
   },
   "outputs": [],
   "source": [
    "from megspikes.localization.localization import ManualEventsLocalization\n",
    "from megspikes.utils import PrepareData\n",
    "\n",
    "\n",
    "for subj in range(1, 8):\n",
    "\n",
    "    case = setup_case_manager(subj)\n",
    "    prep_data = PrepareData(data_file=case.fif_file, sensors='grad')\n",
    "    mel = ManualEventsLocalization(case=case, smoothing_steps=10, smoothing_steps_final=10)\n",
    "\n",
    "    meg_data = prep_data.fit_transform(())\n",
    "\n",
    "    manual_stc = mel.fit_transform(\n",
    "        (np.load(str(case.manual_detections), allow_pickle=True), meg_data))\n",
    "\n",
    "    np.save(case.basic_folders['MANUAL'] / 'manual_stc.npy', manual_stc)\n"
   ]
  },
  {
   "cell_type": "code",
   "execution_count": null,
   "metadata": {
    "pycharm": {
     "name": "#%%\n"
    }
   },
   "outputs": [],
   "source": []
  }
 ],
 "metadata": {
  "kernelspec": {
   "display_name": "PyCharm (aspire-alphacsc-epilepsy-MEG)",
   "language": "python",
   "name": "pycharm-d4865a9d"
  },
  "language_info": {
   "codemirror_mode": {
    "name": "ipython",
    "version": 3
   },
   "file_extension": ".py",
   "mimetype": "text/x-python",
   "name": "python",
   "nbconvert_exporter": "python",
   "pygments_lexer": "ipython3",
   "version": "3.8.12"
  }
 },
 "nbformat": 4,
 "nbformat_minor": 1
}