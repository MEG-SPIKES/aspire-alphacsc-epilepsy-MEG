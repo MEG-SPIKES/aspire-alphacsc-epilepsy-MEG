{
 "cells": [
  {
   "cell_type": "code",
   "execution_count": 1,
   "metadata": {
    "collapsed": true,
    "pycharm": {
     "name": "#%%\n"
    }
   },
   "outputs": [],
   "source": [
    "from analysis.utils.utils import setup_case_manager\n",
    "from megspikes.scoring.scoring import distance_to_resection_hull\n",
    "import xarray as xr\n",
    "import pandas as pd\n",
    "import numpy as np"
   ]
  },
  {
   "cell_type": "code",
   "execution_count": null,
   "outputs": [],
   "source": [
    "case = setup_case_manager(1)\n",
    "save_path = case.root / 'Results'\n",
    "save_path.mkdir(exist_ok=True)"
   ],
   "metadata": {
    "collapsed": false,
    "pycharm": {
     "name": "#%%\n"
    }
   }
  },
  {
   "cell_type": "code",
   "execution_count": null,
   "outputs": [],
   "source": [],
   "metadata": {
    "collapsed": false,
    "pycharm": {
     "name": "#%%\n"
    }
   }
  },
  {
   "cell_type": "markdown",
   "source": [
    "## Figure 2"
   ],
   "metadata": {
    "collapsed": false
   }
  },
  {
   "cell_type": "code",
   "execution_count": null,
   "outputs": [],
   "source": [],
   "metadata": {
    "collapsed": false,
    "pycharm": {
     "name": "#%%\n"
    }
   }
  },
  {
   "cell_type": "markdown",
   "source": [
    "## Figure 3"
   ],
   "metadata": {
    "collapsed": false
   }
  },
  {
   "cell_type": "code",
   "execution_count": null,
   "outputs": [],
   "source": [],
   "metadata": {
    "collapsed": false,
    "pycharm": {
     "name": "#%%\n"
    }
   }
  },
  {
   "cell_type": "markdown",
   "source": [
    "## Figure 4"
   ],
   "metadata": {
    "collapsed": false
   }
  },
  {
   "cell_type": "code",
   "execution_count": null,
   "outputs": [],
   "source": [
    "fig4_table = pd.DataFrame(columns=[\n",
    "    'case', 'case_name', 'detection_type', 'n_sources_resection', 'n_sources',\n",
    "    'n_sources_to_n_sources_resection', 'distance_resection'])\n",
    "\n",
    "n = 0\n",
    "\n",
    "\n",
    "\n",
    "for subj in range(1, 8):\n",
    "    case = setup_case_manager(subj)\n",
    "\n",
    "    resection = np.load(\n",
    "        case.basic_folders['resection mask'].with_name('resection.npy'))\n",
    "    resection_stc = np.load(\n",
    "        case.basic_folders['resection mask'].with_name('resection_stc.npy'))\n",
    "\n",
    "    clusters_auto = xr.open_dataset(case.cluster_dataset)\n",
    "    clusters_manual = xr.open_dataset(case.manual_cluster_dataset)\n",
    "\n",
    "    fwd_mni = clusters_auto.fwd_mni_coordinates.values\n",
    "\n",
    "    manual_stc = clusters_manual.loc[:, 'peak'].values\n",
    "    peak_stc = clusters_auto.iz_prediction.loc[:, 'peak'].values\n",
    "    slope_stc = clusters_auto.iz_prediction.loc[:, 'slope'].values\n",
    "\n",
    "    dist_resection_to_slope = distance_to_resection_hull(\n",
    "        resection, fwd_mni[slope_stc > 0])\n",
    "    dist_resection_to_peak = distance_to_resection_hull(\n",
    "        resection, fwd_mni[peak_stc > 0])\n",
    "    dist_resection_to_manual = distance_to_resection_hull(\n",
    "        resection, fwd_mni[manual_stc > 0])\n",
    "\n",
    "    # fig4_one_row()\n",
    "\n"
   ],
   "metadata": {
    "collapsed": false,
    "pycharm": {
     "name": "#%%\n"
    }
   }
  },
  {
   "cell_type": "markdown",
   "source": [
    "## Figure 5"
   ],
   "metadata": {
    "collapsed": false,
    "pycharm": {
     "name": "#%% md\n"
    }
   }
  },
  {
   "cell_type": "code",
   "execution_count": null,
   "outputs": [],
   "source": [],
   "metadata": {
    "collapsed": false,
    "pycharm": {
     "name": "#%%\n"
    }
   }
  }
 ],
 "metadata": {
  "kernelspec": {
   "name": "pycharm-d4865a9d",
   "language": "python",
   "display_name": "PyCharm (aspire-alphacsc-epilepsy-MEG)"
  },
  "language_info": {
   "codemirror_mode": {
    "name": "ipython",
    "version": 2
   },
   "file_extension": ".py",
   "mimetype": "text/x-python",
   "name": "python",
   "nbconvert_exporter": "python",
   "pygments_lexer": "ipython2",
   "version": "2.7.6"
  }
 },
 "nbformat": 4,
 "nbformat_minor": 0
}