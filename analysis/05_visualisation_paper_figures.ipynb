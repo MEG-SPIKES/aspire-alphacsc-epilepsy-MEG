{
 "cells": [
  {
   "cell_type": "code",
   "execution_count": null,
   "metadata": {
    "collapsed": true,
    "pycharm": {
     "name": "#%%\n"
    }
   },
   "outputs": [],
   "source": [
    "from analysis.utils.utils import setup_case_manager\n",
    "from megspikes.scoring.scoring import distance_to_resection_hull\n",
    "from analysis.utils.plot_paper_images import fig4_one_row\n",
    "import matplotlib.pylab as plt\n",
    "import seaborn as sns\n",
    "import xarray as xr\n",
    "import pandas as pd\n",
    "import numpy as np"
   ]
  },
  {
   "cell_type": "code",
   "execution_count": null,
   "outputs": [],
   "source": [
    "case = setup_case_manager(1)\n",
    "save_path = case.root.parent / 'Results'\n",
    "save_path.mkdir(exist_ok=True)"
   ],
   "metadata": {
    "collapsed": false,
    "pycharm": {
     "name": "#%%\n"
    }
   }
  },
  {
   "cell_type": "code",
   "execution_count": null,
   "outputs": [],
   "source": [],
   "metadata": {
    "collapsed": false,
    "pycharm": {
     "name": "#%%\n"
    }
   }
  },
  {
   "cell_type": "markdown",
   "source": [
    "## Figure 2"
   ],
   "metadata": {
    "collapsed": false
   }
  },
  {
   "cell_type": "code",
   "execution_count": null,
   "outputs": [],
   "source": [],
   "metadata": {
    "collapsed": false,
    "pycharm": {
     "name": "#%%\n"
    }
   }
  },
  {
   "cell_type": "markdown",
   "source": [
    "## Figure 3"
   ],
   "metadata": {
    "collapsed": false
   }
  },
  {
   "cell_type": "code",
   "execution_count": null,
   "outputs": [],
   "source": [],
   "metadata": {
    "collapsed": false,
    "pycharm": {
     "name": "#%%\n"
    }
   }
  },
  {
   "cell_type": "markdown",
   "source": [
    "## Figure 4"
   ],
   "metadata": {
    "collapsed": false
   }
  },
  {
   "cell_type": "code",
   "execution_count": null,
   "outputs": [],
   "source": [
    "fig4_table = pd.DataFrame(columns=[\n",
    "    'case', 'case_name', 'detection_type', 'n_sources_resection', 'n_sources',\n",
    "    'n_sources_to_n_sources_resection', 'distance_resection'])\n",
    "\n",
    "n = 0\n",
    "\n",
    "for subj in range(1, 8):\n",
    "    case = setup_case_manager(subj)\n",
    "\n",
    "    resection = np.load(\n",
    "        case.basic_folders['resection mask'].with_name('resection.npy'))\n",
    "    resection_stc = np.load(\n",
    "        case.basic_folders['resection mask'].with_name('resection_stc.npy'))\n",
    "\n",
    "    clusters_auto = xr.open_dataset(\n",
    "        case.cluster_dataset.with_name(f'{case.case}_clusters_manually_checked.nc'))\n",
    "\n",
    "    fwd_mni = clusters_auto.fwd_mni_coordinates.values\n",
    "\n",
    "    manual_stc = np.load(case.basic_folders['MANUAL'] / 'manual_stc.npy')\n",
    "    peak_stc = clusters_auto.iz_prediction.loc[:, 'peak'].values\n",
    "    slope_stc = clusters_auto.iz_prediction.loc[:, 'slope'].values\n",
    "\n",
    "    if sum(slope_stc > 0) == 0:\n",
    "        dist_resection_to_slope = np.NAN\n",
    "    else:\n",
    "        dist_resection_to_slope = distance_to_resection_hull(\n",
    "            fwd_mni[resection_stc > 0], fwd_mni[slope_stc > 0])\n",
    "    dist_resection_to_peak = distance_to_resection_hull(\n",
    "        fwd_mni[resection_stc > 0], fwd_mni[peak_stc > 0])\n",
    "    dist_resection_to_manual = distance_to_resection_hull(\n",
    "        fwd_mni[resection_stc > 0], fwd_mni[manual_stc > 0])\n",
    "\n",
    "    fig4_table, n = fig4_one_row(n, case, fig4_table, subj, 'manual', fwd_mni,\n",
    "                                 resection_stc,  manual_stc, dist_resection_to_manual)\n",
    "\n",
    "    fig4_table, n = fig4_one_row(n, case, fig4_table, subj, 'slope', fwd_mni,\n",
    "                                 resection_stc,  slope_stc, dist_resection_to_slope)\n",
    "\n",
    "    fig4_table, n = fig4_one_row(n, case, fig4_table, subj, 'peak', fwd_mni,\n",
    "                                 resection_stc,  peak_stc, dist_resection_to_peak)\n",
    "\n"
   ],
   "metadata": {
    "collapsed": false,
    "pycharm": {
     "name": "#%%\n"
    }
   }
  },
  {
   "cell_type": "markdown",
   "source": [
    "#### Save table with results"
   ],
   "metadata": {
    "collapsed": false,
    "pycharm": {
     "name": "#%% md\n"
    }
   }
  },
  {
   "cell_type": "code",
   "execution_count": null,
   "outputs": [],
   "source": [
    "fig4_table.to_excel(save_path / \"figure_4_table.xlsx\", index=False)\n"
   ],
   "metadata": {
    "collapsed": false,
    "pycharm": {
     "name": "#%%\n"
    }
   }
  },
  {
   "cell_type": "markdown",
   "source": [
    "#### Plot figure 4"
   ],
   "metadata": {
    "collapsed": false
   }
  },
  {
   "cell_type": "code",
   "execution_count": null,
   "outputs": [],
   "source": [
    "sns.set(style=\"whitegrid\",font_scale=2)\n",
    "\n",
    "fig4_table.rename(\n",
    "    columns={'n_sources_to_n_sources_resection': 'N sources\\ndetection to\\nresection'},\n",
    "    inplace=True)\n",
    "f, ax = plt.subplots(figsize=(15, 15))\n",
    "dy = 'detection_type'\n",
    "dx = 'distance_resection'\n",
    "ort=\"h\"\n",
    "pal = \"Set2\"\n",
    "size = 'N sources\\ndetection to\\nresection'\n",
    "\n",
    "ax= sns.scatterplot(x=dx, y=dy, data=fig4_table, hue='case', size=size,\n",
    "                    zorder = 10, palette=pal, sizes=(1,1500), alpha=.6)\n",
    "\n",
    "plt.setp(ax.get_legend().get_texts(), fontsize='12') # for legend text\n",
    "plt.setp(ax.get_legend().get_title(), fontsize='32') # for legend title\n",
    "ax.legend(loc='upper right',ncol=1, bbox_to_anchor=(1.25, 1)) # , title=\"Title\"\n",
    "\n",
    "\n",
    "\n",
    "ax=sns.boxplot(x=dx, y=dy, data=fig4_table, color=\"black\",\n",
    "        width=.15, zorder=0, showcaps=True,\n",
    "        boxprops = {'facecolor':'none', \"zorder\":10}, showfliers=True,\n",
    "        whiskerprops = {'linewidth':2, \"zorder\":10},\n",
    "        saturation=1, orient=ort)\n",
    "\n",
    "for case, color in zip(range(1,8), sns.color_palette(pal, n_colors=8, as_cmap=True).colors):\n",
    "    ax.plot(fig4_table.loc[fig4_table['case']==case, 'distance_resection'], [0, 1, 2],\n",
    "            lw=3, c=color, alpha=0.4)\n",
    "\n",
    "\n",
    "plt.tight_layout()\n",
    "plt.axvline(20, 0, 1, c='r')\n",
    "plt.savefig(save_path / 'Figure_4_results.png', dpi=300)"
   ],
   "metadata": {
    "collapsed": false,
    "pycharm": {
     "name": "#%%\n"
    }
   }
  },
  {
   "cell_type": "markdown",
   "source": [
    "## Figure 5"
   ],
   "metadata": {
    "collapsed": false,
    "pycharm": {
     "name": "#%% md\n"
    }
   }
  },
  {
   "cell_type": "code",
   "execution_count": null,
   "outputs": [],
   "source": [
    "\n",
    "\n"
   ],
   "metadata": {
    "collapsed": false,
    "pycharm": {
     "name": "#%%\n"
    }
   }
  },
  {
   "cell_type": "code",
   "execution_count": null,
   "outputs": [],
   "source": [],
   "metadata": {
    "collapsed": false,
    "pycharm": {
     "name": "#%%\n"
    }
   }
  }
 ],
 "metadata": {
  "kernelspec": {
   "name": "pycharm-d4865a9d",
   "language": "python",
   "display_name": "PyCharm (aspire-alphacsc-epilepsy-MEG)"
  },
  "language_info": {
   "codemirror_mode": {
    "name": "ipython",
    "version": 2
   },
   "file_extension": ".py",
   "mimetype": "text/x-python",
   "name": "python",
   "nbconvert_exporter": "python",
   "pygments_lexer": "ipython2",
   "version": "2.7.6"
  }
 },
 "nbformat": 4,
 "nbformat_minor": 0
}