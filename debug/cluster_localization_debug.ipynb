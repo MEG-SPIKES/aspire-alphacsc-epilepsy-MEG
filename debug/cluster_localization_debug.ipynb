{
 "cells": [
  {
   "cell_type": "code",
   "execution_count": null,
   "metadata": {
    "collapsed": true,
    "pycharm": {
     "name": "#%%\n",
     "is_executing": true
    }
   },
   "outputs": [],
   "source": [
    "import mne\n",
    "import numpy as np\n",
    "import xarray as xr\n",
    "\n",
    "from megspikes.pipeline import (iz_prediction_pipeline,\n",
    "                                read_detection_iz_prediction_pipeline)\n",
    "from megspikes.visualization.visualization import ClusterSlopeViewer\n",
    "from sklearn import set_config\n",
    "\n",
    "from utils.utils import setup_case_manager\n",
    "\n",
    "\n",
    "params = {\n",
    "    'PrepareClustersDataset': {'detection_sfreq': 200.}\n",
    "}\n",
    "\n",
    "subj = 1\n",
    "\n",
    "case = setup_case_manager(subj)\n",
    "\n",
    "pipe = read_detection_iz_prediction_pipeline(case, params, rewrite_previous_results=True)\n",
    "detection_results = xr.open_dataset(case.dataset)\n",
    "\n",
    "raw = mne.io.read_raw_fif(case.fif_file)\n",
    "clusters, _ = pipe.fit_transform((detection_results, raw.copy()))\n",
    "\n",
    "pc = ClusterSlopeViewer(clusters, case)"
   ]
  }
 ],
 "metadata": {
  "kernelspec": {
   "name": "python3",
   "language": "python",
   "display_name": "Python 3 (ipykernel)"
  },
  "language_info": {
   "codemirror_mode": {
    "name": "ipython",
    "version": 2
   },
   "file_extension": ".py",
   "mimetype": "text/x-python",
   "name": "python",
   "nbconvert_exporter": "python",
   "pygments_lexer": "ipython2",
   "version": "2.7.6"
  }
 },
 "nbformat": 4,
 "nbformat_minor": 0
}