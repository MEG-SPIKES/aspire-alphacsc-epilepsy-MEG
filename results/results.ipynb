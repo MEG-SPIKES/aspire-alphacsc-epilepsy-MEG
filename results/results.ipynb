{
 "cells": [
  {
   "cell_type": "code",
   "execution_count": 1,
   "source": [
    "import os\n",
    "\n",
    "import matplotlib.pylab as plt\n",
    "import numpy as np\n",
    "import xarray as xr\n",
    "\n",
    "# change to the root directory of the project\n",
    "if os.getcwd().split(\"/\")[-1] == \"results\":\n",
    "    os.chdir('..')\n"
   ],
   "outputs": [],
   "metadata": {}
  },
  {
   "cell_type": "code",
   "execution_count": 2,
   "source": [
    "from utils.casemanager import CaseManager\n",
    "from megspikes.scoring.scoring import distance_to_resection_hull\n",
    "\n",
    "for subj in range(1, 8):\n",
    "    case = CaseManager(subj)\n",
    "    clusters = xr.open_dataset(case.cluster_dataset)\n",
    "\n",
    "    resection = np.load(case.resection)\n",
    "    fwd_mni = clusters.fwd_mni_coordinates.values\n",
    "    mstc = np.load(case.manual_stc)\n",
    "    pstc = np.load(case.peak_stc)\n",
    "    sstc = np.load(case.slope_stc)\n",
    "    rstc = np.load(case.resection_stc)\n",
    "    \n",
    "    \n",
    "    dist_rslope = distance_to_resection_hull(\n",
    "        fwd_mni[rstc > 0], fwd_mni[sstc > 0])\n",
    "    dist_rpeak = distance_to_resection_hull(\n",
    "        fwd_mni[rstc > 0], fwd_mni[pstc > 0])\n",
    "    dist_rmanual = distance_to_resection_hull(\n",
    "        fwd_mni[rstc > 0], fwd_mni[mstc > 0])\n",
    "    print(f\"{subj} - Manual: {dist_rmanual}; \"\n",
    "          f\"Peak: {dist_rpeak}; \"\n",
    "          f\"Slope: {dist_rslope}; \"\n",
    "          f\"{fwd_mni[rstc > 0].shape[0]} sources resection; \"\n",
    "          f\"{fwd_mni[sstc > 0].shape[0]} sources slope; \"\n",
    "          f\"{fwd_mni[pstc > 0].shape[0]} sources peak;\")"
   ],
   "outputs": [
    {
     "output_type": "stream",
     "name": "stdout",
     "text": [
      "1 - Manual: 16.0; Peak: 21.0; Slope: 2.0; 308 sources resection; 182 sources slope; 1071 sources peak;\n",
      "2 - Manual: 4.0; Peak: 7.0; Slope: 5.0; 441 sources resection; 212 sources slope; 620 sources peak;\n",
      "3 - Manual: -4.0; Peak: -3.0; Slope: -5.0; 928 sources resection; 145 sources slope; 326 sources peak;\n",
      "4 - Manual: 16.0; Peak: 42.0; Slope: 24.0; 520 sources resection; 863 sources slope; 3798 sources peak;\n",
      "5 - Manual: -0.0; Peak: -2.0; Slope: -4.0; 1122 sources resection; 131 sources slope; 375 sources peak;\n",
      "6 - Manual: 6.0; Peak: 13.0; Slope: 3.0; 501 sources resection; 113 sources slope; 824 sources peak;\n",
      "7 - Manual: 21.0; Peak: 29.0; Slope: 30.0; 580 sources resection; 473 sources slope; 1063 sources peak;\n"
     ]
    }
   ],
   "metadata": {}
  },
  {
   "cell_type": "code",
   "execution_count": null,
   "source": [
    "import matplotlib.pylab as plt\n",
    "from nilearn import plotting\n",
    "fig, ax = plt.subplots(figsize=(15, 7))\n",
    "\n",
    "display = plotting.plot_glass_brain(\n",
    "            None, display_mode='lzry', figure=fig, axes=ax)\n",
    "\n",
    "display.add_markers(fwd_mni[mstc > 0], marker_color='green', alpha=0.2)\n",
    "display.add_markers(fwd_mni[pstc > 0], marker_color='indigo', alpha=0.2)\n",
    "display.add_markers(fwd_mni[rstc > 0], marker_color='tomato', alpha=0.2)"
   ],
   "outputs": [],
   "metadata": {}
  },
  {
   "cell_type": "code",
   "execution_count": null,
   "source": [],
   "outputs": [],
   "metadata": {}
  },
  {
   "cell_type": "code",
   "execution_count": null,
   "source": [],
   "outputs": [],
   "metadata": {}
  }
 ],
 "metadata": {
  "orig_nbformat": 4,
  "language_info": {
   "name": "python",
   "version": "3.7.11",
   "mimetype": "text/x-python",
   "codemirror_mode": {
    "name": "ipython",
    "version": 3
   },
   "pygments_lexer": "ipython3",
   "nbconvert_exporter": "python",
   "file_extension": ".py"
  },
  "kernelspec": {
   "name": "python3",
   "display_name": "Python 3.7.11 64-bit ('megspikestest': conda)"
  },
  "interpreter": {
   "hash": "37732edc184cd8feb6d7d65a8840db4fd8abcafc568650f219e12bf02a885ccf"
  }
 },
 "nbformat": 4,
 "nbformat_minor": 2
}