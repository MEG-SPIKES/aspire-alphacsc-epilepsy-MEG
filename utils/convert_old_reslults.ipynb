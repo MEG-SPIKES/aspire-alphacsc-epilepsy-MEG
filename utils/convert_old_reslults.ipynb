{
 "cells": [
  {
   "cell_type": "code",
   "execution_count": 1,
   "source": [
    "import xarray as xr\n",
    "import megspikes.database.database as db\n",
    "import mne\n",
    "import numpy as np\n",
    "try:\n",
    "    import nixio\n",
    "except Exception:\n",
    "    !pip install nixio==1.5.0\n",
    "    import nixio\n",
    "\n",
    "mne.set_log_level(\"ERROR\")\n",
    "\n",
    "%load_ext autoreload\n",
    "%autoreload 2"
   ],
   "outputs": [
    {
     "output_type": "stream",
     "name": "stdout",
     "text": [
      "The autoreload extension is already loaded. To reload it, use:\n",
      "  %reload_ext autoreload\n"
     ]
    }
   ],
   "metadata": {}
  },
  {
   "cell_type": "markdown",
   "source": [
    "'PeakDetector_mag_run_3' -> 'data_frames' -> 'Detections cleaned', 'Detections all', 'Detected spikes final', 'Components properties' -> 'selected'\n",
    "\n",
    "'AlphaCSC_mag_run_3' -> 'data_frames' -> 'Clustering results', 'Components properties'\n",
    "\n",
    "'AlphaCSC_mag_run_3' -> 'u_hat', 'v_hat', 'z_hat'\n",
    "\n",
    "'ROC' -> 'data_frames' -> 'Atoms'\n"
   ],
   "metadata": {}
  },
  {
   "cell_type": "code",
   "execution_count": 2,
   "source": [
    "from convert_old_results import convert_results\n",
    "from casemanager import CaseManager\n",
    "\n",
    "for subj in range(1, 8):\n",
    "    case = CaseManager(subj)\n",
    "    clusters = convert_results(case)\n",
    "    print(f\"Subject {subj} DONE\")\n",
    "    "
   ],
   "outputs": [
    {
     "output_type": "stream",
     "name": "stdout",
     "text": [
      "Subject 1 DONE\n",
      "Subject 2 DONE\n"
     ]
    },
    {
     "output_type": "stream",
     "name": "stderr",
     "text": [
      "/opt/anaconda3/envs/megspikestest/lib/python3.7/site-packages/megspikes/database/database.py:744: UserWarning: cluster_properties.loc[{'cluster_property': ['selected_for_iz_prediction']}] values are all the same\n",
      "  f\"{da_name}.loc[{selection}] values are all the same\")\n"
     ]
    },
    {
     "output_type": "stream",
     "name": "stdout",
     "text": [
      "Subject 3 DONE\n",
      "Subject 4 DONE\n",
      "Subject 5 DONE\n",
      "Subject 6 DONE\n",
      "Subject 7 DONE\n"
     ]
    }
   ],
   "metadata": {}
  },
  {
   "cell_type": "code",
   "execution_count": null,
   "source": [],
   "outputs": [],
   "metadata": {}
  },
  {
   "cell_type": "code",
   "execution_count": null,
   "source": [],
   "outputs": [],
   "metadata": {}
  }
 ],
 "metadata": {
  "orig_nbformat": 4,
  "language_info": {
   "name": "python",
   "version": "3.7.11",
   "mimetype": "text/x-python",
   "codemirror_mode": {
    "name": "ipython",
    "version": 3
   },
   "pygments_lexer": "ipython3",
   "nbconvert_exporter": "python",
   "file_extension": ".py"
  },
  "kernelspec": {
   "name": "python3",
   "display_name": "Python 3.7.11 64-bit ('megspikestest': conda)"
  },
  "interpreter": {
   "hash": "37732edc184cd8feb6d7d65a8840db4fd8abcafc568650f219e12bf02a885ccf"
  }
 },
 "nbformat": 4,
 "nbformat_minor": 2
}