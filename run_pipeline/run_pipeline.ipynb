{
 "cells": [
  {
   "cell_type": "code",
   "execution_count": null,
   "source": [
    "from megspikes.pipeline import aspire_alphacsc_pipeline\n",
    "from megspikes.casemanager.casemanager import CaseManager\n",
    "import logging\n",
    "import warnings\n",
    "warnings.filterwarnings(\"ignore\", category=DeprecationWarning) \n",
    "logger = logging.getLogger()\n",
    "logger.setLevel(logging.INFO)\n",
    "logging.debug(\"test debug\")\n",
    "logging.info(\"test info\")\n",
    "\n",
    "from sklearn import set_config\n",
    "set_config(display='diagram')\n",
    "%load_ext autoreload\n",
    "%autoreload 2"
   ],
   "outputs": [],
   "metadata": {}
  },
  {
   "cell_type": "markdown",
   "source": [
    "### Prepare CaseManager"
   ],
   "metadata": {}
  },
  {
   "cell_type": "code",
   "execution_count": null,
   "source": [
    "case = CaseManager(\n",
    "    root='',\n",
    "    case= '',\n",
    "    free_surfer= '')\n",
    "case.set_basic_folders()\n",
    "case.select_fif_file(case.run)\n",
    "case.prepare_forward_model()"
   ],
   "outputs": [],
   "metadata": {}
  },
  {
   "cell_type": "markdown",
   "source": [
    "### Set parameters"
   ],
   "metadata": {}
  },
  {
   "cell_type": "code",
   "execution_count": null,
   "source": [
    "params = {\n",
    "    'n_ica_components': 20,\n",
    "    'n_runs': 4,\n",
    "    'runs': [0, 1, 2, 3],\n",
    "    'n_atoms': 3,\n",
    "    'PeakDetection': {'width': 2},\n",
    "    'CleanDetections': {'n_cleaned_peaks': 2000},\n",
    "    'SelectAlphacscEvents': {\n",
    "        'z_hat_threshold': 7.,\n",
    "        'z_hat_threshold_min': 1.5}\n",
    "}"
   ],
   "outputs": [],
   "metadata": {}
  },
  {
   "cell_type": "markdown",
   "source": [
    "### Create pipeline"
   ],
   "metadata": {}
  },
  {
   "cell_type": "code",
   "execution_count": null,
   "source": [
    "pipe = aspire_alphacsc_pipeline(case, params)\n",
    "pipe"
   ],
   "outputs": [],
   "metadata": {}
  },
  {
   "cell_type": "markdown",
   "source": [
    "### Run pipeline"
   ],
   "metadata": {}
  },
  {
   "cell_type": "code",
   "execution_count": null,
   "source": [
    "dataset, raw = pipe.fit_transform(None)"
   ],
   "outputs": [],
   "metadata": {}
  }
 ],
 "metadata": {
  "orig_nbformat": 4,
  "language_info": {
   "name": "python"
  }
 },
 "nbformat": 4,
 "nbformat_minor": 2
}